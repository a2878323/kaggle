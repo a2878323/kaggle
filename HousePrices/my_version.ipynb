{
 "cells": [
  {
   "cell_type": "markdown",
   "metadata": {
    "colab_type": "text",
    "id": "noPeruK2bZVG"
   },
   "source": [
    "## HousePrices Kaggle"
   ]
  },
  {
   "cell_type": "markdown",
   "metadata": {
    "colab_type": "text",
    "id": "_gmfErkfbZVH"
   },
   "source": [
    "## 分析流程\n",
    "\n",
    "### 1.資料匯入\n",
    "- 匯入套件 \n",
    "- 讀取資料\n",
    "### 2.資料確認\n",
    "- 檢查有無遺失值，補入遺失值\n",
    "- 資料檢視\n",
    "- 有無離群值\n",
    "### 3.變數工程\n",
    "- 新增變數\n",
    "- 調整連續行變數尺規\n",
    "- 平滑預測變數\n",
    "- 類別行變數調整為dummy variable\n",
    "### 4.變數檢視\n",
    "- 關聯性\n",
    "- IV\n",
    "- 分群\n",
    "### 5.建模\n",
    "- xgboost\n",
    "- svm\n",
    "- 類神經\n",
    "- ML ...\n",
    "### 6. Stacking\n",
    "- ensemble\n",
    "\n"
   ]
  },
  {
   "cell_type": "markdown",
   "metadata": {
    "colab_type": "text",
    "id": "7IelTiNRbZVJ"
   },
   "source": [
    "### 1.資料匯入\n",
    "- 匯入套件"
   ]
  },
  {
   "cell_type": "code",
   "execution_count": 1,
   "metadata": {
    "colab": {},
    "colab_type": "code",
    "id": "NM0syaywbZVJ"
   },
   "outputs": [],
   "source": [
    "#import some necessary librairies\n",
    "\n",
    "import numpy as np # linear algebra\n",
    "import pandas as pd # data processing, CSV file I/O (e.g. pd.read_csv)\n",
    "%matplotlib inline\n",
    "import matplotlib.pyplot as plt  # Matlab-style plotting\n",
    "import seaborn as sns\n",
    "\n",
    "from scipy import stats\n",
    "from scipy.stats import norm, skew #for some statistics\n",
    "\n",
    "from sklearn import preprocessing\n",
    "\n",
    "#小數點取到第三位\n",
    "pd.set_option('display.float_format', lambda x: '{:.3f}'.format(x)) \n"
   ]
  },
  {
   "cell_type": "markdown",
   "metadata": {
    "colab_type": "text",
    "id": "q1JofmPHbZVM"
   },
   "source": [
    "### 1.資料匯入\n",
    "- 讀取資料"
   ]
  },
  {
   "cell_type": "code",
   "execution_count": 2,
   "metadata": {
    "colab": {},
    "colab_type": "code",
    "id": "ycfutF_tbZVO",
    "outputId": "b25094cf-f1f3-4ab6-da8e-567f856d8a8b"
   },
   "outputs": [
    {
     "name": "stdout",
     "output_type": "stream",
     "text": [
      "2919 1460 1459\n"
     ]
    },
    {
     "name": "stderr",
     "output_type": "stream",
     "text": [
      "C:\\Users\\Hsien\\Anaconda3\\lib\\site-packages\\ipykernel_launcher.py:7: FutureWarning: Sorting because non-concatenation axis is not aligned. A future version\n",
      "of pandas will change to not sort by default.\n",
      "\n",
      "To accept the future behavior, pass 'sort=False'.\n",
      "\n",
      "To retain the current behavior and silence the warning, pass 'sort=True'.\n",
      "\n",
      "  import sys\n"
     ]
    }
   ],
   "source": [
    "train = pd.read_csv('train.csv')\n",
    "test = pd.read_csv('test.csv')\n",
    "#train.head()\n",
    "#test.head()\n",
    "train['flag'] ='train'\n",
    "test['flag'] ='test'\n",
    "fulldata = pd.concat((train, test)).reset_index(drop=True) \n",
    "#fulldata.head()\n",
    "#看資料筆數\n",
    "print(len(fulldata),len(train),len(test))"
   ]
  },
  {
   "cell_type": "code",
   "execution_count": 3,
   "metadata": {
    "colab": {},
    "colab_type": "code",
    "id": "qM8MZSm5bZVS",
    "outputId": "8cd2b877-dd09-4aa1-999b-a57d3cb758fb"
   },
   "outputs": [
    {
     "data": {
      "text/plain": [
       "Index([], dtype='object')"
      ]
     },
     "execution_count": 3,
     "metadata": {},
     "output_type": "execute_result"
    }
   ],
   "source": [
    "#取出類別行變數與連續行變數\n",
    "category_var = fulldata.select_dtypes(['object']).columns \n",
    "conti_var = fulldata.select_dtypes(exclude=['object']).columns \n",
    "#category_var\n",
    "#conti_var\n",
    "#檢查有無交集，空集合是對的\n",
    "category_var.intersection(conti_var )"
   ]
  },
  {
   "cell_type": "markdown",
   "metadata": {
    "colab_type": "text",
    "id": "3WcovGsRbZVW"
   },
   "source": [
    "### 資料確認\n",
    "- 檢查遺失值"
   ]
  },
  {
   "cell_type": "code",
   "execution_count": 4,
   "metadata": {
    "colab": {},
    "colab_type": "code",
    "id": "hIEqvR8tbZVW",
    "outputId": "0e7f3a90-b26c-4f12-fe44-b2addc29e597"
   },
   "outputs": [
    {
     "name": "stderr",
     "output_type": "stream",
     "text": [
      "C:\\Users\\Hsien\\Anaconda3\\lib\\site-packages\\ipykernel_launcher.py:2: FutureWarning: Sorting because non-concatenation axis is not aligned. A future version\n",
      "of pandas will change to not sort by default.\n",
      "\n",
      "To accept the future behavior, pass 'sort=False'.\n",
      "\n",
      "To retain the current behavior and silence the warning, pass 'sort=True'.\n",
      "\n",
      "  \n"
     ]
    },
    {
     "data": {
      "text/html": [
       "<div>\n",
       "<style scoped>\n",
       "    .dataframe tbody tr th:only-of-type {\n",
       "        vertical-align: middle;\n",
       "    }\n",
       "\n",
       "    .dataframe tbody tr th {\n",
       "        vertical-align: top;\n",
       "    }\n",
       "\n",
       "    .dataframe thead th {\n",
       "        text-align: right;\n",
       "    }\n",
       "</style>\n",
       "<table border=\"1\" class=\"dataframe\">\n",
       "  <thead>\n",
       "    <tr style=\"text-align: right;\">\n",
       "      <th></th>\n",
       "      <th>Train</th>\n",
       "      <th>Test</th>\n",
       "      <th>Total</th>\n",
       "      <th>Missing sum</th>\n",
       "      <th>Missing percent</th>\n",
       "    </tr>\n",
       "  </thead>\n",
       "  <tbody>\n",
       "    <tr>\n",
       "      <th>Alley</th>\n",
       "      <td>1369</td>\n",
       "      <td>1352.000</td>\n",
       "      <td>2919</td>\n",
       "      <td>2721.000</td>\n",
       "      <td>0.932</td>\n",
       "    </tr>\n",
       "    <tr>\n",
       "      <th>BsmtCond</th>\n",
       "      <td>37</td>\n",
       "      <td>45.000</td>\n",
       "      <td>2919</td>\n",
       "      <td>82.000</td>\n",
       "      <td>0.028</td>\n",
       "    </tr>\n",
       "    <tr>\n",
       "      <th>BsmtExposure</th>\n",
       "      <td>38</td>\n",
       "      <td>44.000</td>\n",
       "      <td>2919</td>\n",
       "      <td>82.000</td>\n",
       "      <td>0.028</td>\n",
       "    </tr>\n",
       "    <tr>\n",
       "      <th>BsmtFinSF1</th>\n",
       "      <td>0</td>\n",
       "      <td>1.000</td>\n",
       "      <td>2919</td>\n",
       "      <td>1.000</td>\n",
       "      <td>0.000</td>\n",
       "    </tr>\n",
       "    <tr>\n",
       "      <th>BsmtFinSF2</th>\n",
       "      <td>0</td>\n",
       "      <td>1.000</td>\n",
       "      <td>2919</td>\n",
       "      <td>1.000</td>\n",
       "      <td>0.000</td>\n",
       "    </tr>\n",
       "    <tr>\n",
       "      <th>BsmtFinType1</th>\n",
       "      <td>37</td>\n",
       "      <td>42.000</td>\n",
       "      <td>2919</td>\n",
       "      <td>79.000</td>\n",
       "      <td>0.027</td>\n",
       "    </tr>\n",
       "    <tr>\n",
       "      <th>BsmtFinType2</th>\n",
       "      <td>38</td>\n",
       "      <td>42.000</td>\n",
       "      <td>2919</td>\n",
       "      <td>80.000</td>\n",
       "      <td>0.027</td>\n",
       "    </tr>\n",
       "    <tr>\n",
       "      <th>BsmtFullBath</th>\n",
       "      <td>0</td>\n",
       "      <td>2.000</td>\n",
       "      <td>2919</td>\n",
       "      <td>2.000</td>\n",
       "      <td>0.001</td>\n",
       "    </tr>\n",
       "    <tr>\n",
       "      <th>BsmtHalfBath</th>\n",
       "      <td>0</td>\n",
       "      <td>2.000</td>\n",
       "      <td>2919</td>\n",
       "      <td>2.000</td>\n",
       "      <td>0.001</td>\n",
       "    </tr>\n",
       "    <tr>\n",
       "      <th>BsmtQual</th>\n",
       "      <td>37</td>\n",
       "      <td>44.000</td>\n",
       "      <td>2919</td>\n",
       "      <td>81.000</td>\n",
       "      <td>0.028</td>\n",
       "    </tr>\n",
       "    <tr>\n",
       "      <th>BsmtUnfSF</th>\n",
       "      <td>0</td>\n",
       "      <td>1.000</td>\n",
       "      <td>2919</td>\n",
       "      <td>1.000</td>\n",
       "      <td>0.000</td>\n",
       "    </tr>\n",
       "    <tr>\n",
       "      <th>Electrical</th>\n",
       "      <td>1</td>\n",
       "      <td>0.000</td>\n",
       "      <td>2919</td>\n",
       "      <td>1.000</td>\n",
       "      <td>0.000</td>\n",
       "    </tr>\n",
       "    <tr>\n",
       "      <th>Exterior1st</th>\n",
       "      <td>0</td>\n",
       "      <td>1.000</td>\n",
       "      <td>2919</td>\n",
       "      <td>1.000</td>\n",
       "      <td>0.000</td>\n",
       "    </tr>\n",
       "    <tr>\n",
       "      <th>Exterior2nd</th>\n",
       "      <td>0</td>\n",
       "      <td>1.000</td>\n",
       "      <td>2919</td>\n",
       "      <td>1.000</td>\n",
       "      <td>0.000</td>\n",
       "    </tr>\n",
       "    <tr>\n",
       "      <th>Fence</th>\n",
       "      <td>1179</td>\n",
       "      <td>1169.000</td>\n",
       "      <td>2919</td>\n",
       "      <td>2348.000</td>\n",
       "      <td>0.804</td>\n",
       "    </tr>\n",
       "    <tr>\n",
       "      <th>FireplaceQu</th>\n",
       "      <td>690</td>\n",
       "      <td>730.000</td>\n",
       "      <td>2919</td>\n",
       "      <td>1420.000</td>\n",
       "      <td>0.486</td>\n",
       "    </tr>\n",
       "    <tr>\n",
       "      <th>Functional</th>\n",
       "      <td>0</td>\n",
       "      <td>2.000</td>\n",
       "      <td>2919</td>\n",
       "      <td>2.000</td>\n",
       "      <td>0.001</td>\n",
       "    </tr>\n",
       "    <tr>\n",
       "      <th>GarageArea</th>\n",
       "      <td>0</td>\n",
       "      <td>1.000</td>\n",
       "      <td>2919</td>\n",
       "      <td>1.000</td>\n",
       "      <td>0.000</td>\n",
       "    </tr>\n",
       "    <tr>\n",
       "      <th>GarageCars</th>\n",
       "      <td>0</td>\n",
       "      <td>1.000</td>\n",
       "      <td>2919</td>\n",
       "      <td>1.000</td>\n",
       "      <td>0.000</td>\n",
       "    </tr>\n",
       "    <tr>\n",
       "      <th>GarageCond</th>\n",
       "      <td>81</td>\n",
       "      <td>78.000</td>\n",
       "      <td>2919</td>\n",
       "      <td>159.000</td>\n",
       "      <td>0.054</td>\n",
       "    </tr>\n",
       "    <tr>\n",
       "      <th>GarageFinish</th>\n",
       "      <td>81</td>\n",
       "      <td>78.000</td>\n",
       "      <td>2919</td>\n",
       "      <td>159.000</td>\n",
       "      <td>0.054</td>\n",
       "    </tr>\n",
       "    <tr>\n",
       "      <th>GarageQual</th>\n",
       "      <td>81</td>\n",
       "      <td>78.000</td>\n",
       "      <td>2919</td>\n",
       "      <td>159.000</td>\n",
       "      <td>0.054</td>\n",
       "    </tr>\n",
       "    <tr>\n",
       "      <th>GarageType</th>\n",
       "      <td>81</td>\n",
       "      <td>76.000</td>\n",
       "      <td>2919</td>\n",
       "      <td>157.000</td>\n",
       "      <td>0.054</td>\n",
       "    </tr>\n",
       "    <tr>\n",
       "      <th>GarageYrBlt</th>\n",
       "      <td>81</td>\n",
       "      <td>78.000</td>\n",
       "      <td>2919</td>\n",
       "      <td>159.000</td>\n",
       "      <td>0.054</td>\n",
       "    </tr>\n",
       "    <tr>\n",
       "      <th>KitchenQual</th>\n",
       "      <td>0</td>\n",
       "      <td>1.000</td>\n",
       "      <td>2919</td>\n",
       "      <td>1.000</td>\n",
       "      <td>0.000</td>\n",
       "    </tr>\n",
       "    <tr>\n",
       "      <th>LotFrontage</th>\n",
       "      <td>259</td>\n",
       "      <td>227.000</td>\n",
       "      <td>2919</td>\n",
       "      <td>486.000</td>\n",
       "      <td>0.166</td>\n",
       "    </tr>\n",
       "    <tr>\n",
       "      <th>MSZoning</th>\n",
       "      <td>0</td>\n",
       "      <td>4.000</td>\n",
       "      <td>2919</td>\n",
       "      <td>4.000</td>\n",
       "      <td>0.001</td>\n",
       "    </tr>\n",
       "    <tr>\n",
       "      <th>MasVnrArea</th>\n",
       "      <td>8</td>\n",
       "      <td>15.000</td>\n",
       "      <td>2919</td>\n",
       "      <td>23.000</td>\n",
       "      <td>0.008</td>\n",
       "    </tr>\n",
       "    <tr>\n",
       "      <th>MasVnrType</th>\n",
       "      <td>8</td>\n",
       "      <td>16.000</td>\n",
       "      <td>2919</td>\n",
       "      <td>24.000</td>\n",
       "      <td>0.008</td>\n",
       "    </tr>\n",
       "    <tr>\n",
       "      <th>MiscFeature</th>\n",
       "      <td>1406</td>\n",
       "      <td>1408.000</td>\n",
       "      <td>2919</td>\n",
       "      <td>2814.000</td>\n",
       "      <td>0.964</td>\n",
       "    </tr>\n",
       "    <tr>\n",
       "      <th>PoolQC</th>\n",
       "      <td>1453</td>\n",
       "      <td>1456.000</td>\n",
       "      <td>2919</td>\n",
       "      <td>2909.000</td>\n",
       "      <td>0.997</td>\n",
       "    </tr>\n",
       "    <tr>\n",
       "      <th>SaleType</th>\n",
       "      <td>0</td>\n",
       "      <td>1.000</td>\n",
       "      <td>2919</td>\n",
       "      <td>1.000</td>\n",
       "      <td>0.000</td>\n",
       "    </tr>\n",
       "    <tr>\n",
       "      <th>TotalBsmtSF</th>\n",
       "      <td>0</td>\n",
       "      <td>1.000</td>\n",
       "      <td>2919</td>\n",
       "      <td>1.000</td>\n",
       "      <td>0.000</td>\n",
       "    </tr>\n",
       "    <tr>\n",
       "      <th>Utilities</th>\n",
       "      <td>0</td>\n",
       "      <td>2.000</td>\n",
       "      <td>2919</td>\n",
       "      <td>2.000</td>\n",
       "      <td>0.001</td>\n",
       "    </tr>\n",
       "  </tbody>\n",
       "</table>\n",
       "</div>"
      ],
      "text/plain": [
       "              Train     Test  Total  Missing sum  Missing percent\n",
       "Alley          1369 1352.000   2919     2721.000            0.932\n",
       "BsmtCond         37   45.000   2919       82.000            0.028\n",
       "BsmtExposure     38   44.000   2919       82.000            0.028\n",
       "BsmtFinSF1        0    1.000   2919        1.000            0.000\n",
       "BsmtFinSF2        0    1.000   2919        1.000            0.000\n",
       "BsmtFinType1     37   42.000   2919       79.000            0.027\n",
       "BsmtFinType2     38   42.000   2919       80.000            0.027\n",
       "BsmtFullBath      0    2.000   2919        2.000            0.001\n",
       "BsmtHalfBath      0    2.000   2919        2.000            0.001\n",
       "BsmtQual         37   44.000   2919       81.000            0.028\n",
       "BsmtUnfSF         0    1.000   2919        1.000            0.000\n",
       "Electrical        1    0.000   2919        1.000            0.000\n",
       "Exterior1st       0    1.000   2919        1.000            0.000\n",
       "Exterior2nd       0    1.000   2919        1.000            0.000\n",
       "Fence          1179 1169.000   2919     2348.000            0.804\n",
       "FireplaceQu     690  730.000   2919     1420.000            0.486\n",
       "Functional        0    2.000   2919        2.000            0.001\n",
       "GarageArea        0    1.000   2919        1.000            0.000\n",
       "GarageCars        0    1.000   2919        1.000            0.000\n",
       "GarageCond       81   78.000   2919      159.000            0.054\n",
       "GarageFinish     81   78.000   2919      159.000            0.054\n",
       "GarageQual       81   78.000   2919      159.000            0.054\n",
       "GarageType       81   76.000   2919      157.000            0.054\n",
       "GarageYrBlt      81   78.000   2919      159.000            0.054\n",
       "KitchenQual       0    1.000   2919        1.000            0.000\n",
       "LotFrontage     259  227.000   2919      486.000            0.166\n",
       "MSZoning          0    4.000   2919        4.000            0.001\n",
       "MasVnrArea        8   15.000   2919       23.000            0.008\n",
       "MasVnrType        8   16.000   2919       24.000            0.008\n",
       "MiscFeature    1406 1408.000   2919     2814.000            0.964\n",
       "PoolQC         1453 1456.000   2919     2909.000            0.997\n",
       "SaleType          0    1.000   2919        1.000            0.000\n",
       "TotalBsmtSF       0    1.000   2919        1.000            0.000\n",
       "Utilities         0    2.000   2919        2.000            0.001"
      ]
     },
     "execution_count": 4,
     "metadata": {},
     "output_type": "execute_result"
    }
   ],
   "source": [
    "#concat(物件，axis=1 => 直的排，keys=物件源)\n",
    "NAs = pd.concat([train.isnull().sum(), test.isnull().sum()], axis=1, keys=['Train', 'Test'])\n",
    "NAs['Total'] = len(fulldata)\n",
    "NAs['Missing sum'] = NAs['Train'] + NAs['Test']\n",
    "NAs['Missing percent'] = NAs['Missing sum'] / NAs['Total']\n",
    "#挑出有NA的欄位\n",
    "NAs[NAs['Missing sum']> 0]"
   ]
  },
  {
   "cell_type": "markdown",
   "metadata": {
    "colab_type": "text",
    "id": "1tiuGk9HbZVa"
   },
   "source": [
    "### 2.資料確認\n",
    "- 補入遺失值"
   ]
  },
  {
   "cell_type": "code",
   "execution_count": 5,
   "metadata": {
    "colab": {},
    "colab_type": "code",
    "id": "N3BtqVxobZVb",
    "outputId": "bc38b6e9-d7d9-485b-afdd-079d48a9de30"
   },
   "outputs": [
    {
     "name": "stdout",
     "output_type": "stream",
     "text": [
      "Electrical遺失值補SBrkr\n",
      "Exterior1st遺失值補VinylSd\n",
      "Exterior2nd遺失值補VinylSd\n",
      "Functional遺失值補Typ\n",
      "KitchenQual遺失值補TA\n",
      "MSZoning遺失值補RL\n",
      "SaleType遺失值補WD\n",
      "Utilities遺失值補AllPub\n"
     ]
    }
   ],
   "source": [
    "#取出類別型遺失值<5的欄位\n",
    "m1 = NAs[(NAs['Missing sum']>0) & (NAs['Missing sum']<5)].index\n",
    "for col in category_var.intersection(m1):\n",
    "    #print (col,fulldata[col].value_counts())\n",
    "    fulldata[col].fillna(fulldata[col].value_counts().keys()[0], inplace=True)\n",
    "    print(col +'遺失值補' + fulldata[col].value_counts().keys()[0])"
   ]
  },
  {
   "cell_type": "code",
   "execution_count": 6,
   "metadata": {
    "colab": {},
    "colab_type": "code",
    "id": "VLm0tZQdbZVe",
    "outputId": "2f76fae9-f2e9-4ed9-81e2-5b9e7158c25e"
   },
   "outputs": [
    {
     "name": "stdout",
     "output_type": "stream",
     "text": [
      "BsmtFinSF1遺失值補0\n",
      "BsmtFinSF2遺失值補0\n",
      "BsmtFullBath遺失值補0\n",
      "BsmtHalfBath遺失值補0\n",
      "BsmtUnfSF遺失值補0\n",
      "GarageArea遺失值補0\n",
      "GarageCars遺失值補0\n",
      "TotalBsmtSF遺失值補0\n"
     ]
    }
   ],
   "source": [
    "#取出連續型遺失值<5的欄位\n",
    "m2 = NAs[(NAs['Missing sum']>0) & (NAs['Missing sum']<5)].index\n",
    "for col in conti_var.intersection(m2):\n",
    "    #print (col,fulldata[col].value_counts())\n",
    "    fulldata[col].fillna(0, inplace=True)\n",
    "    print(col +'遺失值補' + '0')"
   ]
  },
  {
   "cell_type": "code",
   "execution_count": 7,
   "metadata": {
    "colab": {},
    "colab_type": "code",
    "id": "QYH_XyS9bZVh",
    "outputId": "52903b6e-a6e5-45aa-fc63-3ad23b152b21"
   },
   "outputs": [
    {
     "data": {
      "text/html": [
       "<div>\n",
       "<style scoped>\n",
       "    .dataframe tbody tr th:only-of-type {\n",
       "        vertical-align: middle;\n",
       "    }\n",
       "\n",
       "    .dataframe tbody tr th {\n",
       "        vertical-align: top;\n",
       "    }\n",
       "\n",
       "    .dataframe thead th {\n",
       "        text-align: right;\n",
       "    }\n",
       "</style>\n",
       "<table border=\"1\" class=\"dataframe\">\n",
       "  <thead>\n",
       "    <tr style=\"text-align: right;\">\n",
       "      <th></th>\n",
       "      <th>Train</th>\n",
       "      <th>Test</th>\n",
       "      <th>Total</th>\n",
       "      <th>Missing sum</th>\n",
       "      <th>Missing percent</th>\n",
       "    </tr>\n",
       "  </thead>\n",
       "  <tbody>\n",
       "    <tr>\n",
       "      <th>Alley</th>\n",
       "      <td>1369</td>\n",
       "      <td>1352</td>\n",
       "      <td>2919</td>\n",
       "      <td>2721</td>\n",
       "      <td>0.932</td>\n",
       "    </tr>\n",
       "    <tr>\n",
       "      <th>BsmtCond</th>\n",
       "      <td>37</td>\n",
       "      <td>45</td>\n",
       "      <td>2919</td>\n",
       "      <td>82</td>\n",
       "      <td>0.028</td>\n",
       "    </tr>\n",
       "    <tr>\n",
       "      <th>BsmtExposure</th>\n",
       "      <td>38</td>\n",
       "      <td>44</td>\n",
       "      <td>2919</td>\n",
       "      <td>82</td>\n",
       "      <td>0.028</td>\n",
       "    </tr>\n",
       "    <tr>\n",
       "      <th>BsmtFinType1</th>\n",
       "      <td>37</td>\n",
       "      <td>42</td>\n",
       "      <td>2919</td>\n",
       "      <td>79</td>\n",
       "      <td>0.027</td>\n",
       "    </tr>\n",
       "    <tr>\n",
       "      <th>BsmtFinType2</th>\n",
       "      <td>38</td>\n",
       "      <td>42</td>\n",
       "      <td>2919</td>\n",
       "      <td>80</td>\n",
       "      <td>0.027</td>\n",
       "    </tr>\n",
       "    <tr>\n",
       "      <th>BsmtQual</th>\n",
       "      <td>37</td>\n",
       "      <td>44</td>\n",
       "      <td>2919</td>\n",
       "      <td>81</td>\n",
       "      <td>0.028</td>\n",
       "    </tr>\n",
       "    <tr>\n",
       "      <th>Fence</th>\n",
       "      <td>1179</td>\n",
       "      <td>1169</td>\n",
       "      <td>2919</td>\n",
       "      <td>2348</td>\n",
       "      <td>0.804</td>\n",
       "    </tr>\n",
       "    <tr>\n",
       "      <th>FireplaceQu</th>\n",
       "      <td>690</td>\n",
       "      <td>730</td>\n",
       "      <td>2919</td>\n",
       "      <td>1420</td>\n",
       "      <td>0.486</td>\n",
       "    </tr>\n",
       "    <tr>\n",
       "      <th>GarageCond</th>\n",
       "      <td>81</td>\n",
       "      <td>78</td>\n",
       "      <td>2919</td>\n",
       "      <td>159</td>\n",
       "      <td>0.054</td>\n",
       "    </tr>\n",
       "    <tr>\n",
       "      <th>GarageFinish</th>\n",
       "      <td>81</td>\n",
       "      <td>78</td>\n",
       "      <td>2919</td>\n",
       "      <td>159</td>\n",
       "      <td>0.054</td>\n",
       "    </tr>\n",
       "    <tr>\n",
       "      <th>GarageQual</th>\n",
       "      <td>81</td>\n",
       "      <td>78</td>\n",
       "      <td>2919</td>\n",
       "      <td>159</td>\n",
       "      <td>0.054</td>\n",
       "    </tr>\n",
       "    <tr>\n",
       "      <th>GarageType</th>\n",
       "      <td>81</td>\n",
       "      <td>76</td>\n",
       "      <td>2919</td>\n",
       "      <td>157</td>\n",
       "      <td>0.054</td>\n",
       "    </tr>\n",
       "    <tr>\n",
       "      <th>GarageYrBlt</th>\n",
       "      <td>81</td>\n",
       "      <td>78</td>\n",
       "      <td>2919</td>\n",
       "      <td>159</td>\n",
       "      <td>0.054</td>\n",
       "    </tr>\n",
       "    <tr>\n",
       "      <th>LotFrontage</th>\n",
       "      <td>259</td>\n",
       "      <td>227</td>\n",
       "      <td>2919</td>\n",
       "      <td>486</td>\n",
       "      <td>0.166</td>\n",
       "    </tr>\n",
       "    <tr>\n",
       "      <th>MasVnrArea</th>\n",
       "      <td>8</td>\n",
       "      <td>15</td>\n",
       "      <td>2919</td>\n",
       "      <td>23</td>\n",
       "      <td>0.008</td>\n",
       "    </tr>\n",
       "    <tr>\n",
       "      <th>MasVnrType</th>\n",
       "      <td>8</td>\n",
       "      <td>16</td>\n",
       "      <td>2919</td>\n",
       "      <td>24</td>\n",
       "      <td>0.008</td>\n",
       "    </tr>\n",
       "    <tr>\n",
       "      <th>MiscFeature</th>\n",
       "      <td>1406</td>\n",
       "      <td>1408</td>\n",
       "      <td>2919</td>\n",
       "      <td>2814</td>\n",
       "      <td>0.964</td>\n",
       "    </tr>\n",
       "    <tr>\n",
       "      <th>PoolQC</th>\n",
       "      <td>1453</td>\n",
       "      <td>1456</td>\n",
       "      <td>2919</td>\n",
       "      <td>2909</td>\n",
       "      <td>0.997</td>\n",
       "    </tr>\n",
       "    <tr>\n",
       "      <th>SalePrice</th>\n",
       "      <td>0</td>\n",
       "      <td>1459</td>\n",
       "      <td>2919</td>\n",
       "      <td>1459</td>\n",
       "      <td>0.500</td>\n",
       "    </tr>\n",
       "  </tbody>\n",
       "</table>\n",
       "</div>"
      ],
      "text/plain": [
       "              Train  Test  Total  Missing sum  Missing percent\n",
       "Alley          1369  1352   2919         2721            0.932\n",
       "BsmtCond         37    45   2919           82            0.028\n",
       "BsmtExposure     38    44   2919           82            0.028\n",
       "BsmtFinType1     37    42   2919           79            0.027\n",
       "BsmtFinType2     38    42   2919           80            0.027\n",
       "BsmtQual         37    44   2919           81            0.028\n",
       "Fence          1179  1169   2919         2348            0.804\n",
       "FireplaceQu     690   730   2919         1420            0.486\n",
       "GarageCond       81    78   2919          159            0.054\n",
       "GarageFinish     81    78   2919          159            0.054\n",
       "GarageQual       81    78   2919          159            0.054\n",
       "GarageType       81    76   2919          157            0.054\n",
       "GarageYrBlt      81    78   2919          159            0.054\n",
       "LotFrontage     259   227   2919          486            0.166\n",
       "MasVnrArea        8    15   2919           23            0.008\n",
       "MasVnrType        8    16   2919           24            0.008\n",
       "MiscFeature    1406  1408   2919         2814            0.964\n",
       "PoolQC         1453  1456   2919         2909            0.997\n",
       "SalePrice         0  1459   2919         1459            0.500"
      ]
     },
     "execution_count": 7,
     "metadata": {},
     "output_type": "execute_result"
    }
   ],
   "source": [
    "NAs = pd.concat([fulldata[fulldata['flag']=='train'].isnull().sum(), fulldata[fulldata['flag']=='test'].isnull().sum()], axis=1, keys=['Train', 'Test'])\n",
    "NAs['Total'] = len(fulldata)\n",
    "NAs['Missing sum'] = NAs['Train'] + NAs['Test']\n",
    "NAs['Missing percent'] = NAs['Missing sum'] / NAs['Total']\n",
    "#挑出有NA的欄位\n",
    "NAs[NAs['Missing sum']> 0]"
   ]
  },
  {
   "cell_type": "markdown",
   "metadata": {
    "colab_type": "text",
    "id": "hYhkHBinbZVp"
   },
   "source": [
    "- 補入遺失值\n",
    "#### BsmtCond BsmtExposure BsmtFinType1 BsmtFinType2 BsmtQual\n",
    "#### GarageCond GarageFinish GarageQual GarageType GarageYrBlt \n",
    "#### MasVnrArea MasVnrType \n",
    "#### Fence FireplaceQu PoolQC Alley MiscFeature"
   ]
  },
  {
   "cell_type": "code",
   "execution_count": 8,
   "metadata": {
    "colab": {},
    "colab_type": "code",
    "id": "GWLn8u22bZVp"
   },
   "outputs": [],
   "source": [
    "#挑出Bsm系列變數觀察遺失值狀況，發現BsmtCond為空，其他皆為空，判斷為皆無地下室，填寫None\n",
    "b = fulldata[['BsmtCond','BsmtExposure','BsmtFinType1','BsmtFinType2','BsmtQual']]\n",
    "#b[fulldata['BsmtCond'].isnull()]"
   ]
  },
  {
   "cell_type": "code",
   "execution_count": 9,
   "metadata": {
    "colab": {},
    "colab_type": "code",
    "id": "QMc9v7DabZVs",
    "outputId": "150966b8-5b09-4760-d458-90645d0e70cf"
   },
   "outputs": [
    {
     "name": "stdout",
     "output_type": "stream",
     "text": [
      "BsmtCond遺失值補None\n",
      "BsmtExposure遺失值補None\n",
      "BsmtFinType1遺失值補None\n",
      "BsmtFinType2遺失值補None\n",
      "BsmtQual遺失值補None\n"
     ]
    }
   ],
   "source": [
    "for col in ['BsmtCond','BsmtExposure','BsmtFinType1','BsmtFinType2','BsmtQual']:\n",
    "    #print (col,fulldata[col].value_counts())\n",
    "    fulldata[col].fillna('None', inplace=True)\n",
    "    print(col +'遺失值補' + 'None')"
   ]
  },
  {
   "cell_type": "code",
   "execution_count": 10,
   "metadata": {
    "colab": {},
    "colab_type": "code",
    "id": "zl1skstXbZVy"
   },
   "outputs": [],
   "source": [
    "#挑出Garage系列變數觀察遺失值狀況，發現GarageCond為空，其他皆為空，判斷無車庫，填寫None\n",
    "g = fulldata[['GarageCond','GarageFinish','GarageQual','GarageType','GarageYrBlt']]\n",
    "#g[fulldata['GarageCond'].isnull()]"
   ]
  },
  {
   "cell_type": "code",
   "execution_count": 11,
   "metadata": {
    "colab": {},
    "colab_type": "code",
    "id": "L63yDVg0bZV1",
    "outputId": "2e92ecc0-cc7c-4b30-fba4-767ce8bcd9b9"
   },
   "outputs": [
    {
     "name": "stdout",
     "output_type": "stream",
     "text": [
      "GarageCond遺失值補None\n",
      "GarageFinish遺失值補None\n",
      "GarageQual遺失值補None\n",
      "GarageType遺失值補None\n"
     ]
    }
   ],
   "source": [
    "for col in ['GarageCond','GarageFinish','GarageQual','GarageType']:\n",
    "    #print (col,fulldata[col].value_counts())\n",
    "    fulldata[col].fillna('None', inplace=True)\n",
    "    print(col +'遺失值補' + 'None')\n",
    "\n",
    "fulldata['GarageYrBlt'].fillna(0, inplace=True)"
   ]
  },
  {
   "cell_type": "code",
   "execution_count": 12,
   "metadata": {
    "colab": {},
    "colab_type": "code",
    "id": "3LV0n-DabZV3"
   },
   "outputs": [],
   "source": [
    "#MasVnrArea=0 則 MasVnrType為NA\n",
    "m = fulldata[['MasVnrArea','MasVnrType']]\n",
    "#m[fulldata['MasVnrArea'].isnull()]\n",
    "fulldata['MasVnrType'].fillna('None', inplace=True)\n",
    "fulldata['MasVnrArea'].fillna(0, inplace=True)"
   ]
  },
  {
   "cell_type": "code",
   "execution_count": 13,
   "metadata": {
    "colab": {},
    "colab_type": "code",
    "id": "cPylTGHFbZV6",
    "outputId": "c176acd3-2025-4ae9-e07c-d6f02cecd583"
   },
   "outputs": [
    {
     "name": "stdout",
     "output_type": "stream",
     "text": [
      "Fence遺失值補None\n",
      "FireplaceQu遺失值補None\n",
      "PoolQC遺失值補None\n",
      "Alley遺失值補None\n",
      "MiscFeature遺失值補None\n"
     ]
    }
   ],
   "source": [
    "# Fence FireplaceQu PoolQC Alley PoolQC為空判斷為無此項設施\n",
    "for col in ['Fence', 'FireplaceQu', 'PoolQC' ,'Alley' ,'MiscFeature']:\n",
    "    #print (col,fulldata[col].value_counts())\n",
    "    fulldata[col].fillna('None', inplace=True)\n",
    "    print(col +'遺失值補' + 'None')\n",
    "    "
   ]
  },
  {
   "cell_type": "markdown",
   "metadata": {
    "colab_type": "text",
    "id": "2b8rnVRjbZV_"
   },
   "source": [
    "- 補入遺失值\n",
    "#### LotFrontage 用隨機森林補值"
   ]
  },
  {
   "cell_type": "code",
   "execution_count": 14,
   "metadata": {
    "colab": {},
    "colab_type": "code",
    "id": "p8bYBOKAbZV_",
    "outputId": "a1134556-de8c-41cf-fff7-12aa38779eb5"
   },
   "outputs": [
    {
     "name": "stderr",
     "output_type": "stream",
     "text": [
      "C:\\Users\\Hsien\\Anaconda3\\lib\\site-packages\\sklearn\\ensemble\\weight_boosting.py:29: DeprecationWarning: numpy.core.umath_tests is an internal NumPy module and should not be imported. It will be removed in a future NumPy release.\n",
      "  from numpy.core.umath_tests import inner1d\n"
     ]
    },
    {
     "data": {
      "text/html": [
       "<div>\n",
       "<style scoped>\n",
       "    .dataframe tbody tr th:only-of-type {\n",
       "        vertical-align: middle;\n",
       "    }\n",
       "\n",
       "    .dataframe tbody tr th {\n",
       "        vertical-align: top;\n",
       "    }\n",
       "\n",
       "    .dataframe thead th {\n",
       "        text-align: right;\n",
       "    }\n",
       "</style>\n",
       "<table border=\"1\" class=\"dataframe\">\n",
       "  <thead>\n",
       "    <tr style=\"text-align: right;\">\n",
       "      <th></th>\n",
       "      <th>Street</th>\n",
       "      <th>LotShape</th>\n",
       "      <th>LandContour</th>\n",
       "      <th>LotConfig</th>\n",
       "    </tr>\n",
       "  </thead>\n",
       "  <tbody>\n",
       "    <tr>\n",
       "      <th>0</th>\n",
       "      <td>1</td>\n",
       "      <td>3</td>\n",
       "      <td>3</td>\n",
       "      <td>4</td>\n",
       "    </tr>\n",
       "    <tr>\n",
       "      <th>1</th>\n",
       "      <td>1</td>\n",
       "      <td>3</td>\n",
       "      <td>3</td>\n",
       "      <td>2</td>\n",
       "    </tr>\n",
       "    <tr>\n",
       "      <th>2</th>\n",
       "      <td>1</td>\n",
       "      <td>0</td>\n",
       "      <td>3</td>\n",
       "      <td>4</td>\n",
       "    </tr>\n",
       "    <tr>\n",
       "      <th>3</th>\n",
       "      <td>1</td>\n",
       "      <td>0</td>\n",
       "      <td>3</td>\n",
       "      <td>0</td>\n",
       "    </tr>\n",
       "    <tr>\n",
       "      <th>4</th>\n",
       "      <td>1</td>\n",
       "      <td>0</td>\n",
       "      <td>3</td>\n",
       "      <td>2</td>\n",
       "    </tr>\n",
       "  </tbody>\n",
       "</table>\n",
       "</div>"
      ],
      "text/plain": [
       "   Street  LotShape  LandContour  LotConfig\n",
       "0       1         3            3          4\n",
       "1       1         3            3          2\n",
       "2       1         0            3          4\n",
       "3       1         0            3          0\n",
       "4       1         0            3          2"
      ]
     },
     "execution_count": 14,
     "metadata": {},
     "output_type": "execute_result"
    }
   ],
   "source": [
    "from sklearn.preprocessing import LabelEncoder\n",
    "from sklearn.ensemble import RandomForestRegressor\n",
    "\n",
    "def imputeMissing(df, idx, predictors):\n",
    "    tempdf = df[df[outcome].isnull()].index\n",
    "    tempndf = df[df[idx].notnull()].index\n",
    "    model = RandomForestRegressor(n_estimators=100) \n",
    "    model.fit(df.loc[tempndf, predictors], df.loc[tempndf, [outcome]]) \n",
    "    predict = model.predict(df.loc[tempndf, predictors])\n",
    "    j=0;\n",
    "    for i in tempdf:\n",
    "        df.loc[i,outcome] = predict[j]\n",
    "        j=j+1 \n",
    "    return(df)\n",
    "\n",
    "predictors=['LotArea','Street','LotShape','LandContour','LotConfig']\n",
    "outcome='LotFrontage'\n",
    "\n",
    "var_mod = ['Street','LotShape','LandContour','LotConfig']\n",
    "\n",
    "le = LabelEncoder()\n",
    "for i in var_mod:\n",
    "    fulldata[i] = le.fit_transform(fulldata[i].astype(str))\n",
    "fulldata[var_mod].head(5)"
   ]
  },
  {
   "cell_type": "code",
   "execution_count": 15,
   "metadata": {
    "colab": {},
    "colab_type": "code",
    "id": "TpOoLJhNbZWJ",
    "outputId": "b8d6a576-af36-47b4-c3a7-d7e24f5b79da"
   },
   "outputs": [
    {
     "name": "stderr",
     "output_type": "stream",
     "text": [
      "C:\\Users\\Hsien\\Anaconda3\\lib\\site-packages\\ipykernel_launcher.py:8: DataConversionWarning: A column-vector y was passed when a 1d array was expected. Please change the shape of y to (n_samples,), for example using ravel().\n",
      "  \n",
      "C:\\Users\\Hsien\\Anaconda3\\lib\\site-packages\\ipykernel_launcher.py:8: DataConversionWarning: A column-vector y was passed when a 1d array was expected. Please change the shape of y to (n_samples,), for example using ravel().\n",
      "  \n",
      "C:\\Users\\Hsien\\Anaconda3\\lib\\site-packages\\ipykernel_launcher.py:8: DataConversionWarning: A column-vector y was passed when a 1d array was expected. Please change the shape of y to (n_samples,), for example using ravel().\n",
      "  \n",
      "C:\\Users\\Hsien\\Anaconda3\\lib\\site-packages\\ipykernel_launcher.py:8: DataConversionWarning: A column-vector y was passed when a 1d array was expected. Please change the shape of y to (n_samples,), for example using ravel().\n",
      "  \n"
     ]
    },
    {
     "data": {
      "text/plain": [
       "0"
      ]
     },
     "execution_count": 15,
     "metadata": {},
     "output_type": "execute_result"
    }
   ],
   "source": [
    "#使用隨機森林預測遺失值\n",
    "predictors=['LotArea','Street','LotShape','LandContour','LotConfig'] \n",
    "outcome='LotFrontage'\n",
    "var_mod = ['Street','LotShape','LandContour','LotConfig'] \n",
    "le = LabelEncoder()\n",
    "\n",
    "for i in var_mod:\n",
    "    fulldata[i] = le.fit_transform(fulldata[i].astype(str))\n",
    "    fulldata = imputeMissing(fulldata,outcome,predictors) \n",
    "\n",
    "fulldata['LotFrontage'].isnull().sum()\n"
   ]
  },
  {
   "cell_type": "markdown",
   "metadata": {
    "colab_type": "text",
    "id": "Ybwh2E8MbZWM"
   },
   "source": [
    "#### 確認是否已完成遺失值補值"
   ]
  },
  {
   "cell_type": "code",
   "execution_count": 16,
   "metadata": {
    "colab": {},
    "colab_type": "code",
    "id": "___f3sDSbZWO",
    "outputId": "8abd0b5f-f104-4687-b7b7-dccaa5400911"
   },
   "outputs": [
    {
     "data": {
      "text/html": [
       "<div>\n",
       "<style scoped>\n",
       "    .dataframe tbody tr th:only-of-type {\n",
       "        vertical-align: middle;\n",
       "    }\n",
       "\n",
       "    .dataframe tbody tr th {\n",
       "        vertical-align: top;\n",
       "    }\n",
       "\n",
       "    .dataframe thead th {\n",
       "        text-align: right;\n",
       "    }\n",
       "</style>\n",
       "<table border=\"1\" class=\"dataframe\">\n",
       "  <thead>\n",
       "    <tr style=\"text-align: right;\">\n",
       "      <th></th>\n",
       "      <th>Train</th>\n",
       "      <th>Test</th>\n",
       "      <th>Total</th>\n",
       "      <th>Missing sum</th>\n",
       "      <th>Missing percent</th>\n",
       "    </tr>\n",
       "  </thead>\n",
       "  <tbody>\n",
       "    <tr>\n",
       "      <th>SalePrice</th>\n",
       "      <td>0</td>\n",
       "      <td>1459</td>\n",
       "      <td>2919</td>\n",
       "      <td>1459</td>\n",
       "      <td>0.500</td>\n",
       "    </tr>\n",
       "  </tbody>\n",
       "</table>\n",
       "</div>"
      ],
      "text/plain": [
       "           Train  Test  Total  Missing sum  Missing percent\n",
       "SalePrice      0  1459   2919         1459            0.500"
      ]
     },
     "execution_count": 16,
     "metadata": {},
     "output_type": "execute_result"
    }
   ],
   "source": [
    "NAs = pd.concat([fulldata[fulldata['flag']=='train'].isnull().sum(), fulldata[fulldata['flag']=='test'].isnull().sum()], axis=1, keys=['Train', 'Test'])\n",
    "NAs['Total'] = len(fulldata)\n",
    "NAs['Missing sum'] = NAs['Train'] + NAs['Test']\n",
    "NAs['Missing percent'] = NAs['Missing sum'] / NAs['Total']\n",
    "#挑出有NA的欄位\n",
    "NAs[NAs['Missing sum']> 0]"
   ]
  },
  {
   "cell_type": "markdown",
   "metadata": {
    "colab_type": "text",
    "id": "ngMyvDGSbZWR"
   },
   "source": [
    "## 2.資料確認\n",
    "- 資料檢視"
   ]
  },
  {
   "cell_type": "markdown",
   "metadata": {
    "colab_type": "text",
    "id": "61o_5C8XbZWR"
   },
   "source": [
    "### 資料觀察 MSSubClass YrSold MoSold YearBuilt GarageYrBlt"
   ]
  },
  {
   "cell_type": "code",
   "execution_count": 17,
   "metadata": {
    "colab": {},
    "colab_type": "code",
    "id": "2HAmGhlDbZWS",
    "outputId": "ebbbd933-b34c-4cf4-8db8-a69ff3c52cc3"
   },
   "outputs": [
    {
     "data": {
      "text/html": [
       "<div>\n",
       "<style scoped>\n",
       "    .dataframe tbody tr th:only-of-type {\n",
       "        vertical-align: middle;\n",
       "    }\n",
       "\n",
       "    .dataframe tbody tr th {\n",
       "        vertical-align: top;\n",
       "    }\n",
       "\n",
       "    .dataframe thead th {\n",
       "        text-align: right;\n",
       "    }\n",
       "</style>\n",
       "<table border=\"1\" class=\"dataframe\">\n",
       "  <thead>\n",
       "    <tr style=\"text-align: right;\">\n",
       "      <th></th>\n",
       "      <th>1stFlrSF</th>\n",
       "      <th>2ndFlrSF</th>\n",
       "      <th>3SsnPorch</th>\n",
       "      <th>BedroomAbvGr</th>\n",
       "      <th>BsmtFinSF1</th>\n",
       "      <th>BsmtFinSF2</th>\n",
       "      <th>BsmtFullBath</th>\n",
       "      <th>BsmtHalfBath</th>\n",
       "      <th>BsmtUnfSF</th>\n",
       "      <th>EnclosedPorch</th>\n",
       "      <th>Fireplaces</th>\n",
       "      <th>FullBath</th>\n",
       "      <th>GarageArea</th>\n",
       "      <th>GarageCars</th>\n",
       "      <th>GarageYrBlt</th>\n",
       "      <th>GrLivArea</th>\n",
       "      <th>HalfBath</th>\n",
       "      <th>Id</th>\n",
       "      <th>KitchenAbvGr</th>\n",
       "      <th>LotArea</th>\n",
       "      <th>LotFrontage</th>\n",
       "      <th>LowQualFinSF</th>\n",
       "      <th>MSSubClass</th>\n",
       "      <th>MasVnrArea</th>\n",
       "      <th>MiscVal</th>\n",
       "      <th>MoSold</th>\n",
       "      <th>OpenPorchSF</th>\n",
       "      <th>OverallCond</th>\n",
       "      <th>OverallQual</th>\n",
       "      <th>PoolArea</th>\n",
       "      <th>SalePrice</th>\n",
       "      <th>ScreenPorch</th>\n",
       "      <th>TotRmsAbvGrd</th>\n",
       "      <th>TotalBsmtSF</th>\n",
       "      <th>WoodDeckSF</th>\n",
       "      <th>YearBuilt</th>\n",
       "      <th>YearRemodAdd</th>\n",
       "      <th>YrSold</th>\n",
       "    </tr>\n",
       "  </thead>\n",
       "  <tbody>\n",
       "    <tr>\n",
       "      <th>count</th>\n",
       "      <td>2919.000</td>\n",
       "      <td>2919.000</td>\n",
       "      <td>2919.000</td>\n",
       "      <td>2919.000</td>\n",
       "      <td>2919.000</td>\n",
       "      <td>2919.000</td>\n",
       "      <td>2919.000</td>\n",
       "      <td>2919.000</td>\n",
       "      <td>2919.000</td>\n",
       "      <td>2919.000</td>\n",
       "      <td>2919.000</td>\n",
       "      <td>2919.000</td>\n",
       "      <td>2919.000</td>\n",
       "      <td>2919.000</td>\n",
       "      <td>2919.000</td>\n",
       "      <td>2919.000</td>\n",
       "      <td>2919.000</td>\n",
       "      <td>2919.000</td>\n",
       "      <td>2919.000</td>\n",
       "      <td>2919.000</td>\n",
       "      <td>2919.000</td>\n",
       "      <td>2919.000</td>\n",
       "      <td>2919.000</td>\n",
       "      <td>2919.000</td>\n",
       "      <td>2919.000</td>\n",
       "      <td>2919.000</td>\n",
       "      <td>2919.000</td>\n",
       "      <td>2919.000</td>\n",
       "      <td>2919.000</td>\n",
       "      <td>2919.000</td>\n",
       "      <td>1460.000</td>\n",
       "      <td>2919.000</td>\n",
       "      <td>2919.000</td>\n",
       "      <td>2919.000</td>\n",
       "      <td>2919.000</td>\n",
       "      <td>2919.000</td>\n",
       "      <td>2919.000</td>\n",
       "      <td>2919.000</td>\n",
       "    </tr>\n",
       "    <tr>\n",
       "      <th>mean</th>\n",
       "      <td>1159.582</td>\n",
       "      <td>336.484</td>\n",
       "      <td>2.602</td>\n",
       "      <td>2.860</td>\n",
       "      <td>441.272</td>\n",
       "      <td>49.565</td>\n",
       "      <td>0.430</td>\n",
       "      <td>0.061</td>\n",
       "      <td>560.580</td>\n",
       "      <td>23.098</td>\n",
       "      <td>0.597</td>\n",
       "      <td>1.568</td>\n",
       "      <td>472.713</td>\n",
       "      <td>1.766</td>\n",
       "      <td>1870.364</td>\n",
       "      <td>1500.760</td>\n",
       "      <td>0.380</td>\n",
       "      <td>1460.000</td>\n",
       "      <td>1.045</td>\n",
       "      <td>10168.114</td>\n",
       "      <td>69.495</td>\n",
       "      <td>4.694</td>\n",
       "      <td>57.138</td>\n",
       "      <td>101.396</td>\n",
       "      <td>50.826</td>\n",
       "      <td>6.213</td>\n",
       "      <td>47.487</td>\n",
       "      <td>5.565</td>\n",
       "      <td>6.089</td>\n",
       "      <td>2.252</td>\n",
       "      <td>180921.196</td>\n",
       "      <td>16.062</td>\n",
       "      <td>6.452</td>\n",
       "      <td>1051.417</td>\n",
       "      <td>93.710</td>\n",
       "      <td>1971.313</td>\n",
       "      <td>1984.264</td>\n",
       "      <td>2007.793</td>\n",
       "    </tr>\n",
       "    <tr>\n",
       "      <th>std</th>\n",
       "      <td>392.362</td>\n",
       "      <td>428.701</td>\n",
       "      <td>25.188</td>\n",
       "      <td>0.823</td>\n",
       "      <td>455.606</td>\n",
       "      <td>169.179</td>\n",
       "      <td>0.525</td>\n",
       "      <td>0.246</td>\n",
       "      <td>439.591</td>\n",
       "      <td>64.244</td>\n",
       "      <td>0.646</td>\n",
       "      <td>0.553</td>\n",
       "      <td>215.536</td>\n",
       "      <td>0.762</td>\n",
       "      <td>449.686</td>\n",
       "      <td>506.051</td>\n",
       "      <td>0.503</td>\n",
       "      <td>842.787</td>\n",
       "      <td>0.214</td>\n",
       "      <td>7886.996</td>\n",
       "      <td>22.831</td>\n",
       "      <td>46.397</td>\n",
       "      <td>42.518</td>\n",
       "      <td>178.855</td>\n",
       "      <td>567.402</td>\n",
       "      <td>2.715</td>\n",
       "      <td>67.575</td>\n",
       "      <td>1.113</td>\n",
       "      <td>1.410</td>\n",
       "      <td>35.664</td>\n",
       "      <td>79442.503</td>\n",
       "      <td>56.184</td>\n",
       "      <td>1.569</td>\n",
       "      <td>441.120</td>\n",
       "      <td>126.527</td>\n",
       "      <td>30.291</td>\n",
       "      <td>20.894</td>\n",
       "      <td>1.315</td>\n",
       "    </tr>\n",
       "    <tr>\n",
       "      <th>min</th>\n",
       "      <td>334.000</td>\n",
       "      <td>0.000</td>\n",
       "      <td>0.000</td>\n",
       "      <td>0.000</td>\n",
       "      <td>0.000</td>\n",
       "      <td>0.000</td>\n",
       "      <td>0.000</td>\n",
       "      <td>0.000</td>\n",
       "      <td>0.000</td>\n",
       "      <td>0.000</td>\n",
       "      <td>0.000</td>\n",
       "      <td>0.000</td>\n",
       "      <td>0.000</td>\n",
       "      <td>0.000</td>\n",
       "      <td>0.000</td>\n",
       "      <td>334.000</td>\n",
       "      <td>0.000</td>\n",
       "      <td>1.000</td>\n",
       "      <td>0.000</td>\n",
       "      <td>1300.000</td>\n",
       "      <td>21.000</td>\n",
       "      <td>0.000</td>\n",
       "      <td>20.000</td>\n",
       "      <td>0.000</td>\n",
       "      <td>0.000</td>\n",
       "      <td>1.000</td>\n",
       "      <td>0.000</td>\n",
       "      <td>1.000</td>\n",
       "      <td>1.000</td>\n",
       "      <td>0.000</td>\n",
       "      <td>34900.000</td>\n",
       "      <td>0.000</td>\n",
       "      <td>2.000</td>\n",
       "      <td>0.000</td>\n",
       "      <td>0.000</td>\n",
       "      <td>1872.000</td>\n",
       "      <td>1950.000</td>\n",
       "      <td>2006.000</td>\n",
       "    </tr>\n",
       "    <tr>\n",
       "      <th>25%</th>\n",
       "      <td>876.000</td>\n",
       "      <td>0.000</td>\n",
       "      <td>0.000</td>\n",
       "      <td>2.000</td>\n",
       "      <td>0.000</td>\n",
       "      <td>0.000</td>\n",
       "      <td>0.000</td>\n",
       "      <td>0.000</td>\n",
       "      <td>220.000</td>\n",
       "      <td>0.000</td>\n",
       "      <td>0.000</td>\n",
       "      <td>1.000</td>\n",
       "      <td>320.000</td>\n",
       "      <td>1.000</td>\n",
       "      <td>1957.000</td>\n",
       "      <td>1126.000</td>\n",
       "      <td>0.000</td>\n",
       "      <td>730.500</td>\n",
       "      <td>1.000</td>\n",
       "      <td>7478.000</td>\n",
       "      <td>59.000</td>\n",
       "      <td>0.000</td>\n",
       "      <td>20.000</td>\n",
       "      <td>0.000</td>\n",
       "      <td>0.000</td>\n",
       "      <td>4.000</td>\n",
       "      <td>0.000</td>\n",
       "      <td>5.000</td>\n",
       "      <td>5.000</td>\n",
       "      <td>0.000</td>\n",
       "      <td>129975.000</td>\n",
       "      <td>0.000</td>\n",
       "      <td>5.000</td>\n",
       "      <td>793.000</td>\n",
       "      <td>0.000</td>\n",
       "      <td>1953.500</td>\n",
       "      <td>1965.000</td>\n",
       "      <td>2007.000</td>\n",
       "    </tr>\n",
       "    <tr>\n",
       "      <th>50%</th>\n",
       "      <td>1082.000</td>\n",
       "      <td>0.000</td>\n",
       "      <td>0.000</td>\n",
       "      <td>3.000</td>\n",
       "      <td>368.000</td>\n",
       "      <td>0.000</td>\n",
       "      <td>0.000</td>\n",
       "      <td>0.000</td>\n",
       "      <td>467.000</td>\n",
       "      <td>0.000</td>\n",
       "      <td>1.000</td>\n",
       "      <td>2.000</td>\n",
       "      <td>480.000</td>\n",
       "      <td>2.000</td>\n",
       "      <td>1977.000</td>\n",
       "      <td>1444.000</td>\n",
       "      <td>0.000</td>\n",
       "      <td>1460.000</td>\n",
       "      <td>1.000</td>\n",
       "      <td>9453.000</td>\n",
       "      <td>68.410</td>\n",
       "      <td>0.000</td>\n",
       "      <td>50.000</td>\n",
       "      <td>0.000</td>\n",
       "      <td>0.000</td>\n",
       "      <td>6.000</td>\n",
       "      <td>26.000</td>\n",
       "      <td>5.000</td>\n",
       "      <td>6.000</td>\n",
       "      <td>0.000</td>\n",
       "      <td>163000.000</td>\n",
       "      <td>0.000</td>\n",
       "      <td>6.000</td>\n",
       "      <td>989.000</td>\n",
       "      <td>0.000</td>\n",
       "      <td>1973.000</td>\n",
       "      <td>1993.000</td>\n",
       "      <td>2008.000</td>\n",
       "    </tr>\n",
       "    <tr>\n",
       "      <th>75%</th>\n",
       "      <td>1387.500</td>\n",
       "      <td>704.000</td>\n",
       "      <td>0.000</td>\n",
       "      <td>3.000</td>\n",
       "      <td>733.000</td>\n",
       "      <td>0.000</td>\n",
       "      <td>1.000</td>\n",
       "      <td>0.000</td>\n",
       "      <td>805.000</td>\n",
       "      <td>0.000</td>\n",
       "      <td>1.000</td>\n",
       "      <td>2.000</td>\n",
       "      <td>576.000</td>\n",
       "      <td>2.000</td>\n",
       "      <td>2001.000</td>\n",
       "      <td>1743.500</td>\n",
       "      <td>1.000</td>\n",
       "      <td>2189.500</td>\n",
       "      <td>1.000</td>\n",
       "      <td>11570.000</td>\n",
       "      <td>80.000</td>\n",
       "      <td>0.000</td>\n",
       "      <td>70.000</td>\n",
       "      <td>163.500</td>\n",
       "      <td>0.000</td>\n",
       "      <td>8.000</td>\n",
       "      <td>70.000</td>\n",
       "      <td>6.000</td>\n",
       "      <td>7.000</td>\n",
       "      <td>0.000</td>\n",
       "      <td>214000.000</td>\n",
       "      <td>0.000</td>\n",
       "      <td>7.000</td>\n",
       "      <td>1302.000</td>\n",
       "      <td>168.000</td>\n",
       "      <td>2001.000</td>\n",
       "      <td>2004.000</td>\n",
       "      <td>2009.000</td>\n",
       "    </tr>\n",
       "    <tr>\n",
       "      <th>max</th>\n",
       "      <td>5095.000</td>\n",
       "      <td>2065.000</td>\n",
       "      <td>508.000</td>\n",
       "      <td>8.000</td>\n",
       "      <td>5644.000</td>\n",
       "      <td>1526.000</td>\n",
       "      <td>3.000</td>\n",
       "      <td>2.000</td>\n",
       "      <td>2336.000</td>\n",
       "      <td>1012.000</td>\n",
       "      <td>4.000</td>\n",
       "      <td>4.000</td>\n",
       "      <td>1488.000</td>\n",
       "      <td>5.000</td>\n",
       "      <td>2207.000</td>\n",
       "      <td>5642.000</td>\n",
       "      <td>2.000</td>\n",
       "      <td>2919.000</td>\n",
       "      <td>3.000</td>\n",
       "      <td>215245.000</td>\n",
       "      <td>313.000</td>\n",
       "      <td>1064.000</td>\n",
       "      <td>190.000</td>\n",
       "      <td>1600.000</td>\n",
       "      <td>17000.000</td>\n",
       "      <td>12.000</td>\n",
       "      <td>742.000</td>\n",
       "      <td>9.000</td>\n",
       "      <td>10.000</td>\n",
       "      <td>800.000</td>\n",
       "      <td>755000.000</td>\n",
       "      <td>576.000</td>\n",
       "      <td>15.000</td>\n",
       "      <td>6110.000</td>\n",
       "      <td>1424.000</td>\n",
       "      <td>2010.000</td>\n",
       "      <td>2010.000</td>\n",
       "      <td>2010.000</td>\n",
       "    </tr>\n",
       "  </tbody>\n",
       "</table>\n",
       "</div>"
      ],
      "text/plain": [
       "       1stFlrSF  2ndFlrSF  3SsnPorch  BedroomAbvGr  BsmtFinSF1  BsmtFinSF2  \\\n",
       "count  2919.000  2919.000   2919.000      2919.000    2919.000    2919.000   \n",
       "mean   1159.582   336.484      2.602         2.860     441.272      49.565   \n",
       "std     392.362   428.701     25.188         0.823     455.606     169.179   \n",
       "min     334.000     0.000      0.000         0.000       0.000       0.000   \n",
       "25%     876.000     0.000      0.000         2.000       0.000       0.000   \n",
       "50%    1082.000     0.000      0.000         3.000     368.000       0.000   \n",
       "75%    1387.500   704.000      0.000         3.000     733.000       0.000   \n",
       "max    5095.000  2065.000    508.000         8.000    5644.000    1526.000   \n",
       "\n",
       "       BsmtFullBath  BsmtHalfBath  BsmtUnfSF  EnclosedPorch  Fireplaces  \\\n",
       "count      2919.000      2919.000   2919.000       2919.000    2919.000   \n",
       "mean          0.430         0.061    560.580         23.098       0.597   \n",
       "std           0.525         0.246    439.591         64.244       0.646   \n",
       "min           0.000         0.000      0.000          0.000       0.000   \n",
       "25%           0.000         0.000    220.000          0.000       0.000   \n",
       "50%           0.000         0.000    467.000          0.000       1.000   \n",
       "75%           1.000         0.000    805.000          0.000       1.000   \n",
       "max           3.000         2.000   2336.000       1012.000       4.000   \n",
       "\n",
       "       FullBath  GarageArea  GarageCars  GarageYrBlt  GrLivArea  HalfBath  \\\n",
       "count  2919.000    2919.000    2919.000     2919.000   2919.000  2919.000   \n",
       "mean      1.568     472.713       1.766     1870.364   1500.760     0.380   \n",
       "std       0.553     215.536       0.762      449.686    506.051     0.503   \n",
       "min       0.000       0.000       0.000        0.000    334.000     0.000   \n",
       "25%       1.000     320.000       1.000     1957.000   1126.000     0.000   \n",
       "50%       2.000     480.000       2.000     1977.000   1444.000     0.000   \n",
       "75%       2.000     576.000       2.000     2001.000   1743.500     1.000   \n",
       "max       4.000    1488.000       5.000     2207.000   5642.000     2.000   \n",
       "\n",
       "            Id  KitchenAbvGr    LotArea  LotFrontage  LowQualFinSF  \\\n",
       "count 2919.000      2919.000   2919.000     2919.000      2919.000   \n",
       "mean  1460.000         1.045  10168.114       69.495         4.694   \n",
       "std    842.787         0.214   7886.996       22.831        46.397   \n",
       "min      1.000         0.000   1300.000       21.000         0.000   \n",
       "25%    730.500         1.000   7478.000       59.000         0.000   \n",
       "50%   1460.000         1.000   9453.000       68.410         0.000   \n",
       "75%   2189.500         1.000  11570.000       80.000         0.000   \n",
       "max   2919.000         3.000 215245.000      313.000      1064.000   \n",
       "\n",
       "       MSSubClass  MasVnrArea   MiscVal   MoSold  OpenPorchSF  OverallCond  \\\n",
       "count    2919.000    2919.000  2919.000 2919.000     2919.000     2919.000   \n",
       "mean       57.138     101.396    50.826    6.213       47.487        5.565   \n",
       "std        42.518     178.855   567.402    2.715       67.575        1.113   \n",
       "min        20.000       0.000     0.000    1.000        0.000        1.000   \n",
       "25%        20.000       0.000     0.000    4.000        0.000        5.000   \n",
       "50%        50.000       0.000     0.000    6.000       26.000        5.000   \n",
       "75%        70.000     163.500     0.000    8.000       70.000        6.000   \n",
       "max       190.000    1600.000 17000.000   12.000      742.000        9.000   \n",
       "\n",
       "       OverallQual  PoolArea  SalePrice  ScreenPorch  TotRmsAbvGrd  \\\n",
       "count     2919.000  2919.000   1460.000     2919.000      2919.000   \n",
       "mean         6.089     2.252 180921.196       16.062         6.452   \n",
       "std          1.410    35.664  79442.503       56.184         1.569   \n",
       "min          1.000     0.000  34900.000        0.000         2.000   \n",
       "25%          5.000     0.000 129975.000        0.000         5.000   \n",
       "50%          6.000     0.000 163000.000        0.000         6.000   \n",
       "75%          7.000     0.000 214000.000        0.000         7.000   \n",
       "max         10.000   800.000 755000.000      576.000        15.000   \n",
       "\n",
       "       TotalBsmtSF  WoodDeckSF  YearBuilt  YearRemodAdd   YrSold  \n",
       "count     2919.000    2919.000   2919.000      2919.000 2919.000  \n",
       "mean      1051.417      93.710   1971.313      1984.264 2007.793  \n",
       "std        441.120     126.527     30.291        20.894    1.315  \n",
       "min          0.000       0.000   1872.000      1950.000 2006.000  \n",
       "25%        793.000       0.000   1953.500      1965.000 2007.000  \n",
       "50%        989.000       0.000   1973.000      1993.000 2008.000  \n",
       "75%       1302.000     168.000   2001.000      2004.000 2009.000  \n",
       "max       6110.000    1424.000   2010.000      2010.000 2010.000  "
      ]
     },
     "execution_count": 17,
     "metadata": {},
     "output_type": "execute_result"
    }
   ],
   "source": [
    "import pandas as pd\n",
    "pd.set_option('display.max_columns',200)\n",
    "fulldata[conti_var].describe()"
   ]
  },
  {
   "cell_type": "code",
   "execution_count": 18,
   "metadata": {
    "colab": {},
    "colab_type": "code",
    "id": "woMtgfiLbZWV",
    "outputId": "2139f3a9-d015-44ee-acfb-583833b14722"
   },
   "outputs": [
    {
     "name": "stdout",
     "output_type": "stream",
     "text": [
      "count   2919.000\n",
      "mean    1870.364\n",
      "std      449.686\n",
      "min        0.000\n",
      "25%     1957.000\n",
      "50%     1977.000\n",
      "75%     2001.000\n",
      "max     2207.000\n",
      "Name: GarageYrBlt, dtype: float64\n"
     ]
    }
   ],
   "source": [
    "print(fulldata['GarageYrBlt'].describe())\n",
    "fulldata[fulldata['GarageYrBlt']>2100]\n",
    "fulldata.loc[2592, 'GarageYrBlt'] = 2007"
   ]
  },
  {
   "cell_type": "code",
   "execution_count": 19,
   "metadata": {
    "colab": {},
    "colab_type": "code",
    "id": "EfLq3HhubZWY"
   },
   "outputs": [],
   "source": [
    "# MSSubClass YrSold MoSold YearBuilt 為類別型資料\n",
    "#MSSubClass\n",
    "fulldata['MSSubClass'] = fulldata['MSSubClass'].apply(str)\n",
    "\n",
    "#Year month\n",
    "fulldata['YrSold_char'] = fulldata['YrSold'].astype(str)\n",
    "fulldata['MoSold_char'] = fulldata['MoSold'].astype(str)\n",
    "fulldata['YearBuilt_char'] = fulldata['YearBuilt'].astype(str)"
   ]
  },
  {
   "cell_type": "markdown",
   "metadata": {
    "colab_type": "text",
    "id": "WfKiltswbZWa"
   },
   "source": [
    "### 檢查類別行資料分布"
   ]
  },
  {
   "cell_type": "code",
   "execution_count": 20,
   "metadata": {
    "colab": {},
    "colab_type": "code",
    "id": "PVVBYAQubZWc",
    "outputId": "f20e78be-662b-47a0-9708-d95609a58e96"
   },
   "outputs": [
    {
     "data": {
      "text/plain": [
       "Neighborhood     25\n",
       "Exterior2nd      16\n",
       "Exterior1st      15\n",
       "Condition1        9\n",
       "SaleType          9\n",
       "HouseStyle        8\n",
       "Condition2        8\n",
       "RoofMatl          8\n",
       "GarageType        7\n",
       "Functional        7\n",
       "BsmtFinType1      7\n",
       "BsmtFinType2      7\n",
       "GarageCond        6\n",
       "Heating           6\n",
       "SaleCondition     6\n",
       "RoofStyle         6\n",
       "FireplaceQu       6\n",
       "Foundation        6\n",
       "GarageQual        6\n",
       "HeatingQC         5\n",
       "BsmtQual          5\n",
       "BldgType          5\n",
       "LotConfig         5\n",
       "Electrical        5\n",
       "ExterCond         5\n",
       "BsmtExposure      5\n",
       "Fence             5\n",
       "BsmtCond          5\n",
       "MiscFeature       5\n",
       "MSZoning          5\n",
       "LandContour       4\n",
       "KitchenQual       4\n",
       "PoolQC            4\n",
       "ExterQual         4\n",
       "LotShape          4\n",
       "GarageFinish      4\n",
       "MasVnrType        4\n",
       "Alley             3\n",
       "LandSlope         3\n",
       "PavedDrive        3\n",
       "CentralAir        2\n",
       "Utilities         2\n",
       "Street            2\n",
       "flag              2\n",
       "dtype: int64"
      ]
     },
     "execution_count": 20,
     "metadata": {},
     "output_type": "execute_result"
    }
   ],
   "source": [
    "char = fulldata[category_var].apply(lambda x: len(np.unique(x)))\n",
    "char.sort_values(ascending=False)"
   ]
  },
  {
   "cell_type": "code",
   "execution_count": 21,
   "metadata": {
    "colab": {},
    "colab_type": "code",
    "id": "xbXfvEWBbZWe",
    "outputId": "3f01f74b-ceed-4e3a-f570-7320fa9d43b9"
   },
   "outputs": [
    {
     "name": "stdout",
     "output_type": "stream",
     "text": [
      "AllPub    2918\n",
      "NoSeWa       1\n",
      "Name: Utilities, dtype: int64\n",
      "Y    2723\n",
      "N     196\n",
      "Name: CentralAir, dtype: int64\n"
     ]
    }
   ],
   "source": [
    "# Utilities CentralAir 類別較少，進行確認，Utilities皆為同一值對分析無幫助，故刪除\n",
    "print(fulldata['Utilities'].value_counts())\n",
    "print(fulldata['CentralAir'].value_counts()) \n",
    "fulldata = fulldata.drop('Utilities', axis=1)"
   ]
  },
  {
   "cell_type": "markdown",
   "metadata": {
    "colab_type": "text",
    "id": "yAo1xAY5bZWh"
   },
   "source": [
    "### 2.資料確認\n",
    "- 移除離群值"
   ]
  },
  {
   "cell_type": "code",
   "execution_count": 22,
   "metadata": {
    "colab": {},
    "colab_type": "code",
    "id": "xDkPapCxbZWh",
    "outputId": "a07ad4d6-6fb3-4299-e553-1a9e7a7490b7"
   },
   "outputs": [
    {
     "data": {
      "image/png": "[encoded data removed]",
      "text/plain": [
       "<Figure size 432x288 with 2 Axes>"
      ]
     },
     "metadata": {
      "needs_background": "light"
     },
     "output_type": "display_data"
    }
   ],
   "source": [
    "#確認 GrLivArea房價過低，測試集也無GrLivArea 4500之資料，故刪除\n",
    "plt.subplot(221)\n",
    "plt.scatter(train.GrLivArea, train.SalePrice)\n",
    "plt.subplot(222)\n",
    "plt.hist(test.GrLivArea)\n",
    "plt.show()"
   ]
  },
  {
   "cell_type": "code",
   "execution_count": 23,
   "metadata": {
    "colab": {},
    "colab_type": "code",
    "id": "4buU9c7ObZWl",
    "outputId": "8911feda-461b-485e-e3b2-6e877114a0dc"
   },
   "outputs": [
    {
     "data": {
      "text/plain": [
       "<matplotlib.collections.PathCollection at 0xbdec4a8>"
      ]
     },
     "execution_count": 23,
     "metadata": {},
     "output_type": "execute_result"
    },
    {
     "data": {
      "image/png": "[encoded data removed]",
      "text/plain": [
       "<Figure size 432x288 with 1 Axes>"
      ]
     },
     "metadata": {
      "needs_background": "light"
     },
     "output_type": "display_data"
    }
   ],
   "source": [
    "fulldata = fulldata[fulldata.GrLivArea < 4500]\n",
    "plt.scatter(fulldata.GrLivArea, fulldata.SalePrice)"
   ]
  },
  {
   "cell_type": "markdown",
   "metadata": {
    "colab_type": "text",
    "id": "ehqgS67ebZWo"
   },
   "source": [
    "### 3.變數工程\n",
    "- 創造新變數"
   ]
  },
  {
   "cell_type": "code",
   "execution_count": 24,
   "metadata": {
    "colab": {},
    "colab_type": "code",
    "id": "Mq-R5nNTbZWq",
    "outputId": "e8a0a7de-c9be-4319-b97d-ffe4790dc48f"
   },
   "outputs": [
    {
     "name": "stdout",
     "output_type": "stream",
     "text": [
      "HeatingQC\n",
      "KitchenQual\n",
      "FireplaceQu\n",
      "GarageQual\n",
      "PoolQC\n",
      "ExterQual\n"
     ]
    },
    {
     "name": "stderr",
     "output_type": "stream",
     "text": [
      "C:\\Users\\Hsien\\Anaconda3\\lib\\site-packages\\ipykernel_launcher.py:34: SettingWithCopyWarning: \n",
      "A value is trying to be set on a copy of a slice from a DataFrame.\n",
      "Try using .loc[row_indexer,col_indexer] = value instead\n",
      "\n",
      "See the caveats in the documentation: http://pandas.pydata.org/pandas-docs/stable/indexing.html#indexing-view-versus-copy\n"
     ]
    },
    {
     "name": "stdout",
     "output_type": "stream",
     "text": [
      "BsmtQual\n"
     ]
    }
   ],
   "source": [
    "#房子蓋好後多久售出\n",
    "fulldata['yeardiff'] = fulldata['YrSold'] - fulldata['YearBuilt']\n",
    "#房子蓋好後多久裝潢\n",
    "fulldata['yeardiffremod'] = fulldata['YearRemodAdd'] - fulldata['YearBuilt']\n",
    "#裝潢後多久售出\n",
    "fulldata['yearremoddiff'] = fulldata['YrSold'] - fulldata['YearRemodAdd']\n",
    "\n",
    "#總面積\n",
    "fulldata['allarea'] = (fulldata['LotArea'] + fulldata['MasVnrArea'] + fulldata['BsmtFinSF1'] + \n",
    "                      fulldata['BsmtFinSF2'] + fulldata['BsmtUnfSF'] + fulldata['TotalBsmtSF'] + \n",
    "                      fulldata['1stFlrSF'] + fulldata['2ndFlrSF'] + fulldata['LowQualFinSF'] + \n",
    "                      fulldata['GrLivArea'] + fulldata['GarageArea'] + fulldata['WoodDeckSF'] + \n",
    "                      fulldata['OpenPorchSF'] + fulldata['EnclosedPorch'] + fulldata['3SsnPorch'] + \n",
    "                      fulldata['ScreenPorch'] +fulldata['PoolArea'])\n",
    "#主要面積\n",
    "fulldata['mainarea'] = fulldata['TotalBsmtSF'] +fulldata['1stFlrSF'] + fulldata['2ndFlrSF']\n",
    "#其他面積\n",
    "fulldata['elsearea'] = fulldata['allarea'] - fulldata['mainarea'] \n",
    "\n",
    "#計算品質次數 Ex>Gd>TA>Fa>Po>None 5=>4=>3=>2=>1\n",
    "qual = fulldata[['HeatingQC','KitchenQual','FireplaceQu','GarageQual','PoolQC','ExterQual','BsmtQual']]\n",
    "\n",
    "for col in ['HeatingQC','KitchenQual','FireplaceQu','GarageQual','PoolQC','ExterQual','BsmtQual']:\n",
    "    print(col)\n",
    "    conditions = [\n",
    "        (qual[col] == 'Ex'),\n",
    "        (qual[col] == 'Gd'),\n",
    "        (qual[col] == 'TA'),\n",
    "        (qual[col] == 'Fa'),\n",
    "        (qual[col] == 'Po'),\n",
    "        (qual[col] == 'None')\n",
    "    ]\n",
    "    choices = [5,4,3,2,1,0]\n",
    "    qual[col] = np.select(conditions, choices,default=999)\n",
    "\n",
    "fulldata['qc_score'] = qual.sum(axis = 1)"
   ]
  },
  {
   "cell_type": "code",
   "execution_count": null,
   "metadata": {},
   "outputs": [],
   "source": []
  },
  {
   "cell_type": "code",
   "execution_count": null,
   "metadata": {},
   "outputs": [],
   "source": []
  },
  {
   "cell_type": "markdown",
   "metadata": {
    "colab_type": "text",
    "id": "gfPufcfCbZWr"
   },
   "source": [
    "### 3.變數工程 \n",
    "- 平滑預測變數：房價取log"
   ]
  },
  {
   "cell_type": "code",
   "execution_count": 27,
   "metadata": {
    "colab": {},
    "colab_type": "code",
    "id": "ZusnRbzxbZWs",
    "outputId": "01f59a1f-8e0a-4b85-d71a-4e43e790b548"
   },
   "outputs": [
    {
     "name": "stderr",
     "output_type": "stream",
     "text": [
      "C:\\Users\\Hsien\\Anaconda3\\lib\\site-packages\\scipy\\stats\\stats.py:1713: FutureWarning: Using a non-tuple sequence for multidimensional indexing is deprecated; use `arr[tuple(seq)]` instead of `arr[seq]`. In the future this will be interpreted as an array index, `arr[np.array(seq)]`, which will result either in an error or a different result.\n",
      "  return np.add.reduce(sorted[indexer] * weights, axis=axis) / sumval\n"
     ]
    },
    {
     "data": {
      "image/png": "[encoded data removed]",
      "text/plain": [
       "<Figure size 432x288 with 2 Axes>"
      ]
     },
     "metadata": {
      "needs_background": "light"
     },
     "output_type": "display_data"
    }
   ],
   "source": [
    "plt.subplot(221)\n",
    "ax = sns.distplot(train['SalePrice'])\n",
    "plt.subplot(222)\n",
    "ax = sns.distplot(np.log(train['SalePrice']))"
   ]
  },
  {
   "cell_type": "code",
   "execution_count": 32,
   "metadata": {
    "colab": {},
    "colab_type": "code",
    "id": "4TfxQrTObZWv"
   },
   "outputs": [],
   "source": [
    "fulldata['SalePrice'] = np.log(fulldata['SalePrice'])"
   ]
  },
  {
   "cell_type": "code",
   "execution_count": null,
   "metadata": {},
   "outputs": [],
   "source": []
  },
  {
   "cell_type": "markdown",
   "metadata": {
    "colab_type": "text",
    "id": "cg3sJPZubZWw"
   },
   "source": [
    "### 3.變數工程 \n",
    "- 調整連續行變數尺規"
   ]
  },
  {
   "cell_type": "code",
   "execution_count": 47,
   "metadata": {
    "colab": {},
    "colab_type": "code",
    "id": "NOkEaO1MbZWx",
    "outputId": "074be7b2-82c2-46ee-fbc5-04d0d8ac5b82"
   },
   "outputs": [
    {
     "name": "stdout",
     "output_type": "stream",
     "text": [
      "\n",
      "Skew in numerical features: \n",
      "\n"
     ]
    },
    {
     "data": {
      "text/html": [
       "<div>\n",
       "<style scoped>\n",
       "    .dataframe tbody tr th:only-of-type {\n",
       "        vertical-align: middle;\n",
       "    }\n",
       "\n",
       "    .dataframe tbody tr th {\n",
       "        vertical-align: top;\n",
       "    }\n",
       "\n",
       "    .dataframe thead th {\n",
       "        text-align: right;\n",
       "    }\n",
       "</style>\n",
       "<table border=\"1\" class=\"dataframe\">\n",
       "  <thead>\n",
       "    <tr style=\"text-align: right;\">\n",
       "      <th></th>\n",
       "      <th>Skew</th>\n",
       "    </tr>\n",
       "  </thead>\n",
       "  <tbody>\n",
       "    <tr>\n",
       "      <th>MiscVal</th>\n",
       "      <td>22.179</td>\n",
       "    </tr>\n",
       "    <tr>\n",
       "      <th>PoolArea</th>\n",
       "      <td>17.686</td>\n",
       "    </tr>\n",
       "    <tr>\n",
       "      <th>LotArea</th>\n",
       "      <td>13.188</td>\n",
       "    </tr>\n",
       "    <tr>\n",
       "      <th>LowQualFinSF</th>\n",
       "      <td>12.082</td>\n",
       "    </tr>\n",
       "    <tr>\n",
       "      <th>elsearea</th>\n",
       "      <td>11.779</td>\n",
       "    </tr>\n",
       "    <tr>\n",
       "      <th>3SsnPorch</th>\n",
       "      <td>11.370</td>\n",
       "    </tr>\n",
       "    <tr>\n",
       "      <th>allarea</th>\n",
       "      <td>10.708</td>\n",
       "    </tr>\n",
       "    <tr>\n",
       "      <th>KitchenAbvGr</th>\n",
       "      <td>4.300</td>\n",
       "    </tr>\n",
       "    <tr>\n",
       "      <th>BsmtFinSF2</th>\n",
       "      <td>4.144</td>\n",
       "    </tr>\n",
       "    <tr>\n",
       "      <th>EnclosedPorch</th>\n",
       "      <td>4.002</td>\n",
       "    </tr>\n",
       "  </tbody>\n",
       "</table>\n",
       "</div>"
      ],
      "text/plain": [
       "                Skew\n",
       "MiscVal       22.179\n",
       "PoolArea      17.686\n",
       "LotArea       13.188\n",
       "LowQualFinSF  12.082\n",
       "elsearea      11.779\n",
       "3SsnPorch     11.370\n",
       "allarea       10.708\n",
       "KitchenAbvGr   4.300\n",
       "BsmtFinSF2     4.144\n",
       "EnclosedPorch  4.002"
      ]
     },
     "execution_count": 47,
     "metadata": {},
     "output_type": "execute_result"
    }
   ],
   "source": [
    "\n",
    "#重新取出類別行變數與連續行變數\n",
    "category_var = fulldata.select_dtypes(['object']).columns \n",
    "conti_var = fulldata.select_dtypes(exclude=['object']).columns\n",
    "conti_var = [col for col in conti_var if col != 'SalePrice']\n",
    "conti_var\n",
    "\n",
    "# Check the skew of all numerical features\n",
    "skewed_feats = fulldata[conti_var].apply(lambda x: skew(x.dropna())).sort_values(ascending=False)\n",
    "print(\"\\nSkew in numerical features: \\n\")\n",
    "skewness = pd.DataFrame({'Skew' :skewed_feats})\n",
    "skewness.head(10)"
   ]
  },
  {
   "cell_type": "code",
   "execution_count": 48,
   "metadata": {
    "colab": {},
    "colab_type": "code",
    "id": "5ydhfzW6bZW0",
    "outputId": "36004519-e5ce-4adb-f36f-d472a6bcfbcf"
   },
   "outputs": [
    {
     "name": "stdout",
     "output_type": "stream",
     "text": [
      "There are 47 skewed numerical features to Box Cox transform\n"
     ]
    },
    {
     "name": "stderr",
     "output_type": "stream",
     "text": [
      "C:\\Users\\Hsien\\Anaconda3\\lib\\site-packages\\scipy\\stats\\stats.py:3010: RuntimeWarning: invalid value encountered in double_scalars\n",
      "  r = r_num / r_den\n",
      "C:\\Users\\Hsien\\Anaconda3\\lib\\site-packages\\scipy\\stats\\stats.py:5256: RuntimeWarning: invalid value encountered in less\n",
      "  x = np.where(x < 1.0, x, 1.0)  # if x > 1 then return 1.0\n",
      "C:\\Users\\Hsien\\Anaconda3\\lib\\site-packages\\scipy\\stats\\stats.py:5616: RuntimeWarning: overflow encountered in multiply\n",
      "  return np.sum(a*a, axis)\n",
      "C:\\Users\\Hsien\\Anaconda3\\lib\\site-packages\\numpy\\core\\fromnumeric.py:83: RuntimeWarning: overflow encountered in reduce\n",
      "  return ufunc.reduce(obj, axis, dtype, out, **passkwargs)\n",
      "C:\\Users\\Hsien\\Anaconda3\\lib\\site-packages\\scipy\\stats\\stats.py:3009: RuntimeWarning: overflow encountered in double_scalars\n",
      "  r_den = np.sqrt(_sum_of_squares(xm) * _sum_of_squares(ym))\n",
      "C:\\Users\\Hsien\\Anaconda3\\lib\\site-packages\\scipy\\stats\\stats.py:953: RuntimeWarning: overflow encountered in multiply\n",
      "  s *= a_zero_mean\n",
      "C:\\Users\\Hsien\\Anaconda3\\lib\\site-packages\\numpy\\core\\_methods.py:75: RuntimeWarning: invalid value encountered in reduce\n",
      "  ret = umr_sum(arr, axis, dtype, out, keepdims)\n",
      "C:\\Users\\Hsien\\Anaconda3\\lib\\site-packages\\scipy\\stats\\stats.py:1061: RuntimeWarning: overflow encountered in power\n",
      "  lambda m2, m3: m3 / m2**1.5,\n",
      "C:\\Users\\Hsien\\Anaconda3\\lib\\site-packages\\scipy\\stats\\stats.py:943: RuntimeWarning: invalid value encountered in subtract\n",
      "  a_zero_mean = a - np.expand_dims(np.mean(a, axis), axis)\n"
     ]
    },
    {
     "data": {
      "text/html": [
       "<div>\n",
       "<style scoped>\n",
       "    .dataframe tbody tr th:only-of-type {\n",
       "        vertical-align: middle;\n",
       "    }\n",
       "\n",
       "    .dataframe tbody tr th {\n",
       "        vertical-align: top;\n",
       "    }\n",
       "\n",
       "    .dataframe thead th {\n",
       "        text-align: right;\n",
       "    }\n",
       "</style>\n",
       "<table border=\"1\" class=\"dataframe\">\n",
       "  <thead>\n",
       "    <tr style=\"text-align: right;\">\n",
       "      <th></th>\n",
       "      <th>skew</th>\n",
       "    </tr>\n",
       "  </thead>\n",
       "  <tbody>\n",
       "    <tr>\n",
       "      <th>PoolArea</th>\n",
       "      <td>15.550</td>\n",
       "    </tr>\n",
       "    <tr>\n",
       "      <th>3SsnPorch</th>\n",
       "      <td>8.809</td>\n",
       "    </tr>\n",
       "    <tr>\n",
       "      <th>LowQualFinSF</th>\n",
       "      <td>8.429</td>\n",
       "    </tr>\n",
       "    <tr>\n",
       "      <th>MiscVal</th>\n",
       "      <td>5.201</td>\n",
       "    </tr>\n",
       "    <tr>\n",
       "      <th>BsmtHalfBath</th>\n",
       "      <td>3.739</td>\n",
       "    </tr>\n",
       "    <tr>\n",
       "      <th>ScreenPorch</th>\n",
       "      <td>3.127</td>\n",
       "    </tr>\n",
       "    <tr>\n",
       "      <th>BsmtFinSF2</th>\n",
       "      <td>2.528</td>\n",
       "    </tr>\n",
       "    <tr>\n",
       "      <th>KitchenAbvGr</th>\n",
       "      <td>2.368</td>\n",
       "    </tr>\n",
       "    <tr>\n",
       "      <th>EnclosedPorch</th>\n",
       "      <td>2.100</td>\n",
       "    </tr>\n",
       "    <tr>\n",
       "      <th>YrSold</th>\n",
       "      <td>1.000</td>\n",
       "    </tr>\n",
       "    <tr>\n",
       "      <th>MasVnrArea</th>\n",
       "      <td>0.926</td>\n",
       "    </tr>\n",
       "    <tr>\n",
       "      <th>2ndFlrSF</th>\n",
       "      <td>0.896</td>\n",
       "    </tr>\n",
       "    <tr>\n",
       "      <th>HalfBath</th>\n",
       "      <td>0.780</td>\n",
       "    </tr>\n",
       "    <tr>\n",
       "      <th>WoodDeckSF</th>\n",
       "      <td>0.753</td>\n",
       "    </tr>\n",
       "    <tr>\n",
       "      <th>BsmtFullBath</th>\n",
       "      <td>0.608</td>\n",
       "    </tr>\n",
       "    <tr>\n",
       "      <th>OpenPorchSF</th>\n",
       "      <td>0.503</td>\n",
       "    </tr>\n",
       "    <tr>\n",
       "      <th>Fireplaces</th>\n",
       "      <td>0.409</td>\n",
       "    </tr>\n",
       "    <tr>\n",
       "      <th>BsmtFinSF1</th>\n",
       "      <td>0.354</td>\n",
       "    </tr>\n",
       "    <tr>\n",
       "      <th>OverallCond</th>\n",
       "      <td>0.273</td>\n",
       "    </tr>\n",
       "    <tr>\n",
       "      <th>TotalBsmtSF</th>\n",
       "      <td>0.239</td>\n",
       "    </tr>\n",
       "    <tr>\n",
       "      <th>GarageArea</th>\n",
       "      <td>0.196</td>\n",
       "    </tr>\n",
       "    <tr>\n",
       "      <th>GarageCars</th>\n",
       "      <td>0.082</td>\n",
       "    </tr>\n",
       "    <tr>\n",
       "      <th>FullBath</th>\n",
       "      <td>0.075</td>\n",
       "    </tr>\n",
       "    <tr>\n",
       "      <th>mainarea</th>\n",
       "      <td>0.037</td>\n",
       "    </tr>\n",
       "    <tr>\n",
       "      <th>LotFrontage</th>\n",
       "      <td>0.029</td>\n",
       "    </tr>\n",
       "    <tr>\n",
       "      <th>BsmtUnfSF</th>\n",
       "      <td>0.025</td>\n",
       "    </tr>\n",
       "    <tr>\n",
       "      <th>GrLivArea</th>\n",
       "      <td>0.009</td>\n",
       "    </tr>\n",
       "    <tr>\n",
       "      <th>yeardiff</th>\n",
       "      <td>0.007</td>\n",
       "    </tr>\n",
       "    <tr>\n",
       "      <th>OverallQual</th>\n",
       "      <td>0.007</td>\n",
       "    </tr>\n",
       "    <tr>\n",
       "      <th>1stFlrSF</th>\n",
       "      <td>-0.003</td>\n",
       "    </tr>\n",
       "    <tr>\n",
       "      <th>qc_score</th>\n",
       "      <td>-0.033</td>\n",
       "    </tr>\n",
       "    <tr>\n",
       "      <th>MoSold</th>\n",
       "      <td>-0.089</td>\n",
       "    </tr>\n",
       "    <tr>\n",
       "      <th>LotArea</th>\n",
       "      <td>-0.141</td>\n",
       "    </tr>\n",
       "    <tr>\n",
       "      <th>TotRmsAbvGrd</th>\n",
       "      <td>-0.147</td>\n",
       "    </tr>\n",
       "    <tr>\n",
       "      <th>allarea</th>\n",
       "      <td>-0.153</td>\n",
       "    </tr>\n",
       "    <tr>\n",
       "      <th>elsearea</th>\n",
       "      <td>-0.165</td>\n",
       "    </tr>\n",
       "    <tr>\n",
       "      <th>BedroomAbvGr</th>\n",
       "      <td>-0.180</td>\n",
       "    </tr>\n",
       "    <tr>\n",
       "      <th>Id</th>\n",
       "      <td>-0.186</td>\n",
       "    </tr>\n",
       "    <tr>\n",
       "      <th>YearBuilt</th>\n",
       "      <td>-0.254</td>\n",
       "    </tr>\n",
       "    <tr>\n",
       "      <th>yearremoddiff</th>\n",
       "      <td>-0.349</td>\n",
       "    </tr>\n",
       "    <tr>\n",
       "      <th>LotShape</th>\n",
       "      <td>-0.633</td>\n",
       "    </tr>\n",
       "    <tr>\n",
       "      <th>LotConfig</th>\n",
       "      <td>-1.201</td>\n",
       "    </tr>\n",
       "    <tr>\n",
       "      <th>LandContour</th>\n",
       "      <td>-2.720</td>\n",
       "    </tr>\n",
       "    <tr>\n",
       "      <th>Street</th>\n",
       "      <td>-15.492</td>\n",
       "    </tr>\n",
       "    <tr>\n",
       "      <th>GarageYrBlt</th>\n",
       "      <td>nan</td>\n",
       "    </tr>\n",
       "    <tr>\n",
       "      <th>YearRemodAdd</th>\n",
       "      <td>nan</td>\n",
       "    </tr>\n",
       "    <tr>\n",
       "      <th>yeardiffremod</th>\n",
       "      <td>nan</td>\n",
       "    </tr>\n",
       "  </tbody>\n",
       "</table>\n",
       "</div>"
      ],
      "text/plain": [
       "                 skew\n",
       "PoolArea       15.550\n",
       "3SsnPorch       8.809\n",
       "LowQualFinSF    8.429\n",
       "MiscVal         5.201\n",
       "BsmtHalfBath    3.739\n",
       "ScreenPorch     3.127\n",
       "BsmtFinSF2      2.528\n",
       "KitchenAbvGr    2.368\n",
       "EnclosedPorch   2.100\n",
       "YrSold          1.000\n",
       "MasVnrArea      0.926\n",
       "2ndFlrSF        0.896\n",
       "HalfBath        0.780\n",
       "WoodDeckSF      0.753\n",
       "BsmtFullBath    0.608\n",
       "OpenPorchSF     0.503\n",
       "Fireplaces      0.409\n",
       "BsmtFinSF1      0.354\n",
       "OverallCond     0.273\n",
       "TotalBsmtSF     0.239\n",
       "GarageArea      0.196\n",
       "GarageCars      0.082\n",
       "FullBath        0.075\n",
       "mainarea        0.037\n",
       "LotFrontage     0.029\n",
       "BsmtUnfSF       0.025\n",
       "GrLivArea       0.009\n",
       "yeardiff        0.007\n",
       "OverallQual     0.007\n",
       "1stFlrSF       -0.003\n",
       "qc_score       -0.033\n",
       "MoSold         -0.089\n",
       "LotArea        -0.141\n",
       "TotRmsAbvGrd   -0.147\n",
       "allarea        -0.153\n",
       "elsearea       -0.165\n",
       "BedroomAbvGr   -0.180\n",
       "Id             -0.186\n",
       "YearBuilt      -0.254\n",
       "yearremoddiff  -0.349\n",
       "LotShape       -0.633\n",
       "LotConfig      -1.201\n",
       "LandContour    -2.720\n",
       "Street        -15.492\n",
       "GarageYrBlt       nan\n",
       "YearRemodAdd      nan\n",
       "yeardiffremod     nan"
      ]
     },
     "execution_count": 48,
     "metadata": {},
     "output_type": "execute_result"
    }
   ],
   "source": [
    "skewness = skewness[abs(skewness) > 0.5]\n",
    "print(\"There are {} skewed numerical features to Box Cox transform\".format(skewness.shape[0]))\n",
    "\n",
    "from scipy.special import boxcox1p\n",
    "from scipy.stats import boxcox_normmax\n",
    "skew_index = skewness.index\n",
    "\n",
    "for col in skew_index:\n",
    "    fulldata[col]= boxcox1p(fulldata[col], boxcox_normmax(fulldata[col]+3))\n",
    "     \n",
    "skew_features2 = fulldata[conti_var].apply(lambda x: skew(x)).sort_values(ascending=False)\n",
    "skews2 = pd.DataFrame({'skew':skew_features2})\n",
    "skews2"
   ]
  },
  {
   "cell_type": "markdown",
   "metadata": {
    "colab_type": "text",
    "id": "-r0UN7iUbZW3"
   },
   "source": [
    "### 3.變數工程 \n",
    "- 類別行變數改為dummy variable"
   ]
  },
  {
   "cell_type": "code",
   "execution_count": 49,
   "metadata": {
    "colab": {},
    "colab_type": "code",
    "id": "_JOKN7dpbZW3",
    "outputId": "84675aab-a107-4853-b24c-771b6a96867a"
   },
   "outputs": [
    {
     "data": {
      "text/plain": [
       "(2916, 90)"
      ]
     },
     "execution_count": 49,
     "metadata": {},
     "output_type": "execute_result"
    }
   ],
   "source": [
    "fulldata = fulldata.drop('Id', axis=1)\n",
    "fulldata.shape"
   ]
  },
  {
   "cell_type": "code",
   "execution_count": 50,
   "metadata": {
    "colab": {},
    "colab_type": "code",
    "id": "4NjmN0E2bZW5",
    "outputId": "b19df65f-c277-4d5a-8b77-fbcb314ee2f7"
   },
   "outputs": [
    {
     "data": {
      "text/plain": [
       "(2916, 448)"
      ]
     },
     "execution_count": 50,
     "metadata": {},
     "output_type": "execute_result"
    }
   ],
   "source": [
    "base = pd.get_dummies(fulldata)\n",
    "base.shape"
   ]
  },
  {
   "cell_type": "markdown",
   "metadata": {
    "colab_type": "text",
    "collapsed": true,
    "id": "ycXzNaVpbZW9"
   },
   "source": [
    "### 4.變數檢視"
   ]
  },
  {
   "cell_type": "code",
   "execution_count": 51,
   "metadata": {
    "colab": {},
    "colab_type": "code",
    "id": "U53xVKunbZW9",
    "outputId": "d61a6335-dc36-4980-d3df-841e80c67685"
   },
   "outputs": [
    {
     "data": {
      "text/plain": [
       "<matplotlib.axes._subplots.AxesSubplot at 0x610b9b0>"
      ]
     },
     "execution_count": 51,
     "metadata": {},
     "output_type": "execute_result"
    },
    {
     "data": {
      "image/png": "[encoded data removed]",
      "text/plain": [
       "<Figure size 1440x648 with 2 Axes>"
      ]
     },
     "metadata": {
      "needs_background": "light"
     },
     "output_type": "display_data"
    }
   ],
   "source": [
    "corrmat = fulldata.corr()\n",
    "f, ax = plt.subplots(figsize=(20, 9))\n",
    "sns.heatmap(corrmat, vmax=0.8, square=True)"
   ]
  },
  {
   "cell_type": "markdown",
   "metadata": {
    "colab": {},
    "colab_type": "code",
    "id": "Ig65xptjbZXA"
   },
   "source": [
    "## 5.建模"
   ]
  },
  {
   "cell_type": "code",
   "execution_count": 52,
   "metadata": {
    "colab": {},
    "colab_type": "code",
    "id": "Yg3pomRgbZXC"
   },
   "outputs": [],
   "source": [
    "from sklearn.linear_model import ElasticNet, Lasso,  BayesianRidge, LassoLarsIC\n",
    "from sklearn.ensemble import RandomForestRegressor,  GradientBoostingRegressor\n",
    "from sklearn.kernel_ridge import KernelRidge\n",
    "from sklearn.pipeline import make_pipeline\n",
    "from sklearn.preprocessing import RobustScaler\n",
    "from sklearn.base import BaseEstimator, TransformerMixin, RegressorMixin, clone\n",
    "from sklearn.model_selection import KFold, cross_val_score, train_test_split\n",
    "from sklearn.metrics import mean_squared_error\n",
    "import xgboost as xgb\n",
    "import lightgbm as lgb\n"
   ]
  },
  {
   "cell_type": "markdown",
   "metadata": {
    "colab": {},
    "colab_type": "code",
    "id": "fuAp0Oy6bZXD"
   },
   "source": [
    "## cross validation"
   ]
  },
  {
   "cell_type": "code",
   "execution_count": 53,
   "metadata": {},
   "outputs": [],
   "source": [
    "new_train = fulldata[fulldata['flag']=='train']\n",
    "new_train['flag'].value_counts()\n",
    "\n",
    "#Validation function\n",
    "n_folds = 5\n",
    "new_train = base[:1458]\n",
    "new_test = base[1458:]\n",
    "\n",
    "\n",
    "def rmsle_cv(model):\n",
    "    kf = KFold(n_folds, shuffle=True, random_state=42).get_n_splits(new_train.values)\n",
    "    rmse= np.sqrt(-cross_val_score(model, new_train.values, new_train.SalePrice.values , scoring=\"neg_mean_squared_error\", cv = kf))\n",
    "    return(rmse)\n",
    "\n"
   ]
  },
  {
   "cell_type": "code",
   "execution_count": null,
   "metadata": {},
   "outputs": [],
   "source": []
  },
  {
   "cell_type": "code",
   "execution_count": null,
   "metadata": {},
   "outputs": [],
   "source": []
  },
  {
   "cell_type": "code",
   "execution_count": 56,
   "metadata": {},
   "outputs": [],
   "source": [
    "model_xgb = xgb.XGBRegressor(colsample_bytree=0.4603, gamma=0.0468, \n",
    "                             learning_rate=0.05, max_depth=3, \n",
    "                             min_child_weight=1.7817, n_estimators=2200,\n",
    "                             reg_alpha=0.4640, reg_lambda=0.8571,\n",
    "                             subsample=0.5213, silent=1,\n",
    "                             random_state =7, nthread = -1)\n",
    "\n"
   ]
  },
  {
   "cell_type": "code",
   "execution_count": 78,
   "metadata": {},
   "outputs": [
    {
     "data": {
      "text/plain": [
       "array([0.04206389, 0.04503343, 0.04583223, 0.05115151, 0.05088575])"
      ]
     },
     "execution_count": 78,
     "metadata": {},
     "output_type": "execute_result"
    }
   ],
   "source": [
    "score"
   ]
  },
  {
   "cell_type": "code",
   "execution_count": 91,
   "metadata": {},
   "outputs": [
    {
     "data": {
      "text/plain": [
       "XGBRegressor(base_score=0.5, booster='gbtree', colsample_bylevel=1,\n",
       "       colsample_bytree=0.4603, gamma=0.0468, learning_rate=0.05,\n",
       "       max_delta_step=0, max_depth=3, min_child_weight=1.7817,\n",
       "       missing=None, n_estimators=2200, n_jobs=1, nthread=-1,\n",
       "       objective='reg:linear', random_state=7, reg_alpha=0.464,\n",
       "       reg_lambda=0.8571, scale_pos_weight=1, seed=None, silent=1,\n",
       "       subsample=0.5213)"
      ]
     },
     "execution_count": 91,
     "metadata": {},
     "output_type": "execute_result"
    }
   ],
   "source": [
    "model_xgb.fit(new_train.values, new_train.SalePrice.values)"
   ]
  },
  {
   "cell_type": "code",
   "execution_count": 77,
   "metadata": {},
   "outputs": [
    {
     "name": "stdout",
     "output_type": "stream",
     "text": [
      "Xgboost score: 0.0470 (0.0035)\n",
      "\n"
     ]
    }
   ],
   "source": [
    "score = rmsle_cv(model_xgb)\n",
    "print(\"Xgboost score: {:.4f} ({:.4f})\\n\".format(score.mean(), score.std()))"
   ]
  },
  {
   "cell_type": "code",
   "execution_count": 67,
   "metadata": {},
   "outputs": [
    {
     "name": "stdout",
     "output_type": "stream",
     "text": [
      "Fitting 2 folds for each of 1 candidates, totalling 2 fits\n"
     ]
    },
    {
     "name": "stderr",
     "output_type": "stream",
     "text": [
      "[Parallel(n_jobs=5)]: Done   2 out of   2 | elapsed:    9.9s remaining:    0.0s\n",
      "[Parallel(n_jobs=5)]: Done   2 out of   2 | elapsed:    9.9s finished\n"
     ]
    },
    {
     "name": "stdout",
     "output_type": "stream",
     "text": [
      "0.999115737527348\n",
      "{'colsample_bytree': 0.9, 'learning_rate': 0.05, 'max_depth': 4, 'min_child_weight': 2, 'n_estimators': 2000, 'nthread': -1, 'objective': 'reg:linear', 'subsample': 0.9}\n"
     ]
    }
   ],
   "source": [
    "#Various hyper-parameters to tune\n",
    "from sklearn.model_selection import GridSearchCV\n",
    "xgb1 = xgb.XGBRegressor()\n",
    "parameters = {'nthread':[-1], #when use hyperthread, xgboost may become slower\n",
    "              'objective':['reg:linear'],\n",
    "              'learning_rate': [0.05], #so called `eta` value\n",
    "              'max_depth': [4],\n",
    "              'min_child_weight': [2],\n",
    "              'subsample': [0.9],\n",
    "              'colsample_bytree': [0.9],\n",
    "              'n_estimators': [2000]\n",
    "              }\n",
    "\n",
    "xgb_grid = GridSearchCV(xgb1,\n",
    "                        parameters,\n",
    "                        cv = 2,\n",
    "                        n_jobs = 5,\n",
    "                        verbose=True)\n",
    "\n",
    "xgb_grid.fit(new_train.values,new_train.SalePrice.values)\n",
    "\n",
    "print(xgb_grid.best_score_)\n",
    "print(xgb_grid.best_params_)"
   ]
  },
  {
   "cell_type": "code",
   "execution_count": 79,
   "metadata": {},
   "outputs": [
    {
     "name": "stdout",
     "output_type": "stream",
     "text": [
      "Fitting 2 folds for each of 1 candidates, totalling 2 fits\n"
     ]
    },
    {
     "name": "stderr",
     "output_type": "stream",
     "text": [
      "Exception ignored in: <function DMatrix.__del__ at 0x000000000E56FD08>\n",
      "Traceback (most recent call last):\n",
      "  File \"C:\\Users\\Hsien\\Anaconda3\\lib\\site-packages\\xgboost\\core.py\", line 482, in __del__\n",
      "    if self.handle is not None:\n",
      "AttributeError: 'DMatrix' object has no attribute 'handle'\n",
      "Exception ignored in: <function DMatrix.__del__ at 0x000000000E56FD08>\n",
      "Traceback (most recent call last):\n",
      "  File \"C:\\Users\\Hsien\\Anaconda3\\lib\\site-packages\\xgboost\\core.py\", line 482, in __del__\n",
      "    if self.handle is not None:\n",
      "AttributeError: 'DMatrix' object has no attribute 'handle'\n",
      "[Parallel(n_jobs=5)]: Done   2 out of   2 | elapsed:    9.7s remaining:    0.0s\n",
      "[Parallel(n_jobs=5)]: Done   2 out of   2 | elapsed:    9.7s finished\n"
     ]
    },
    {
     "name": "stdout",
     "output_type": "stream",
     "text": [
      "Fitting 2 folds for each of 1 candidates, totalling 2 fits\n"
     ]
    },
    {
     "name": "stderr",
     "output_type": "stream",
     "text": [
      "[Parallel(n_jobs=5)]: Done   2 out of   2 | elapsed:    6.5s remaining:    0.0s\n",
      "[Parallel(n_jobs=5)]: Done   2 out of   2 | elapsed:    6.5s finished\n"
     ]
    },
    {
     "name": "stdout",
     "output_type": "stream",
     "text": [
      "Fitting 2 folds for each of 1 candidates, totalling 2 fits\n"
     ]
    },
    {
     "name": "stderr",
     "output_type": "stream",
     "text": [
      "[Parallel(n_jobs=5)]: Done   2 out of   2 | elapsed:    6.5s remaining:    0.0s\n",
      "[Parallel(n_jobs=5)]: Done   2 out of   2 | elapsed:    6.5s finished\n"
     ]
    },
    {
     "name": "stdout",
     "output_type": "stream",
     "text": [
      "Fitting 2 folds for each of 1 candidates, totalling 2 fits\n"
     ]
    },
    {
     "name": "stderr",
     "output_type": "stream",
     "text": [
      "[Parallel(n_jobs=5)]: Done   2 out of   2 | elapsed:    6.3s remaining:    0.0s\n",
      "[Parallel(n_jobs=5)]: Done   2 out of   2 | elapsed:    6.3s finished\n"
     ]
    },
    {
     "name": "stdout",
     "output_type": "stream",
     "text": [
      "Fitting 2 folds for each of 1 candidates, totalling 2 fits\n"
     ]
    },
    {
     "name": "stderr",
     "output_type": "stream",
     "text": [
      "[Parallel(n_jobs=5)]: Done   2 out of   2 | elapsed:    6.5s remaining:    0.0s\n",
      "[Parallel(n_jobs=5)]: Done   2 out of   2 | elapsed:    6.5s finished\n"
     ]
    },
    {
     "name": "stdout",
     "output_type": "stream",
     "text": [
      "Xgboost score: 0.0088 (0.0014)\n",
      "\n"
     ]
    }
   ],
   "source": [
    "score = rmsle_cv(xgb_grid)\n",
    "print(\"Xgboost score: {:.4f} ({:.4f})\\n\".format(score.mean(), score.std()))"
   ]
  },
  {
   "cell_type": "code",
   "execution_count": 71,
   "metadata": {},
   "outputs": [
    {
     "ename": "XGBoostError",
     "evalue": "need to call fit or load_model beforehand",
     "output_type": "error",
     "traceback": [
      "\u001b[1;31m---------------------------------------------------------------------------\u001b[0m",
      "\u001b[1;31mXGBoostError\u001b[0m                              Traceback (most recent call last)",
      "\u001b[1;32m<ipython-input-71-2523593a0f22>\u001b[0m in \u001b[0;36m<module>\u001b[1;34m()\u001b[0m\n\u001b[1;32m----> 1\u001b[1;33m \u001b[0mFinal_labels\u001b[0m \u001b[1;33m=\u001b[0m \u001b[0mnp\u001b[0m\u001b[1;33m.\u001b[0m\u001b[0mexp\u001b[0m\u001b[1;33m(\u001b[0m\u001b[0mxgb1\u001b[0m\u001b[1;33m.\u001b[0m\u001b[0mpredict\u001b[0m\u001b[1;33m(\u001b[0m\u001b[0mnew_test\u001b[0m\u001b[1;33m.\u001b[0m\u001b[0mSalePrice\u001b[0m\u001b[1;33m)\u001b[0m\u001b[1;33m)\u001b[0m\u001b[1;33m\u001b[0m\u001b[0m\n\u001b[0m",
      "\u001b[1;32m~\\Anaconda3\\lib\\site-packages\\xgboost\\sklearn.py\u001b[0m in \u001b[0;36mpredict\u001b[1;34m(self, data, output_margin, ntree_limit)\u001b[0m\n\u001b[0;32m    343\u001b[0m         \u001b[1;32mif\u001b[0m \u001b[0mntree_limit\u001b[0m \u001b[1;32mis\u001b[0m \u001b[1;32mNone\u001b[0m\u001b[1;33m:\u001b[0m\u001b[1;33m\u001b[0m\u001b[0m\n\u001b[0;32m    344\u001b[0m             \u001b[0mntree_limit\u001b[0m \u001b[1;33m=\u001b[0m \u001b[0mgetattr\u001b[0m\u001b[1;33m(\u001b[0m\u001b[0mself\u001b[0m\u001b[1;33m,\u001b[0m \u001b[1;34m\"best_ntree_limit\"\u001b[0m\u001b[1;33m,\u001b[0m \u001b[1;36m0\u001b[0m\u001b[1;33m)\u001b[0m\u001b[1;33m\u001b[0m\u001b[0m\n\u001b[1;32m--> 345\u001b[1;33m         return self.get_booster().predict(test_dmatrix,\n\u001b[0m\u001b[0;32m    346\u001b[0m                                           \u001b[0moutput_margin\u001b[0m\u001b[1;33m=\u001b[0m\u001b[0moutput_margin\u001b[0m\u001b[1;33m,\u001b[0m\u001b[1;33m\u001b[0m\u001b[0m\n\u001b[0;32m    347\u001b[0m                                           ntree_limit=ntree_limit)\n",
      "\u001b[1;32m~\\Anaconda3\\lib\\site-packages\\xgboost\\sklearn.py\u001b[0m in \u001b[0;36mget_booster\u001b[1;34m(self)\u001b[0m\n\u001b[0;32m    177\u001b[0m         \"\"\"\n\u001b[0;32m    178\u001b[0m         \u001b[1;32mif\u001b[0m \u001b[0mself\u001b[0m\u001b[1;33m.\u001b[0m\u001b[0m_Booster\u001b[0m \u001b[1;32mis\u001b[0m \u001b[1;32mNone\u001b[0m\u001b[1;33m:\u001b[0m\u001b[1;33m\u001b[0m\u001b[0m\n\u001b[1;32m--> 179\u001b[1;33m             \u001b[1;32mraise\u001b[0m \u001b[0mXGBoostError\u001b[0m\u001b[1;33m(\u001b[0m\u001b[1;34m'need to call fit or load_model beforehand'\u001b[0m\u001b[1;33m)\u001b[0m\u001b[1;33m\u001b[0m\u001b[0m\n\u001b[0m\u001b[0;32m    180\u001b[0m         \u001b[1;32mreturn\u001b[0m \u001b[0mself\u001b[0m\u001b[1;33m.\u001b[0m\u001b[0m_Booster\u001b[0m\u001b[1;33m\u001b[0m\u001b[0m\n\u001b[0;32m    181\u001b[0m \u001b[1;33m\u001b[0m\u001b[0m\n",
      "\u001b[1;31mXGBoostError\u001b[0m: need to call fit or load_model beforehand"
     ]
    }
   ],
   "source": [
    "Final_labels = np.exp(xgb1.predict(new_test.SalePrice))"
   ]
  },
  {
   "cell_type": "code",
   "execution_count": 73,
   "metadata": {},
   "outputs": [
    {
     "ename": "NameError",
     "evalue": "name 'model_xgb1' is not defined",
     "output_type": "error",
     "traceback": [
      "\u001b[1;31m---------------------------------------------------------------------------\u001b[0m",
      "\u001b[1;31mNameError\u001b[0m                                 Traceback (most recent call last)",
      "\u001b[1;32m<ipython-input-73-2ddbf5462025>\u001b[0m in \u001b[0;36m<module>\u001b[1;34m()\u001b[0m\n\u001b[1;32m----> 1\u001b[1;33m \u001b[0mmodel_xgb1\u001b[0m\u001b[1;33m.\u001b[0m\u001b[0mpredict\u001b[0m\u001b[1;33m(\u001b[0m\u001b[0mnew_test\u001b[0m\u001b[1;33m.\u001b[0m\u001b[0mSalePrice\u001b[0m\u001b[1;33m)\u001b[0m\u001b[1;33m\u001b[0m\u001b[0m\n\u001b[0m",
      "\u001b[1;31mNameError\u001b[0m: name 'model_xgb1' is not defined"
     ]
    }
   ],
   "source": [
    "model_xgb1.predict(new_test.SalePrice)"
   ]
  },
  {
   "cell_type": "code",
   "execution_count": 75,
   "metadata": {},
   "outputs": [],
   "source": [
    "xgb1 = xgb.XGBRegressor(parameters)\n",
    "parameters = {'nthread':[-1], #when use hyperthread, xgboost may become slower\n",
    "              'objective':['reg:linear'],\n",
    "              'learning_rate': [0.05], #so called `eta` value\n",
    "              'max_depth': [4],\n",
    "              'min_child_weight': [2],\n",
    "              'subsample': [0.9],\n",
    "              'colsample_bytree': [0.9],\n",
    "              'n_estimators': [2000]\n",
    "              }"
   ]
  },
  {
   "cell_type": "code",
   "execution_count": 76,
   "metadata": {},
   "outputs": [
    {
     "ename": "XGBoostError",
     "evalue": "need to call fit or load_model beforehand",
     "output_type": "error",
     "traceback": [
      "\u001b[1;31m---------------------------------------------------------------------------\u001b[0m",
      "\u001b[1;31mXGBoostError\u001b[0m                              Traceback (most recent call last)",
      "\u001b[1;32m<ipython-input-76-86bfb106b41a>\u001b[0m in \u001b[0;36m<module>\u001b[1;34m()\u001b[0m\n\u001b[1;32m----> 1\u001b[1;33m \u001b[0mxgb1\u001b[0m\u001b[1;33m.\u001b[0m\u001b[0mpredict\u001b[0m\u001b[1;33m(\u001b[0m\u001b[0mnew_test\u001b[0m\u001b[1;33m.\u001b[0m\u001b[0mSalePrice\u001b[0m\u001b[1;33m)\u001b[0m\u001b[1;33m\u001b[0m\u001b[0m\n\u001b[0m",
      "\u001b[1;32m~\\Anaconda3\\lib\\site-packages\\xgboost\\sklearn.py\u001b[0m in \u001b[0;36mpredict\u001b[1;34m(self, data, output_margin, ntree_limit)\u001b[0m\n\u001b[0;32m    343\u001b[0m         \u001b[1;32mif\u001b[0m \u001b[0mntree_limit\u001b[0m \u001b[1;32mis\u001b[0m \u001b[1;32mNone\u001b[0m\u001b[1;33m:\u001b[0m\u001b[1;33m\u001b[0m\u001b[0m\n\u001b[0;32m    344\u001b[0m             \u001b[0mntree_limit\u001b[0m \u001b[1;33m=\u001b[0m \u001b[0mgetattr\u001b[0m\u001b[1;33m(\u001b[0m\u001b[0mself\u001b[0m\u001b[1;33m,\u001b[0m \u001b[1;34m\"best_ntree_limit\"\u001b[0m\u001b[1;33m,\u001b[0m \u001b[1;36m0\u001b[0m\u001b[1;33m)\u001b[0m\u001b[1;33m\u001b[0m\u001b[0m\n\u001b[1;32m--> 345\u001b[1;33m         return self.get_booster().predict(test_dmatrix,\n\u001b[0m\u001b[0;32m    346\u001b[0m                                           \u001b[0moutput_margin\u001b[0m\u001b[1;33m=\u001b[0m\u001b[0moutput_margin\u001b[0m\u001b[1;33m,\u001b[0m\u001b[1;33m\u001b[0m\u001b[0m\n\u001b[0;32m    347\u001b[0m                                           ntree_limit=ntree_limit)\n",
      "\u001b[1;32m~\\Anaconda3\\lib\\site-packages\\xgboost\\sklearn.py\u001b[0m in \u001b[0;36mget_booster\u001b[1;34m(self)\u001b[0m\n\u001b[0;32m    177\u001b[0m         \"\"\"\n\u001b[0;32m    178\u001b[0m         \u001b[1;32mif\u001b[0m \u001b[0mself\u001b[0m\u001b[1;33m.\u001b[0m\u001b[0m_Booster\u001b[0m \u001b[1;32mis\u001b[0m \u001b[1;32mNone\u001b[0m\u001b[1;33m:\u001b[0m\u001b[1;33m\u001b[0m\u001b[0m\n\u001b[1;32m--> 179\u001b[1;33m             \u001b[1;32mraise\u001b[0m \u001b[0mXGBoostError\u001b[0m\u001b[1;33m(\u001b[0m\u001b[1;34m'need to call fit or load_model beforehand'\u001b[0m\u001b[1;33m)\u001b[0m\u001b[1;33m\u001b[0m\u001b[0m\n\u001b[0m\u001b[0;32m    180\u001b[0m         \u001b[1;32mreturn\u001b[0m \u001b[0mself\u001b[0m\u001b[1;33m.\u001b[0m\u001b[0m_Booster\u001b[0m\u001b[1;33m\u001b[0m\u001b[0m\n\u001b[0;32m    181\u001b[0m \u001b[1;33m\u001b[0m\u001b[0m\n",
      "\u001b[1;31mXGBoostError\u001b[0m: need to call fit or load_model beforehand"
     ]
    }
   ],
   "source": [
    "xgb1.predict(new_test.SalePrice)"
   ]
  },
  {
   "cell_type": "code",
   "execution_count": null,
   "metadata": {},
   "outputs": [],
   "source": []
  }
 ],
 "metadata": {
  "colab": {
   "name": "my version.ipynb",
   "provenance": [],
   "version": "0.3.2"
  },
  "kernelspec": {
   "display_name": "Python 3",
   "language": "python",
   "name": "python3"
  },
  "language_info": {
   "codemirror_mode": {
    "name": "ipython",
    "version": 3
   },
   "file_extension": ".py",
   "mimetype": "text/x-python",
   "name": "python",
   "nbconvert_exporter": "python",
   "pygments_lexer": "ipython3",
   "version": "3.7.0"
  }
 },
 "nbformat": 4,
 "nbformat_minor": 1
}
