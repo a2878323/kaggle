{
 "cells": [
  {
   "cell_type": "markdown",
   "metadata": {},
   "source": [
    "## GPU can work but cpu can't , I don't know why??????"
   ]
  },
  {
   "cell_type": "code",
   "execution_count": 1,
   "metadata": {
    "collapsed": true
   },
   "outputs": [],
   "source": [
    "#http://sdsawtelle.github.io/blog/output/week9-recommender-andrew-ng-machine-learning-with-python.html?fbclid=IwAR3AHrpbxYCKhbGnzOyWHdm3IXppK7qjg73ULwAyQhR5e24_3693xyNqK90\n",
    "import numpy as np \n",
    "import pandas as pd \n",
    "import matplotlib.pyplot as plt\n",
    "import math\n",
    "\n",
    "%matplotlib inline"
   ]
  },
  {
   "cell_type": "code",
   "execution_count": 2,
   "metadata": {},
   "outputs": [
    {
     "name": "stdout",
     "output_type": "stream",
     "text": [
      "/Users/YiHsien/Documents/kaggle/AnimeRecommendations\n"
     ]
    }
   ],
   "source": [
    "import os\n",
    "print(os.getcwd())"
   ]
  },
  {
   "cell_type": "code",
   "execution_count": 3,
   "metadata": {
    "collapsed": true
   },
   "outputs": [],
   "source": [
    "anime = pd.read_csv('anime.csv')\n",
    "rating = pd.read_csv('rating.csv')"
   ]
  },
  {
   "cell_type": "code",
   "execution_count": 4,
   "metadata": {},
   "outputs": [
    {
     "data": {
      "text/html": [
       "<div>\n",
       "<style>\n",
       "    .dataframe thead tr:only-child th {\n",
       "        text-align: right;\n",
       "    }\n",
       "\n",
       "    .dataframe thead th {\n",
       "        text-align: left;\n",
       "    }\n",
       "\n",
       "    .dataframe tbody tr th {\n",
       "        vertical-align: top;\n",
       "    }\n",
       "</style>\n",
       "<table border=\"1\" class=\"dataframe\">\n",
       "  <thead>\n",
       "    <tr style=\"text-align: right;\">\n",
       "      <th></th>\n",
       "      <th>anime_id</th>\n",
       "      <th>name</th>\n",
       "      <th>genre</th>\n",
       "      <th>type</th>\n",
       "      <th>episodes</th>\n",
       "      <th>rating</th>\n",
       "      <th>members</th>\n",
       "    </tr>\n",
       "  </thead>\n",
       "  <tbody>\n",
       "    <tr>\n",
       "      <th>0</th>\n",
       "      <td>32281</td>\n",
       "      <td>Kimi no Na wa.</td>\n",
       "      <td>Drama, Romance, School, Supernatural</td>\n",
       "      <td>Movie</td>\n",
       "      <td>1</td>\n",
       "      <td>9.37</td>\n",
       "      <td>200630</td>\n",
       "    </tr>\n",
       "    <tr>\n",
       "      <th>1</th>\n",
       "      <td>5114</td>\n",
       "      <td>Fullmetal Alchemist: Brotherhood</td>\n",
       "      <td>Action, Adventure, Drama, Fantasy, Magic, Mili...</td>\n",
       "      <td>TV</td>\n",
       "      <td>64</td>\n",
       "      <td>9.26</td>\n",
       "      <td>793665</td>\n",
       "    </tr>\n",
       "    <tr>\n",
       "      <th>2</th>\n",
       "      <td>28977</td>\n",
       "      <td>Gintama°</td>\n",
       "      <td>Action, Comedy, Historical, Parody, Samurai, S...</td>\n",
       "      <td>TV</td>\n",
       "      <td>51</td>\n",
       "      <td>9.25</td>\n",
       "      <td>114262</td>\n",
       "    </tr>\n",
       "    <tr>\n",
       "      <th>3</th>\n",
       "      <td>9253</td>\n",
       "      <td>Steins;Gate</td>\n",
       "      <td>Sci-Fi, Thriller</td>\n",
       "      <td>TV</td>\n",
       "      <td>24</td>\n",
       "      <td>9.17</td>\n",
       "      <td>673572</td>\n",
       "    </tr>\n",
       "    <tr>\n",
       "      <th>4</th>\n",
       "      <td>9969</td>\n",
       "      <td>Gintama&amp;#039;</td>\n",
       "      <td>Action, Comedy, Historical, Parody, Samurai, S...</td>\n",
       "      <td>TV</td>\n",
       "      <td>51</td>\n",
       "      <td>9.16</td>\n",
       "      <td>151266</td>\n",
       "    </tr>\n",
       "  </tbody>\n",
       "</table>\n",
       "</div>"
      ],
      "text/plain": [
       "   anime_id                              name  \\\n",
       "0     32281                    Kimi no Na wa.   \n",
       "1      5114  Fullmetal Alchemist: Brotherhood   \n",
       "2     28977                          Gintama°   \n",
       "3      9253                       Steins;Gate   \n",
       "4      9969                     Gintama&#039;   \n",
       "\n",
       "                                               genre   type episodes  rating  \\\n",
       "0               Drama, Romance, School, Supernatural  Movie        1    9.37   \n",
       "1  Action, Adventure, Drama, Fantasy, Magic, Mili...     TV       64    9.26   \n",
       "2  Action, Comedy, Historical, Parody, Samurai, S...     TV       51    9.25   \n",
       "3                                   Sci-Fi, Thriller     TV       24    9.17   \n",
       "4  Action, Comedy, Historical, Parody, Samurai, S...     TV       51    9.16   \n",
       "\n",
       "   members  \n",
       "0   200630  \n",
       "1   793665  \n",
       "2   114262  \n",
       "3   673572  \n",
       "4   151266  "
      ]
     },
     "execution_count": 4,
     "metadata": {},
     "output_type": "execute_result"
    }
   ],
   "source": [
    "anime.head()"
   ]
  },
  {
   "cell_type": "code",
   "execution_count": 5,
   "metadata": {},
   "outputs": [
    {
     "name": "stdout",
     "output_type": "stream",
     "text": [
      "<class 'pandas.core.frame.DataFrame'>\n",
      "RangeIndex: 12294 entries, 0 to 12293\n",
      "Data columns (total 7 columns):\n",
      "anime_id    12294 non-null int64\n",
      "name        12294 non-null object\n",
      "genre       12232 non-null object\n",
      "type        12269 non-null object\n",
      "episodes    12294 non-null object\n",
      "rating      12064 non-null float64\n",
      "members     12294 non-null int64\n",
      "dtypes: float64(1), int64(2), object(4)\n",
      "memory usage: 672.4+ KB\n"
     ]
    }
   ],
   "source": [
    "anime.info()"
   ]
  },
  {
   "cell_type": "code",
   "execution_count": 6,
   "metadata": {},
   "outputs": [
    {
     "data": {
      "text/html": [
       "<div>\n",
       "<style>\n",
       "    .dataframe thead tr:only-child th {\n",
       "        text-align: right;\n",
       "    }\n",
       "\n",
       "    .dataframe thead th {\n",
       "        text-align: left;\n",
       "    }\n",
       "\n",
       "    .dataframe tbody tr th {\n",
       "        vertical-align: top;\n",
       "    }\n",
       "</style>\n",
       "<table border=\"1\" class=\"dataframe\">\n",
       "  <thead>\n",
       "    <tr style=\"text-align: right;\">\n",
       "      <th></th>\n",
       "      <th>user_id</th>\n",
       "      <th>anime_id</th>\n",
       "      <th>rating</th>\n",
       "    </tr>\n",
       "  </thead>\n",
       "  <tbody>\n",
       "    <tr>\n",
       "      <th>0</th>\n",
       "      <td>1</td>\n",
       "      <td>20</td>\n",
       "      <td>-1</td>\n",
       "    </tr>\n",
       "    <tr>\n",
       "      <th>1</th>\n",
       "      <td>1</td>\n",
       "      <td>24</td>\n",
       "      <td>-1</td>\n",
       "    </tr>\n",
       "    <tr>\n",
       "      <th>2</th>\n",
       "      <td>1</td>\n",
       "      <td>79</td>\n",
       "      <td>-1</td>\n",
       "    </tr>\n",
       "    <tr>\n",
       "      <th>3</th>\n",
       "      <td>1</td>\n",
       "      <td>226</td>\n",
       "      <td>-1</td>\n",
       "    </tr>\n",
       "    <tr>\n",
       "      <th>4</th>\n",
       "      <td>1</td>\n",
       "      <td>241</td>\n",
       "      <td>-1</td>\n",
       "    </tr>\n",
       "  </tbody>\n",
       "</table>\n",
       "</div>"
      ],
      "text/plain": [
       "   user_id  anime_id  rating\n",
       "0        1        20      -1\n",
       "1        1        24      -1\n",
       "2        1        79      -1\n",
       "3        1       226      -1\n",
       "4        1       241      -1"
      ]
     },
     "execution_count": 6,
     "metadata": {},
     "output_type": "execute_result"
    }
   ],
   "source": [
    "rating.head()"
   ]
  },
  {
   "cell_type": "code",
   "execution_count": 7,
   "metadata": {},
   "outputs": [
    {
     "name": "stdout",
     "output_type": "stream",
     "text": [
      "<class 'pandas.core.frame.DataFrame'>\n",
      "RangeIndex: 7813737 entries, 0 to 7813736\n",
      "Data columns (total 3 columns):\n",
      "user_id     int64\n",
      "anime_id    int64\n",
      "rating      int64\n",
      "dtypes: int64(3)\n",
      "memory usage: 178.8 MB\n"
     ]
    }
   ],
   "source": [
    "rating.info()"
   ]
  },
  {
   "cell_type": "code",
   "execution_count": 8,
   "metadata": {},
   "outputs": [
    {
     "data": {
      "text/html": [
       "<div>\n",
       "<style>\n",
       "    .dataframe thead tr:only-child th {\n",
       "        text-align: right;\n",
       "    }\n",
       "\n",
       "    .dataframe thead th {\n",
       "        text-align: left;\n",
       "    }\n",
       "\n",
       "    .dataframe tbody tr th {\n",
       "        vertical-align: top;\n",
       "    }\n",
       "</style>\n",
       "<table border=\"1\" class=\"dataframe\">\n",
       "  <thead>\n",
       "    <tr style=\"text-align: right;\">\n",
       "      <th></th>\n",
       "      <th>user_id</th>\n",
       "      <th>anime_id</th>\n",
       "      <th>rating_x</th>\n",
       "      <th>name</th>\n",
       "      <th>genre</th>\n",
       "      <th>type</th>\n",
       "      <th>episodes</th>\n",
       "      <th>rating_y</th>\n",
       "      <th>members</th>\n",
       "    </tr>\n",
       "  </thead>\n",
       "  <tbody>\n",
       "    <tr>\n",
       "      <th>98741</th>\n",
       "      <td>1</td>\n",
       "      <td>442</td>\n",
       "      <td>-1</td>\n",
       "      <td>Naruto Movie 1: Dai Katsugeki!! Yuki Hime Shin...</td>\n",
       "      <td>Adventure, Comedy, Drama, Historical, Shounen,...</td>\n",
       "      <td>Movie</td>\n",
       "      <td>1</td>\n",
       "      <td>7.17</td>\n",
       "      <td>120571</td>\n",
       "    </tr>\n",
       "    <tr>\n",
       "      <th>98742</th>\n",
       "      <td>5</td>\n",
       "      <td>442</td>\n",
       "      <td>4</td>\n",
       "      <td>Naruto Movie 1: Dai Katsugeki!! Yuki Hime Shin...</td>\n",
       "      <td>Adventure, Comedy, Drama, Historical, Shounen,...</td>\n",
       "      <td>Movie</td>\n",
       "      <td>1</td>\n",
       "      <td>7.17</td>\n",
       "      <td>120571</td>\n",
       "    </tr>\n",
       "    <tr>\n",
       "      <th>98743</th>\n",
       "      <td>54</td>\n",
       "      <td>442</td>\n",
       "      <td>-1</td>\n",
       "      <td>Naruto Movie 1: Dai Katsugeki!! Yuki Hime Shin...</td>\n",
       "      <td>Adventure, Comedy, Drama, Historical, Shounen,...</td>\n",
       "      <td>Movie</td>\n",
       "      <td>1</td>\n",
       "      <td>7.17</td>\n",
       "      <td>120571</td>\n",
       "    </tr>\n",
       "    <tr>\n",
       "      <th>98744</th>\n",
       "      <td>99</td>\n",
       "      <td>442</td>\n",
       "      <td>2</td>\n",
       "      <td>Naruto Movie 1: Dai Katsugeki!! Yuki Hime Shin...</td>\n",
       "      <td>Adventure, Comedy, Drama, Historical, Shounen,...</td>\n",
       "      <td>Movie</td>\n",
       "      <td>1</td>\n",
       "      <td>7.17</td>\n",
       "      <td>120571</td>\n",
       "    </tr>\n",
       "    <tr>\n",
       "      <th>98745</th>\n",
       "      <td>128</td>\n",
       "      <td>442</td>\n",
       "      <td>7</td>\n",
       "      <td>Naruto Movie 1: Dai Katsugeki!! Yuki Hime Shin...</td>\n",
       "      <td>Adventure, Comedy, Drama, Historical, Shounen,...</td>\n",
       "      <td>Movie</td>\n",
       "      <td>1</td>\n",
       "      <td>7.17</td>\n",
       "      <td>120571</td>\n",
       "    </tr>\n",
       "    <tr>\n",
       "      <th>98746</th>\n",
       "      <td>129</td>\n",
       "      <td>442</td>\n",
       "      <td>8</td>\n",
       "      <td>Naruto Movie 1: Dai Katsugeki!! Yuki Hime Shin...</td>\n",
       "      <td>Adventure, Comedy, Drama, Historical, Shounen,...</td>\n",
       "      <td>Movie</td>\n",
       "      <td>1</td>\n",
       "      <td>7.17</td>\n",
       "      <td>120571</td>\n",
       "    </tr>\n",
       "    <tr>\n",
       "      <th>98747</th>\n",
       "      <td>171</td>\n",
       "      <td>442</td>\n",
       "      <td>10</td>\n",
       "      <td>Naruto Movie 1: Dai Katsugeki!! Yuki Hime Shin...</td>\n",
       "      <td>Adventure, Comedy, Drama, Historical, Shounen,...</td>\n",
       "      <td>Movie</td>\n",
       "      <td>1</td>\n",
       "      <td>7.17</td>\n",
       "      <td>120571</td>\n",
       "    </tr>\n",
       "    <tr>\n",
       "      <th>98748</th>\n",
       "      <td>188</td>\n",
       "      <td>442</td>\n",
       "      <td>-1</td>\n",
       "      <td>Naruto Movie 1: Dai Katsugeki!! Yuki Hime Shin...</td>\n",
       "      <td>Adventure, Comedy, Drama, Historical, Shounen,...</td>\n",
       "      <td>Movie</td>\n",
       "      <td>1</td>\n",
       "      <td>7.17</td>\n",
       "      <td>120571</td>\n",
       "    </tr>\n",
       "    <tr>\n",
       "      <th>98749</th>\n",
       "      <td>190</td>\n",
       "      <td>442</td>\n",
       "      <td>5</td>\n",
       "      <td>Naruto Movie 1: Dai Katsugeki!! Yuki Hime Shin...</td>\n",
       "      <td>Adventure, Comedy, Drama, Historical, Shounen,...</td>\n",
       "      <td>Movie</td>\n",
       "      <td>1</td>\n",
       "      <td>7.17</td>\n",
       "      <td>120571</td>\n",
       "    </tr>\n",
       "    <tr>\n",
       "      <th>98750</th>\n",
       "      <td>201</td>\n",
       "      <td>442</td>\n",
       "      <td>10</td>\n",
       "      <td>Naruto Movie 1: Dai Katsugeki!! Yuki Hime Shin...</td>\n",
       "      <td>Adventure, Comedy, Drama, Historical, Shounen,...</td>\n",
       "      <td>Movie</td>\n",
       "      <td>1</td>\n",
       "      <td>7.17</td>\n",
       "      <td>120571</td>\n",
       "    </tr>\n",
       "  </tbody>\n",
       "</table>\n",
       "</div>"
      ],
      "text/plain": [
       "       user_id  anime_id  rating_x  \\\n",
       "98741        1       442        -1   \n",
       "98742        5       442         4   \n",
       "98743       54       442        -1   \n",
       "98744       99       442         2   \n",
       "98745      128       442         7   \n",
       "98746      129       442         8   \n",
       "98747      171       442        10   \n",
       "98748      188       442        -1   \n",
       "98749      190       442         5   \n",
       "98750      201       442        10   \n",
       "\n",
       "                                                    name  \\\n",
       "98741  Naruto Movie 1: Dai Katsugeki!! Yuki Hime Shin...   \n",
       "98742  Naruto Movie 1: Dai Katsugeki!! Yuki Hime Shin...   \n",
       "98743  Naruto Movie 1: Dai Katsugeki!! Yuki Hime Shin...   \n",
       "98744  Naruto Movie 1: Dai Katsugeki!! Yuki Hime Shin...   \n",
       "98745  Naruto Movie 1: Dai Katsugeki!! Yuki Hime Shin...   \n",
       "98746  Naruto Movie 1: Dai Katsugeki!! Yuki Hime Shin...   \n",
       "98747  Naruto Movie 1: Dai Katsugeki!! Yuki Hime Shin...   \n",
       "98748  Naruto Movie 1: Dai Katsugeki!! Yuki Hime Shin...   \n",
       "98749  Naruto Movie 1: Dai Katsugeki!! Yuki Hime Shin...   \n",
       "98750  Naruto Movie 1: Dai Katsugeki!! Yuki Hime Shin...   \n",
       "\n",
       "                                                   genre   type episodes  \\\n",
       "98741  Adventure, Comedy, Drama, Historical, Shounen,...  Movie        1   \n",
       "98742  Adventure, Comedy, Drama, Historical, Shounen,...  Movie        1   \n",
       "98743  Adventure, Comedy, Drama, Historical, Shounen,...  Movie        1   \n",
       "98744  Adventure, Comedy, Drama, Historical, Shounen,...  Movie        1   \n",
       "98745  Adventure, Comedy, Drama, Historical, Shounen,...  Movie        1   \n",
       "98746  Adventure, Comedy, Drama, Historical, Shounen,...  Movie        1   \n",
       "98747  Adventure, Comedy, Drama, Historical, Shounen,...  Movie        1   \n",
       "98748  Adventure, Comedy, Drama, Historical, Shounen,...  Movie        1   \n",
       "98749  Adventure, Comedy, Drama, Historical, Shounen,...  Movie        1   \n",
       "98750  Adventure, Comedy, Drama, Historical, Shounen,...  Movie        1   \n",
       "\n",
       "       rating_y  members  \n",
       "98741      7.17   120571  \n",
       "98742      7.17   120571  \n",
       "98743      7.17   120571  \n",
       "98744      7.17   120571  \n",
       "98745      7.17   120571  \n",
       "98746      7.17   120571  \n",
       "98747      7.17   120571  \n",
       "98748      7.17   120571  \n",
       "98749      7.17   120571  \n",
       "98750      7.17   120571  "
      ]
     },
     "execution_count": 8,
     "metadata": {},
     "output_type": "execute_result"
    }
   ],
   "source": [
    "mergedata = pd.merge(rating,anime,on=['anime_id','anime_id'])\n",
    "mergedata = mergedata[mergedata['type']=='Movie']\n",
    "mergedata.head(10)"
   ]
  },
  {
   "cell_type": "code",
   "execution_count": 9,
   "metadata": {},
   "outputs": [
    {
     "name": "stdout",
     "output_type": "stream",
     "text": [
      "<class 'pandas.core.frame.DataFrame'>\n",
      "Int64Index: 1051998 entries, 98741 to 7813726\n",
      "Data columns (total 9 columns):\n",
      "user_id     1051998 non-null int64\n",
      "anime_id    1051998 non-null int64\n",
      "rating_x    1051998 non-null int64\n",
      "name        1051998 non-null object\n",
      "genre       1051911 non-null object\n",
      "type        1051998 non-null object\n",
      "episodes    1051998 non-null object\n",
      "rating_y    1051996 non-null float64\n",
      "members     1051998 non-null int64\n",
      "dtypes: float64(1), int64(4), object(4)\n",
      "memory usage: 80.3+ MB\n"
     ]
    }
   ],
   "source": [
    "mergedata.info()"
   ]
  },
  {
   "cell_type": "code",
   "execution_count": 10,
   "metadata": {
    "collapsed": true
   },
   "outputs": [],
   "source": [
    "mergedata['genre'].fillna('None', inplace=True)"
   ]
  },
  {
   "cell_type": "code",
   "execution_count": 11,
   "metadata": {
    "collapsed": true,
    "scrolled": true
   },
   "outputs": [],
   "source": [
    "mergedata['rating_y'].fillna(mergedata['rating_y'].median(), inplace=True)"
   ]
  },
  {
   "cell_type": "markdown",
   "metadata": {},
   "source": [
    "## train and test"
   ]
  },
  {
   "cell_type": "code",
   "execution_count": 12,
   "metadata": {
    "collapsed": true
   },
   "outputs": [],
   "source": [
    "import random\n",
    "random.seed(39987)"
   ]
  },
  {
   "cell_type": "code",
   "execution_count": 13,
   "metadata": {
    "collapsed": true
   },
   "outputs": [],
   "source": [
    "from sklearn.model_selection import train_test_split\n",
    "train, test = train_test_split(mergedata, test_size=0.3)"
   ]
  },
  {
   "cell_type": "code",
   "execution_count": 14,
   "metadata": {},
   "outputs": [
    {
     "name": "stdout",
     "output_type": "stream",
     "text": [
      "(736398, 9) (315600, 9)\n"
     ]
    }
   ],
   "source": [
    "print(train.shape,test.shape)"
   ]
  },
  {
   "cell_type": "markdown",
   "metadata": {},
   "source": [
    "## 將電影類別換成數字"
   ]
  },
  {
   "cell_type": "code",
   "execution_count": 15,
   "metadata": {
    "collapsed": true
   },
   "outputs": [],
   "source": [
    "from sklearn.base import BaseEstimator, TransformerMixin\n",
    "class CounterEncoder(BaseEstimator, TransformerMixin):\n",
    "    \"\"\"依照出現頻率進行編碼, 頻率由高到低的index = 0, 1, 2, 3 ..., 以此類推\"\"\"\n",
    "    def fit(self, y):\n",
    "        counter = pd.Series(y).value_counts()\n",
    "        self.enc = dict(zip([None] + counter.index.tolist(), range(len(counter) + 1)))\n",
    "        self.invEnc = dict(zip(self.enc.values(), self.enc.keys()))\n",
    "        self.classes_ = counter.index.values\n",
    "        return self\n",
    "\n",
    "    def transform(self, y):\n",
    "        return pd.Series(y).map(self.enc).fillna(0).values\n",
    "\n",
    "    def fit_transform(self, y, **fit_params):\n",
    "        return self.fit(y).transform(y)\n",
    "    \n",
    "    def inverse_transform(self, y):\n",
    "        return pd.Series(y).map(self.invEnc).values\n",
    "\n",
    "\n",
    "class OrderedMapper(CounterEncoder):\n",
    "    def fit(self, y):\n",
    "        uniq = pd.Series(y).unique()\n",
    "        self.enc = dict(zip(uniq, range(len(uniq))))\n",
    "        self.invEnc = dict(zip(range(len(uniq)), uniq))\n",
    "        self.classes_ = uniq\n",
    "        return self"
   ]
  },
  {
   "cell_type": "code",
   "execution_count": 16,
   "metadata": {
    "collapsed": true
   },
   "outputs": [],
   "source": [
    "from collections import defaultdict, Counter, OrderedDict\n",
    "def doMovies(movies):\n",
    "    \"\"\"處理 movie: genres 轉換成數字\"\"\"\n",
    "    movies = movies.reset_index(drop=True)\n",
    "    movies.loc[movies.genre == \"(no genres listed)\", \"genre\"] = \"\"\n",
    "    movies['genre']=movies['genre'].fillna('')\n",
    "    movies[\"genre\"] = movies.genre.str.split(\",\")\n",
    "    genreMap = Counter()\n",
    "    movies.genre.map(genreMap.update)\n",
    "    om = OrderedMapper().fit([e[0] for e in genreMap.most_common()])\n",
    "    movies[\"genre\"] = movies.genre.map(lambda lst: [om.enc[e] for e in lst])\n",
    "    return movies, om"
   ]
  },
  {
   "cell_type": "code",
   "execution_count": 17,
   "metadata": {
    "collapsed": true
   },
   "outputs": [],
   "source": [
    "movie_trans, genres_enc = doMovies(anime)"
   ]
  },
  {
   "cell_type": "code",
   "execution_count": 18,
   "metadata": {},
   "outputs": [
    {
     "name": "stderr",
     "output_type": "stream",
     "text": [
      "/Users/YiHsien/anaconda3/lib/python3.6/site-packages/sklearn/utils/validation.py:475: DataConversionWarning: Data with input dtype int64 was converted to float64.\n",
      "  warnings.warn(msg, DataConversionWarning)\n"
     ]
    },
    {
     "data": {
      "text/html": [
       "<div>\n",
       "<style>\n",
       "    .dataframe thead tr:only-child th {\n",
       "        text-align: right;\n",
       "    }\n",
       "\n",
       "    .dataframe thead th {\n",
       "        text-align: left;\n",
       "    }\n",
       "\n",
       "    .dataframe tbody tr th {\n",
       "        vertical-align: top;\n",
       "    }\n",
       "</style>\n",
       "<table border=\"1\" class=\"dataframe\">\n",
       "  <thead>\n",
       "    <tr style=\"text-align: right;\">\n",
       "      <th></th>\n",
       "      <th>anime_id</th>\n",
       "      <th>name</th>\n",
       "      <th>genre</th>\n",
       "      <th>type</th>\n",
       "      <th>episodes</th>\n",
       "      <th>rating</th>\n",
       "      <th>members</th>\n",
       "    </tr>\n",
       "  </thead>\n",
       "  <tbody>\n",
       "    <tr>\n",
       "      <th>0</th>\n",
       "      <td>32281</td>\n",
       "      <td>Kimi no Na wa.</td>\n",
       "      <td>[13, 7, 9, 12]</td>\n",
       "      <td>Movie</td>\n",
       "      <td>1</td>\n",
       "      <td>9.37</td>\n",
       "      <td>0.197872</td>\n",
       "    </tr>\n",
       "    <tr>\n",
       "      <th>1</th>\n",
       "      <td>5114</td>\n",
       "      <td>Fullmetal Alchemist: Brotherhood</td>\n",
       "      <td>[1, 15, 11, 3, 17, 27, 4]</td>\n",
       "      <td>TV</td>\n",
       "      <td>64</td>\n",
       "      <td>9.26</td>\n",
       "      <td>0.782770</td>\n",
       "    </tr>\n",
       "    <tr>\n",
       "      <th>2</th>\n",
       "      <td>28977</td>\n",
       "      <td>Gintama°</td>\n",
       "      <td>[1, 6, 18, 30, 41, 2, 4]</td>\n",
       "      <td>TV</td>\n",
       "      <td>51</td>\n",
       "      <td>9.25</td>\n",
       "      <td>0.112689</td>\n",
       "    </tr>\n",
       "    <tr>\n",
       "      <th>3</th>\n",
       "      <td>9253</td>\n",
       "      <td>Steins;Gate</td>\n",
       "      <td>[49, 47]</td>\n",
       "      <td>TV</td>\n",
       "      <td>24</td>\n",
       "      <td>9.17</td>\n",
       "      <td>0.664325</td>\n",
       "    </tr>\n",
       "    <tr>\n",
       "      <th>4</th>\n",
       "      <td>9969</td>\n",
       "      <td>Gintama&amp;#039;</td>\n",
       "      <td>[1, 6, 18, 30, 41, 2, 4]</td>\n",
       "      <td>TV</td>\n",
       "      <td>51</td>\n",
       "      <td>9.16</td>\n",
       "      <td>0.149186</td>\n",
       "    </tr>\n",
       "  </tbody>\n",
       "</table>\n",
       "</div>"
      ],
      "text/plain": [
       "   anime_id                              name                      genre  \\\n",
       "0     32281                    Kimi no Na wa.             [13, 7, 9, 12]   \n",
       "1      5114  Fullmetal Alchemist: Brotherhood  [1, 15, 11, 3, 17, 27, 4]   \n",
       "2     28977                          Gintama°   [1, 6, 18, 30, 41, 2, 4]   \n",
       "3      9253                       Steins;Gate                   [49, 47]   \n",
       "4      9969                     Gintama&#039;   [1, 6, 18, 30, 41, 2, 4]   \n",
       "\n",
       "    type episodes  rating   members  \n",
       "0  Movie        1    9.37  0.197872  \n",
       "1     TV       64    9.26  0.782770  \n",
       "2     TV       51    9.25  0.112689  \n",
       "3     TV       24    9.17  0.664325  \n",
       "4     TV       51    9.16  0.149186  "
      ]
     },
     "execution_count": 18,
     "metadata": {},
     "output_type": "execute_result"
    }
   ],
   "source": [
    "from sklearn.preprocessing import minmax_scale\n",
    "movie_trans[\"members\"] = minmax_scale(movie_trans.members.fillna(movie_trans.members.median()))\n",
    "movie_trans.head()"
   ]
  },
  {
   "cell_type": "markdown",
   "metadata": {},
   "source": [
    "## 重寫user anime id"
   ]
  },
  {
   "cell_type": "code",
   "execution_count": 19,
   "metadata": {
    "collapsed": true
   },
   "outputs": [],
   "source": [
    "u = pd.DataFrame()\n",
    "u['user_id'] = mergedata['user_id'].unique()\n",
    "u['user'] = range(0,len(mergedata['user_id'].unique()))\n",
    "m = pd.DataFrame()\n",
    "m['anime_id'] = mergedata['anime_id'].unique()\n",
    "m['movie'] = range(0,len(mergedata['anime_id'].unique()))"
   ]
  },
  {
   "cell_type": "code",
   "execution_count": 20,
   "metadata": {
    "collapsed": true
   },
   "outputs": [],
   "source": [
    "train = pd.merge(train,u,on=['user_id'])\n",
    "train = pd.merge(train,m,on=['anime_id'])\n",
    "test = pd.merge(test,u,on=['user_id'])\n",
    "test = pd.merge(test,m,on=['anime_id'])"
   ]
  },
  {
   "cell_type": "code",
   "execution_count": 21,
   "metadata": {
    "collapsed": true
   },
   "outputs": [],
   "source": [
    "train.drop(['user_id','anime_id'], axis=1, inplace=True)\n",
    "test.drop(['user_id','anime_id'], axis=1, inplace=True)"
   ]
  },
  {
   "cell_type": "code",
   "execution_count": 22,
   "metadata": {
    "collapsed": true
   },
   "outputs": [],
   "source": [
    "train.rename(columns={'user':'user_id','movie':'anime_id'}, inplace=True)\n",
    "test.rename(columns={'user':'user_id','movie':'anime_id'}, inplace=True)"
   ]
  },
  {
   "cell_type": "code",
   "execution_count": 23,
   "metadata": {
    "collapsed": true
   },
   "outputs": [],
   "source": [
    "movie_trans = pd.merge(movie_trans,m,on=['anime_id'])\n",
    "movie_trans.drop(['anime_id'], axis=1, inplace=True)\n",
    "movie_trans.rename(columns={'movie':'anime_id'}, inplace=True)"
   ]
  },
  {
   "cell_type": "code",
   "execution_count": 24,
   "metadata": {},
   "outputs": [
    {
     "data": {
      "text/html": [
       "<div>\n",
       "<style>\n",
       "    .dataframe thead tr:only-child th {\n",
       "        text-align: right;\n",
       "    }\n",
       "\n",
       "    .dataframe thead th {\n",
       "        text-align: left;\n",
       "    }\n",
       "\n",
       "    .dataframe tbody tr th {\n",
       "        vertical-align: top;\n",
       "    }\n",
       "</style>\n",
       "<table border=\"1\" class=\"dataframe\">\n",
       "  <thead>\n",
       "    <tr style=\"text-align: right;\">\n",
       "      <th></th>\n",
       "      <th>name</th>\n",
       "      <th>genre</th>\n",
       "      <th>type</th>\n",
       "      <th>episodes</th>\n",
       "      <th>rating</th>\n",
       "      <th>members</th>\n",
       "      <th>anime_id</th>\n",
       "    </tr>\n",
       "  </thead>\n",
       "  <tbody>\n",
       "    <tr>\n",
       "      <th>0</th>\n",
       "      <td>Kimi no Na wa.</td>\n",
       "      <td>[13, 7, 9, 12]</td>\n",
       "      <td>Movie</td>\n",
       "      <td>1</td>\n",
       "      <td>9.37</td>\n",
       "      <td>0.197872</td>\n",
       "      <td>297</td>\n",
       "    </tr>\n",
       "    <tr>\n",
       "      <th>1</th>\n",
       "      <td>Gintama Movie: Kanketsu-hen - Yorozuya yo Eien...</td>\n",
       "      <td>[1, 6, 18, 30, 41, 2, 4]</td>\n",
       "      <td>Movie</td>\n",
       "      <td>1</td>\n",
       "      <td>9.10</td>\n",
       "      <td>0.071534</td>\n",
       "      <td>54</td>\n",
       "    </tr>\n",
       "    <tr>\n",
       "      <th>2</th>\n",
       "      <td>Koe no Katachi</td>\n",
       "      <td>[13, 9, 4]</td>\n",
       "      <td>Movie</td>\n",
       "      <td>1</td>\n",
       "      <td>9.05</td>\n",
       "      <td>0.101318</td>\n",
       "      <td>881</td>\n",
       "    </tr>\n",
       "    <tr>\n",
       "      <th>3</th>\n",
       "      <td>Sen to Chihiro no Kamikakushi</td>\n",
       "      <td>[5, 11, 12]</td>\n",
       "      <td>Movie</td>\n",
       "      <td>1</td>\n",
       "      <td>8.93</td>\n",
       "      <td>0.459852</td>\n",
       "      <td>5</td>\n",
       "    </tr>\n",
       "    <tr>\n",
       "      <th>4</th>\n",
       "      <td>Ookami Kodomo no Ame to Yuki</td>\n",
       "      <td>[23, 10]</td>\n",
       "      <td>Movie</td>\n",
       "      <td>1</td>\n",
       "      <td>8.84</td>\n",
       "      <td>0.223084</td>\n",
       "      <td>107</td>\n",
       "    </tr>\n",
       "  </tbody>\n",
       "</table>\n",
       "</div>"
      ],
      "text/plain": [
       "                                                name  \\\n",
       "0                                     Kimi no Na wa.   \n",
       "1  Gintama Movie: Kanketsu-hen - Yorozuya yo Eien...   \n",
       "2                                     Koe no Katachi   \n",
       "3                      Sen to Chihiro no Kamikakushi   \n",
       "4                       Ookami Kodomo no Ame to Yuki   \n",
       "\n",
       "                      genre   type episodes  rating   members  anime_id  \n",
       "0            [13, 7, 9, 12]  Movie        1    9.37  0.197872       297  \n",
       "1  [1, 6, 18, 30, 41, 2, 4]  Movie        1    9.10  0.071534        54  \n",
       "2                [13, 9, 4]  Movie        1    9.05  0.101318       881  \n",
       "3               [5, 11, 12]  Movie        1    8.93  0.459852         5  \n",
       "4                  [23, 10]  Movie        1    8.84  0.223084       107  "
      ]
     },
     "execution_count": 24,
     "metadata": {},
     "output_type": "execute_result"
    }
   ],
   "source": [
    "movie_trans.head()"
   ]
  },
  {
   "cell_type": "markdown",
   "metadata": {},
   "source": [
    "## leave on out"
   ]
  },
  {
   "cell_type": "code",
   "execution_count": 25,
   "metadata": {},
   "outputs": [
    {
     "name": "stdout",
     "output_type": "stream",
     "text": [
      "(589243, 9) (252910, 9)\n"
     ]
    }
   ],
   "source": [
    "#拿掉無評分的資料\n",
    "train = train[train['rating_x']!=-1]\n",
    "test = test[test['rating_x']!=-1]\n",
    "print(train.shape,test.shape)"
   ]
  },
  {
   "cell_type": "code",
   "execution_count": 26,
   "metadata": {
    "collapsed": true
   },
   "outputs": [],
   "source": [
    "#train1 = pd.merge(train[['user_id','anime_id','rating_x']],movie_trans[['anime_id','genre','rating','members']], how=\"left\", on=\"anime_id\")\n",
    "#test1 = pd.merge(test[['user_id','anime_id','rating_x']],movie_trans[['anime_id','genre','rating','members']], how=\"left\", on=\"anime_id\")"
   ]
  },
  {
   "cell_type": "code",
   "execution_count": 27,
   "metadata": {
    "collapsed": true
   },
   "outputs": [],
   "source": [
    "def loo_preprocess(data, movie_trans, train_hist=None, is_train=True):\n",
    "    \"\"\"以leave one out方式產生 train data, test data\"\"\"\n",
    "    queue = []\n",
    "    data = pd.merge(data[['user_id','anime_id','rating_x']],movie_trans[['anime_id','genre','rating','members']], how=\"left\", on=\"anime_id\")\n",
    "    columns=[\"user_id\", \"anime_id\", \"genre\", \"rating\",\"members\", \"candidate_movie_id\",\"rating_x\"]\n",
    "    for u, df in data.groupby(\"user_id\"):\n",
    "        df = df.sort_values(\"rating_x\", ascending=False)\n",
    "        if not is_train:\n",
    "            user_movies_hist = train_hist.query(\"user_id == {}\".format(u)).anime_id\n",
    "        for i, (_, r) in enumerate(df.iterrows()):\n",
    "            if is_train:\n",
    "                queue.append([int(r.user_id),\n",
    "                              df.anime_id[:i].tolist() + df.anime_id[i + 1:].tolist(),\n",
    "                              r.genre, r.rating, r.members, int(r.anime_id), r.rating_x])\n",
    "            else:\n",
    "                # queue.append([int(r.userId), df.movieId[:i].tolist() + df.movieId[i + 1:].tolist(), r.genres, r.avg_rating, r.year, int(r.movieId), r.rating])\n",
    "                # all_hist = set(user_movies_hist.tolist() + df.movieId[:i].tolist())\n",
    "                all_hist = set(user_movies_hist.tolist())\n",
    "                queue.append([int(r.user_id),\n",
    "                              list(all_hist - set([int(r.anime_id)])),\n",
    "                              r.genre, r.rating, r.members, int(r.anime_id), r.rating_x])\n",
    "    return pd.DataFrame(queue, columns=columns)"
   ]
  },
  {
   "cell_type": "code",
   "execution_count": 28,
   "metadata": {},
   "outputs": [],
   "source": [
    "trProcessed = loo_preprocess(train, movie_trans)\n",
    "teProcessed = loo_preprocess(test, movie_trans)"
   ]
  },
  {
   "cell_type": "code",
   "execution_count": 29,
   "metadata": {},
   "outputs": [
    {
     "data": {
      "text/html": [
       "<div>\n",
       "<style>\n",
       "    .dataframe thead tr:only-child th {\n",
       "        text-align: right;\n",
       "    }\n",
       "\n",
       "    .dataframe thead th {\n",
       "        text-align: left;\n",
       "    }\n",
       "\n",
       "    .dataframe tbody tr th {\n",
       "        vertical-align: top;\n",
       "    }\n",
       "</style>\n",
       "<table border=\"1\" class=\"dataframe\">\n",
       "  <thead>\n",
       "    <tr style=\"text-align: right;\">\n",
       "      <th></th>\n",
       "      <th>user_id</th>\n",
       "      <th>anime_id</th>\n",
       "      <th>genre</th>\n",
       "      <th>rating</th>\n",
       "      <th>members</th>\n",
       "      <th>candidate_movie_id</th>\n",
       "      <th>rating_x</th>\n",
       "    </tr>\n",
       "  </thead>\n",
       "  <tbody>\n",
       "    <tr>\n",
       "      <th>0</th>\n",
       "      <td>1</td>\n",
       "      <td>[50, 38, 55, 26, 5, 24, 11, 36, 37, 52, 46, 51...</td>\n",
       "      <td>[1, 6, 18, 30, 41, 2, 4]</td>\n",
       "      <td>9.10</td>\n",
       "      <td>0.071534</td>\n",
       "      <td>54</td>\n",
       "      <td>10</td>\n",
       "    </tr>\n",
       "    <tr>\n",
       "      <th>1</th>\n",
       "      <td>1</td>\n",
       "      <td>[54, 38, 55, 26, 5, 24, 11, 36, 37, 52, 46, 51...</td>\n",
       "      <td>[49, 47]</td>\n",
       "      <td>8.61</td>\n",
       "      <td>0.189779</td>\n",
       "      <td>50</td>\n",
       "      <td>9</td>\n",
       "    </tr>\n",
       "    <tr>\n",
       "      <th>2</th>\n",
       "      <td>1</td>\n",
       "      <td>[54, 50, 55, 26, 5, 24, 11, 36, 37, 52, 46, 51...</td>\n",
       "      <td>[1, 15, 18, 41]</td>\n",
       "      <td>8.43</td>\n",
       "      <td>0.123776</td>\n",
       "      <td>38</td>\n",
       "      <td>9</td>\n",
       "    </tr>\n",
       "    <tr>\n",
       "      <th>3</th>\n",
       "      <td>1</td>\n",
       "      <td>[54, 50, 38, 26, 5, 24, 11, 36, 37, 52, 46, 51...</td>\n",
       "      <td>[0, 21, 10]</td>\n",
       "      <td>7.97</td>\n",
       "      <td>0.030386</td>\n",
       "      <td>55</td>\n",
       "      <td>8</td>\n",
       "    </tr>\n",
       "    <tr>\n",
       "      <th>4</th>\n",
       "      <td>1</td>\n",
       "      <td>[54, 50, 38, 55, 5, 24, 11, 36, 37, 52, 46, 51...</td>\n",
       "      <td>[1, 15, 32, 27, 2, 12]</td>\n",
       "      <td>8.15</td>\n",
       "      <td>0.212930</td>\n",
       "      <td>26</td>\n",
       "      <td>8</td>\n",
       "    </tr>\n",
       "  </tbody>\n",
       "</table>\n",
       "</div>"
      ],
      "text/plain": [
       "   user_id                                           anime_id  \\\n",
       "0        1  [50, 38, 55, 26, 5, 24, 11, 36, 37, 52, 46, 51...   \n",
       "1        1  [54, 38, 55, 26, 5, 24, 11, 36, 37, 52, 46, 51...   \n",
       "2        1  [54, 50, 55, 26, 5, 24, 11, 36, 37, 52, 46, 51...   \n",
       "3        1  [54, 50, 38, 26, 5, 24, 11, 36, 37, 52, 46, 51...   \n",
       "4        1  [54, 50, 38, 55, 5, 24, 11, 36, 37, 52, 46, 51...   \n",
       "\n",
       "                      genre  rating   members  candidate_movie_id  rating_x  \n",
       "0  [1, 6, 18, 30, 41, 2, 4]    9.10  0.071534                  54        10  \n",
       "1                  [49, 47]    8.61  0.189779                  50         9  \n",
       "2           [1, 15, 18, 41]    8.43  0.123776                  38         9  \n",
       "3               [0, 21, 10]    7.97  0.030386                  55         8  \n",
       "4    [1, 15, 32, 27, 2, 12]    8.15  0.212930                  26         8  "
      ]
     },
     "execution_count": 29,
     "metadata": {},
     "output_type": "execute_result"
    }
   ],
   "source": [
    "trProcessed.head()"
   ]
  },
  {
   "cell_type": "code",
   "execution_count": 30,
   "metadata": {},
   "outputs": [
    {
     "name": "stdout",
     "output_type": "stream",
     "text": [
      "<class 'pandas.core.frame.DataFrame'>\n",
      "RangeIndex: 589243 entries, 0 to 589242\n",
      "Data columns (total 7 columns):\n",
      "user_id               589243 non-null int64\n",
      "anime_id              589243 non-null object\n",
      "genre                 589243 non-null object\n",
      "rating                589242 non-null float64\n",
      "members               589243 non-null float64\n",
      "candidate_movie_id    589243 non-null int64\n",
      "rating_x              589243 non-null int64\n",
      "dtypes: float64(2), int64(3), object(2)\n",
      "memory usage: 31.5+ MB\n"
     ]
    }
   ],
   "source": [
    "trProcessed.info()"
   ]
  },
  {
   "cell_type": "code",
   "execution_count": 31,
   "metadata": {
    "scrolled": true
   },
   "outputs": [
    {
     "data": {
      "text/html": [
       "<div>\n",
       "<style>\n",
       "    .dataframe thead tr:only-child th {\n",
       "        text-align: right;\n",
       "    }\n",
       "\n",
       "    .dataframe thead th {\n",
       "        text-align: left;\n",
       "    }\n",
       "\n",
       "    .dataframe tbody tr th {\n",
       "        vertical-align: top;\n",
       "    }\n",
       "</style>\n",
       "<table border=\"1\" class=\"dataframe\">\n",
       "  <thead>\n",
       "    <tr style=\"text-align: right;\">\n",
       "      <th></th>\n",
       "      <th>user_id</th>\n",
       "      <th>anime_id</th>\n",
       "      <th>genre</th>\n",
       "      <th>rating</th>\n",
       "      <th>members</th>\n",
       "      <th>candidate_movie_id</th>\n",
       "      <th>rating_x</th>\n",
       "    </tr>\n",
       "  </thead>\n",
       "  <tbody>\n",
       "    <tr>\n",
       "      <th>0</th>\n",
       "      <td>1</td>\n",
       "      <td>[40, 28, 53, 34, 41, 12, 47, 31, 48, 56, 32, 2]</td>\n",
       "      <td>[5, 11, 7, 2]</td>\n",
       "      <td>8.44</td>\n",
       "      <td>0.285233</td>\n",
       "      <td>35</td>\n",
       "      <td>8</td>\n",
       "    </tr>\n",
       "    <tr>\n",
       "      <th>1</th>\n",
       "      <td>1</td>\n",
       "      <td>[35, 28, 53, 34, 41, 12, 47, 31, 48, 56, 32, 2]</td>\n",
       "      <td>[5, 6, 11, 25, 9, 21]</td>\n",
       "      <td>7.87</td>\n",
       "      <td>0.023940</td>\n",
       "      <td>40</td>\n",
       "      <td>8</td>\n",
       "    </tr>\n",
       "    <tr>\n",
       "      <th>2</th>\n",
       "      <td>1</td>\n",
       "      <td>[35, 40, 53, 34, 41, 12, 47, 31, 48, 56, 32, 2]</td>\n",
       "      <td>[1, 15, 6, 11, 3, 8]</td>\n",
       "      <td>7.66</td>\n",
       "      <td>0.098711</td>\n",
       "      <td>28</td>\n",
       "      <td>7</td>\n",
       "    </tr>\n",
       "    <tr>\n",
       "      <th>3</th>\n",
       "      <td>1</td>\n",
       "      <td>[35, 40, 28, 34, 41, 12, 47, 31, 48, 56, 32, 2]</td>\n",
       "      <td>[13, 10, 12]</td>\n",
       "      <td>8.19</td>\n",
       "      <td>0.093929</td>\n",
       "      <td>53</td>\n",
       "      <td>7</td>\n",
       "    </tr>\n",
       "    <tr>\n",
       "      <th>4</th>\n",
       "      <td>1</td>\n",
       "      <td>[35, 40, 28, 53, 41, 12, 47, 31, 48, 56, 32, 2]</td>\n",
       "      <td>[5, 6, 11, 3, 8]</td>\n",
       "      <td>7.46</td>\n",
       "      <td>0.077789</td>\n",
       "      <td>34</td>\n",
       "      <td>7</td>\n",
       "    </tr>\n",
       "  </tbody>\n",
       "</table>\n",
       "</div>"
      ],
      "text/plain": [
       "   user_id                                         anime_id  \\\n",
       "0        1  [40, 28, 53, 34, 41, 12, 47, 31, 48, 56, 32, 2]   \n",
       "1        1  [35, 28, 53, 34, 41, 12, 47, 31, 48, 56, 32, 2]   \n",
       "2        1  [35, 40, 53, 34, 41, 12, 47, 31, 48, 56, 32, 2]   \n",
       "3        1  [35, 40, 28, 34, 41, 12, 47, 31, 48, 56, 32, 2]   \n",
       "4        1  [35, 40, 28, 53, 41, 12, 47, 31, 48, 56, 32, 2]   \n",
       "\n",
       "                   genre  rating   members  candidate_movie_id  rating_x  \n",
       "0          [5, 11, 7, 2]    8.44  0.285233                  35         8  \n",
       "1  [5, 6, 11, 25, 9, 21]    7.87  0.023940                  40         8  \n",
       "2   [1, 15, 6, 11, 3, 8]    7.66  0.098711                  28         7  \n",
       "3           [13, 10, 12]    8.19  0.093929                  53         7  \n",
       "4       [5, 6, 11, 3, 8]    7.46  0.077789                  34         7  "
      ]
     },
     "execution_count": 31,
     "metadata": {},
     "output_type": "execute_result"
    }
   ],
   "source": [
    "teProcessed.head()"
   ]
  },
  {
   "cell_type": "code",
   "execution_count": 32,
   "metadata": {},
   "outputs": [
    {
     "name": "stdout",
     "output_type": "stream",
     "text": [
      "<class 'pandas.core.frame.DataFrame'>\n",
      "RangeIndex: 252910 entries, 0 to 252909\n",
      "Data columns (total 7 columns):\n",
      "user_id               252910 non-null int64\n",
      "anime_id              252910 non-null object\n",
      "genre                 252910 non-null object\n",
      "rating                252910 non-null float64\n",
      "members               252910 non-null float64\n",
      "candidate_movie_id    252910 non-null int64\n",
      "rating_x              252910 non-null int64\n",
      "dtypes: float64(2), int64(3), object(2)\n",
      "memory usage: 13.5+ MB\n"
     ]
    }
   ],
   "source": [
    "teProcessed.info()"
   ]
  },
  {
   "cell_type": "code",
   "execution_count": 33,
   "metadata": {},
   "outputs": [
    {
     "name": "stdout",
     "output_type": "stream",
     "text": [
      "(589243, 9) (252910, 9)\n"
     ]
    }
   ],
   "source": [
    "print(train.shape,test.shape)"
   ]
  },
  {
   "cell_type": "markdown",
   "metadata": {},
   "source": [
    "## Data Function\n",
    "-由於tensorflow placeholder不支援變動長度的columns, 需透過padding zero(補零)帶入\n",
    "\n",
    "-每個變動長度的column, 需要再給lens描述每一筆資料的長度, ex: genres, genres_len"
   ]
  },
  {
   "cell_type": "code",
   "execution_count": 34,
   "metadata": {},
   "outputs": [
    {
     "name": "stderr",
     "output_type": "stream",
     "text": [
      "/Users/YiHsien/anaconda3/lib/python3.6/site-packages/h5py/__init__.py:34: FutureWarning: Conversion of the second argument of issubdtype from `float` to `np.floating` is deprecated. In future, it will be treated as `np.float64 == np.dtype(float).type`.\n",
      "  from ._conv import register_converters as _register_converters\n"
     ]
    }
   ],
   "source": [
    "import tensorflow as tf\n",
    "def do_multi(df, multi_cols):\n",
    "    \"\"\"對於multivalent的欄位, 需要增加一個column去描述該欄位的長度\"\"\"\n",
    "    pad = tf.keras.preprocessing.sequence.pad_sequences\n",
    "    ret = OrderedDict()\n",
    "    for colname, col in df.iteritems():\n",
    "        if colname in multi_cols:\n",
    "            lens = col.map(len)\n",
    "            ret[colname] = list(pad(col, padding=\"post\", maxlen=lens.max()))\n",
    "            ret[colname + \"_len\"] = lens.values\n",
    "        else:\n",
    "            ret[colname] = col.values\n",
    "    return ret\n",
    "def get_minibatches_idx(n, batch_size, shuffle=False):\n",
    "    idx_list = np.arange(n, dtype=\"int32\")\n",
    "    if shuffle:\n",
    "        np.random.shuffle(idx_list)\n",
    "    minibatches = []\n",
    "    minibatch_start = 0\n",
    "    for i in range(n // batch_size):\n",
    "        minibatches.append(idx_list[minibatch_start : minibatch_start + batch_size])\n",
    "        minibatch_start += batch_size\n",
    "\n",
    "    if (minibatch_start != n):\n",
    "        # Make a minibatch out of what is left\n",
    "        minibatches.append(idx_list[minibatch_start:])\n",
    "    return minibatches\n",
    "def dataFn(data, n_batch=128, shuffle=False):\n",
    "    def fn():\n",
    "        dataInner = data.copy()\n",
    "        indices = get_minibatches_idx(len(dataInner), n_batch, shuffle=shuffle)\n",
    "        for ind in indices:\n",
    "            yield do_multi(dataInner.iloc[ind], [\"anime_id\", \"genre\"])\n",
    "    return fn\n",
    "\n",
    "for i, e in enumerate(dataFn(trProcessed, n_batch=len(trProcessed), shuffle=True)(), 1):\n",
    "    # print(e)\n",
    "    break\n",
    "trProcessed = pd.DataFrame(e)\n",
    "\n",
    "for i, e in enumerate(dataFn(teProcessed, n_batch=len(teProcessed), shuffle=True)(), 1):\n",
    "    # print(e)\n",
    "    break\n",
    "teProcessed = pd.DataFrame(e)"
   ]
  },
  {
   "cell_type": "code",
   "execution_count": 35,
   "metadata": {},
   "outputs": [
    {
     "name": "stderr",
     "output_type": "stream",
     "text": [
      "Using TensorFlow backend.\n"
     ]
    }
   ],
   "source": [
    "import keras\n",
    "from IPython.display import SVG\n",
    "from keras.optimizers import Adam\n",
    "from keras.utils.vis_utils import model_to_dot"
   ]
  },
  {
   "cell_type": "code",
   "execution_count": 36,
   "metadata": {
    "collapsed": true
   },
   "outputs": [],
   "source": [
    "n_users, n_movies = len(mergedata['user_id'].unique()),len(mergedata['anime_id'].unique())"
   ]
  },
  {
   "cell_type": "code",
   "execution_count": 37,
   "metadata": {
    "collapsed": true
   },
   "outputs": [],
   "source": [
    "n_latent_factors_user = 3\n",
    "n_latent_factors_movie = 3\n",
    "\n",
    "\n",
    "movie_input = keras.layers.Input(shape=[1],name='Item')\n",
    "movie_embedding = keras.layers.Embedding(n_movies + 1, n_latent_factors_movie, name='Movie-Embedding')(movie_input)\n",
    "movie_vec = keras.layers.Flatten(name='FlattenMovies')(movie_embedding)\n",
    "movie_vec = keras.layers.Dropout(0.2)(movie_vec)\n",
    "\n",
    "movie_hist_input = keras.layers.Input(shape=[4],name='Item_hist')\n",
    "movie_hist_embedding = keras.layers.Embedding(n_movies + 1, n_latent_factors_movie, name='Movie-Embedding_hist')(movie_hist_input)\n",
    "movie_hist_vec = keras.layers.Flatten(name='FlattenMovies_hist')(movie_hist_embedding)\n",
    "movie_hist_vec = keras.layers.Dropout(0.2)(movie_hist_vec)\n",
    "\n",
    "\n",
    "user_input = keras.layers.Input(shape=[1],name='User')\n",
    "user_embedding = keras.layers.Embedding(n_users + 1, n_latent_factors_user,name='User-Embedding')(user_input)\n",
    "user_vec = keras.layers.Flatten(name='FlattenUsers')(user_embedding)\n",
    "user_vec = keras.layers.Dropout(0.2)(user_vec)\n",
    "\n",
    "user_hist_input = keras.layers.Input(shape=[2],name='User_hist')\n",
    "user_hist_embedding = keras.layers.Embedding(n_users + 1, n_latent_factors_user,name='User-Embedding_hist')(user_hist_input)\n",
    "user_hist_vec = keras.layers.Flatten(name='FlattenUsers_hist')(user_hist_embedding)\n",
    "user_hist_vec = keras.layers.Dropout(0.2)(user_hist_vec)\n",
    "\n",
    "#concat = keras.layers.concatenate([movie_vec, user_vec],name='Concat')\n",
    "concat = keras.layers.concatenate([movie_vec, user_vec,user_hist_vec,movie_hist_vec],name='Concat')\n",
    "\n",
    "\n",
    "\n",
    "concat_dropout = keras.layers.Dropout(0.2)(concat)\n",
    "dense = keras.layers.Dense(200,name='FullyConnected', activation='relu')(concat)\n",
    "dropout_1 = keras.layers.Dropout(0.2,name='Dropout')(dense)\n",
    "dense_2 = keras.layers.Dense(100,name='FullyConnected-1', activation='relu')(concat)\n",
    "dropout_2 = keras.layers.Dropout(0.2,name='Dropout')(dense_2)\n",
    "dense_3 = keras.layers.Dense(50,name='FullyConnected-2', activation='relu')(dense_2)\n",
    "dropout_3 = keras.layers.Dropout(0.2,name='Dropout')(dense_3)\n",
    "dense_4 = keras.layers.Dense(20,name='FullyConnected-3', activation='relu')(dense_3)\n",
    "\n",
    "\n",
    "result = keras.layers.Dense(1, activation='relu',name='Activation')(dense_4)\n",
    "adam = Adam(lr=0.005)\n",
    "\n",
    "#model = keras.Model([user_input, movie_input], result)\n",
    "model = keras.Model([user_input, movie_input,user_hist_input,movie_hist_input], result)\n",
    "\n",
    "\n",
    "\n",
    "model.compile(optimizer=adam,loss= 'mean_absolute_error')"
   ]
  },
  {
   "cell_type": "code",
   "execution_count": 38,
   "metadata": {},
   "outputs": [
    {
     "data": {
      "image/svg+xml": [
       "<svg height=\"719pt\" viewBox=\"0.00 0.00 1432.50 719.00\" width=\"1433pt\" xmlns=\"http://www.w3.org/2000/svg\" xmlns:xlink=\"http://www.w3.org/1999/xlink\">\n",
       "<g class=\"graph\" id=\"graph0\" transform=\"scale(1 1) rotate(0) translate(4 715)\">\n",
       "<title>G</title>\n",
       "<polygon fill=\"#ffffff\" points=\"-4,4 -4,-715 1428.5,-715 1428.5,4 -4,4\" stroke=\"transparent\"/>\n",
       "<!-- 112831626824 -->\n",
       "<g class=\"node\" id=\"node1\">\n",
       "<title>112831626824</title>\n",
       "<polygon fill=\"none\" points=\"48,-664.5 48,-710.5 286,-710.5 286,-664.5 48,-664.5\" stroke=\"#000000\"/>\n",
       "<text fill=\"#000000\" font-family=\"Times,serif\" font-size=\"14.00\" text-anchor=\"middle\" x=\"104\" y=\"-683.8\">Item: InputLayer</text>\n",
       "<polyline fill=\"none\" points=\"160,-664.5 160,-710.5 \" stroke=\"#000000\"/>\n",
       "<text fill=\"#000000\" font-family=\"Times,serif\" font-size=\"14.00\" text-anchor=\"middle\" x=\"188\" y=\"-695.3\">input:</text>\n",
       "<polyline fill=\"none\" points=\"160,-687.5 216,-687.5 \" stroke=\"#000000\"/>\n",
       "<text fill=\"#000000\" font-family=\"Times,serif\" font-size=\"14.00\" text-anchor=\"middle\" x=\"188\" y=\"-672.3\">output:</text>\n",
       "<polyline fill=\"none\" points=\"216,-664.5 216,-710.5 \" stroke=\"#000000\"/>\n",
       "<text fill=\"#000000\" font-family=\"Times,serif\" font-size=\"14.00\" text-anchor=\"middle\" x=\"251\" y=\"-695.3\">(None, 1)</text>\n",
       "<polyline fill=\"none\" points=\"216,-687.5 286,-687.5 \" stroke=\"#000000\"/>\n",
       "<text fill=\"#000000\" font-family=\"Times,serif\" font-size=\"14.00\" text-anchor=\"middle\" x=\"251\" y=\"-672.3\">(None, 1)</text>\n",
       "</g>\n",
       "<!-- 112831626992 -->\n",
       "<g class=\"node\" id=\"node5\">\n",
       "<title>112831626992</title>\n",
       "<polygon fill=\"none\" points=\"0,-581.5 0,-627.5 334,-627.5 334,-581.5 0,-581.5\" stroke=\"#000000\"/>\n",
       "<text fill=\"#000000\" font-family=\"Times,serif\" font-size=\"14.00\" text-anchor=\"middle\" x=\"97\" y=\"-600.8\">Movie-Embedding: Embedding</text>\n",
       "<polyline fill=\"none\" points=\"194,-581.5 194,-627.5 \" stroke=\"#000000\"/>\n",
       "<text fill=\"#000000\" font-family=\"Times,serif\" font-size=\"14.00\" text-anchor=\"middle\" x=\"222\" y=\"-612.3\">input:</text>\n",
       "<polyline fill=\"none\" points=\"194,-604.5 250,-604.5 \" stroke=\"#000000\"/>\n",
       "<text fill=\"#000000\" font-family=\"Times,serif\" font-size=\"14.00\" text-anchor=\"middle\" x=\"222\" y=\"-589.3\">output:</text>\n",
       "<polyline fill=\"none\" points=\"250,-581.5 250,-627.5 \" stroke=\"#000000\"/>\n",
       "<text fill=\"#000000\" font-family=\"Times,serif\" font-size=\"14.00\" text-anchor=\"middle\" x=\"292\" y=\"-612.3\">(None, 1)</text>\n",
       "<polyline fill=\"none\" points=\"250,-604.5 334,-604.5 \" stroke=\"#000000\"/>\n",
       "<text fill=\"#000000\" font-family=\"Times,serif\" font-size=\"14.00\" text-anchor=\"middle\" x=\"292\" y=\"-589.3\">(None, 1, 3)</text>\n",
       "</g>\n",
       "<!-- 112831626824&#45;&gt;112831626992 -->\n",
       "<g class=\"edge\" id=\"edge1\">\n",
       "<title>112831626824-&gt;112831626992</title>\n",
       "<path d=\"M167,-664.3799C167,-656.1745 167,-646.7679 167,-637.8786\" fill=\"none\" stroke=\"#000000\"/>\n",
       "<polygon fill=\"#000000\" points=\"170.5001,-637.784 167,-627.784 163.5001,-637.784 170.5001,-637.784\" stroke=\"#000000\"/>\n",
       "</g>\n",
       "<!-- 4419642536 -->\n",
       "<g class=\"node\" id=\"node2\">\n",
       "<title>4419642536</title>\n",
       "<polygon fill=\"none\" points=\"394.5,-664.5 394.5,-710.5 633.5,-710.5 633.5,-664.5 394.5,-664.5\" stroke=\"#000000\"/>\n",
       "<text fill=\"#000000\" font-family=\"Times,serif\" font-size=\"14.00\" text-anchor=\"middle\" x=\"451\" y=\"-683.8\">User: InputLayer</text>\n",
       "<polyline fill=\"none\" points=\"507.5,-664.5 507.5,-710.5 \" stroke=\"#000000\"/>\n",
       "<text fill=\"#000000\" font-family=\"Times,serif\" font-size=\"14.00\" text-anchor=\"middle\" x=\"535.5\" y=\"-695.3\">input:</text>\n",
       "<polyline fill=\"none\" points=\"507.5,-687.5 563.5,-687.5 \" stroke=\"#000000\"/>\n",
       "<text fill=\"#000000\" font-family=\"Times,serif\" font-size=\"14.00\" text-anchor=\"middle\" x=\"535.5\" y=\"-672.3\">output:</text>\n",
       "<polyline fill=\"none\" points=\"563.5,-664.5 563.5,-710.5 \" stroke=\"#000000\"/>\n",
       "<text fill=\"#000000\" font-family=\"Times,serif\" font-size=\"14.00\" text-anchor=\"middle\" x=\"598.5\" y=\"-695.3\">(None, 1)</text>\n",
       "<polyline fill=\"none\" points=\"563.5,-687.5 633.5,-687.5 \" stroke=\"#000000\"/>\n",
       "<text fill=\"#000000\" font-family=\"Times,serif\" font-size=\"14.00\" text-anchor=\"middle\" x=\"598.5\" y=\"-672.3\">(None, 1)</text>\n",
       "</g>\n",
       "<!-- 112831407384 -->\n",
       "<g class=\"node\" id=\"node6\">\n",
       "<title>112831407384</title>\n",
       "<polygon fill=\"none\" points=\"352,-581.5 352,-627.5 676,-627.5 676,-581.5 352,-581.5\" stroke=\"#000000\"/>\n",
       "<text fill=\"#000000\" font-family=\"Times,serif\" font-size=\"14.00\" text-anchor=\"middle\" x=\"444\" y=\"-600.8\">User-Embedding: Embedding</text>\n",
       "<polyline fill=\"none\" points=\"536,-581.5 536,-627.5 \" stroke=\"#000000\"/>\n",
       "<text fill=\"#000000\" font-family=\"Times,serif\" font-size=\"14.00\" text-anchor=\"middle\" x=\"564\" y=\"-612.3\">input:</text>\n",
       "<polyline fill=\"none\" points=\"536,-604.5 592,-604.5 \" stroke=\"#000000\"/>\n",
       "<text fill=\"#000000\" font-family=\"Times,serif\" font-size=\"14.00\" text-anchor=\"middle\" x=\"564\" y=\"-589.3\">output:</text>\n",
       "<polyline fill=\"none\" points=\"592,-581.5 592,-627.5 \" stroke=\"#000000\"/>\n",
       "<text fill=\"#000000\" font-family=\"Times,serif\" font-size=\"14.00\" text-anchor=\"middle\" x=\"634\" y=\"-612.3\">(None, 1)</text>\n",
       "<polyline fill=\"none\" points=\"592,-604.5 676,-604.5 \" stroke=\"#000000\"/>\n",
       "<text fill=\"#000000\" font-family=\"Times,serif\" font-size=\"14.00\" text-anchor=\"middle\" x=\"634\" y=\"-589.3\">(None, 1, 3)</text>\n",
       "</g>\n",
       "<!-- 4419642536&#45;&gt;112831407384 -->\n",
       "<g class=\"edge\" id=\"edge2\">\n",
       "<title>4419642536-&gt;112831407384</title>\n",
       "<path d=\"M514,-664.3799C514,-656.1745 514,-646.7679 514,-637.8786\" fill=\"none\" stroke=\"#000000\"/>\n",
       "<polygon fill=\"#000000\" points=\"517.5001,-637.784 514,-627.784 510.5001,-637.784 517.5001,-637.784\" stroke=\"#000000\"/>\n",
       "</g>\n",
       "<!-- 112830766104 -->\n",
       "<g class=\"node\" id=\"node3\">\n",
       "<title>112830766104</title>\n",
       "<polygon fill=\"none\" points=\"737,-664.5 737,-710.5 1003,-710.5 1003,-664.5 737,-664.5\" stroke=\"#000000\"/>\n",
       "<text fill=\"#000000\" font-family=\"Times,serif\" font-size=\"14.00\" text-anchor=\"middle\" x=\"807\" y=\"-683.8\">User_hist: InputLayer</text>\n",
       "<polyline fill=\"none\" points=\"877,-664.5 877,-710.5 \" stroke=\"#000000\"/>\n",
       "<text fill=\"#000000\" font-family=\"Times,serif\" font-size=\"14.00\" text-anchor=\"middle\" x=\"905\" y=\"-695.3\">input:</text>\n",
       "<polyline fill=\"none\" points=\"877,-687.5 933,-687.5 \" stroke=\"#000000\"/>\n",
       "<text fill=\"#000000\" font-family=\"Times,serif\" font-size=\"14.00\" text-anchor=\"middle\" x=\"905\" y=\"-672.3\">output:</text>\n",
       "<polyline fill=\"none\" points=\"933,-664.5 933,-710.5 \" stroke=\"#000000\"/>\n",
       "<text fill=\"#000000\" font-family=\"Times,serif\" font-size=\"14.00\" text-anchor=\"middle\" x=\"968\" y=\"-695.3\">(None, 2)</text>\n",
       "<polyline fill=\"none\" points=\"933,-687.5 1003,-687.5 \" stroke=\"#000000\"/>\n",
       "<text fill=\"#000000\" font-family=\"Times,serif\" font-size=\"14.00\" text-anchor=\"middle\" x=\"968\" y=\"-672.3\">(None, 2)</text>\n",
       "</g>\n",
       "<!-- 112830894320 -->\n",
       "<g class=\"node\" id=\"node7\">\n",
       "<title>112830894320</title>\n",
       "<polygon fill=\"none\" points=\"694.5,-581.5 694.5,-627.5 1045.5,-627.5 1045.5,-581.5 694.5,-581.5\" stroke=\"#000000\"/>\n",
       "<text fill=\"#000000\" font-family=\"Times,serif\" font-size=\"14.00\" text-anchor=\"middle\" x=\"800\" y=\"-600.8\">User-Embedding_hist: Embedding</text>\n",
       "<polyline fill=\"none\" points=\"905.5,-581.5 905.5,-627.5 \" stroke=\"#000000\"/>\n",
       "<text fill=\"#000000\" font-family=\"Times,serif\" font-size=\"14.00\" text-anchor=\"middle\" x=\"933.5\" y=\"-612.3\">input:</text>\n",
       "<polyline fill=\"none\" points=\"905.5,-604.5 961.5,-604.5 \" stroke=\"#000000\"/>\n",
       "<text fill=\"#000000\" font-family=\"Times,serif\" font-size=\"14.00\" text-anchor=\"middle\" x=\"933.5\" y=\"-589.3\">output:</text>\n",
       "<polyline fill=\"none\" points=\"961.5,-581.5 961.5,-627.5 \" stroke=\"#000000\"/>\n",
       "<text fill=\"#000000\" font-family=\"Times,serif\" font-size=\"14.00\" text-anchor=\"middle\" x=\"1003.5\" y=\"-612.3\">(None, 2)</text>\n",
       "<polyline fill=\"none\" points=\"961.5,-604.5 1045.5,-604.5 \" stroke=\"#000000\"/>\n",
       "<text fill=\"#000000\" font-family=\"Times,serif\" font-size=\"14.00\" text-anchor=\"middle\" x=\"1003.5\" y=\"-589.3\">(None, 2, 3)</text>\n",
       "</g>\n",
       "<!-- 112830766104&#45;&gt;112830894320 -->\n",
       "<g class=\"edge\" id=\"edge3\">\n",
       "<title>112830766104-&gt;112830894320</title>\n",
       "<path d=\"M870,-664.3799C870,-656.1745 870,-646.7679 870,-637.8786\" fill=\"none\" stroke=\"#000000\"/>\n",
       "<polygon fill=\"#000000\" points=\"873.5001,-637.784 870,-627.784 866.5001,-637.784 873.5001,-637.784\" stroke=\"#000000\"/>\n",
       "</g>\n",
       "<!-- 112831408672 -->\n",
       "<g class=\"node\" id=\"node4\">\n",
       "<title>112831408672</title>\n",
       "<polygon fill=\"none\" points=\"1111.5,-664.5 1111.5,-710.5 1376.5,-710.5 1376.5,-664.5 1111.5,-664.5\" stroke=\"#000000\"/>\n",
       "<text fill=\"#000000\" font-family=\"Times,serif\" font-size=\"14.00\" text-anchor=\"middle\" x=\"1181\" y=\"-683.8\">Item_hist: InputLayer</text>\n",
       "<polyline fill=\"none\" points=\"1250.5,-664.5 1250.5,-710.5 \" stroke=\"#000000\"/>\n",
       "<text fill=\"#000000\" font-family=\"Times,serif\" font-size=\"14.00\" text-anchor=\"middle\" x=\"1278.5\" y=\"-695.3\">input:</text>\n",
       "<polyline fill=\"none\" points=\"1250.5,-687.5 1306.5,-687.5 \" stroke=\"#000000\"/>\n",
       "<text fill=\"#000000\" font-family=\"Times,serif\" font-size=\"14.00\" text-anchor=\"middle\" x=\"1278.5\" y=\"-672.3\">output:</text>\n",
       "<polyline fill=\"none\" points=\"1306.5,-664.5 1306.5,-710.5 \" stroke=\"#000000\"/>\n",
       "<text fill=\"#000000\" font-family=\"Times,serif\" font-size=\"14.00\" text-anchor=\"middle\" x=\"1341.5\" y=\"-695.3\">(None, 4)</text>\n",
       "<polyline fill=\"none\" points=\"1306.5,-687.5 1376.5,-687.5 \" stroke=\"#000000\"/>\n",
       "<text fill=\"#000000\" font-family=\"Times,serif\" font-size=\"14.00\" text-anchor=\"middle\" x=\"1341.5\" y=\"-672.3\">(None, 4)</text>\n",
       "</g>\n",
       "<!-- 112831625144 -->\n",
       "<g class=\"node\" id=\"node8\">\n",
       "<title>112831625144</title>\n",
       "<polygon fill=\"none\" points=\"1063.5,-581.5 1063.5,-627.5 1424.5,-627.5 1424.5,-581.5 1063.5,-581.5\" stroke=\"#000000\"/>\n",
       "<text fill=\"#000000\" font-family=\"Times,serif\" font-size=\"14.00\" text-anchor=\"middle\" x=\"1174\" y=\"-600.8\">Movie-Embedding_hist: Embedding</text>\n",
       "<polyline fill=\"none\" points=\"1284.5,-581.5 1284.5,-627.5 \" stroke=\"#000000\"/>\n",
       "<text fill=\"#000000\" font-family=\"Times,serif\" font-size=\"14.00\" text-anchor=\"middle\" x=\"1312.5\" y=\"-612.3\">input:</text>\n",
       "<polyline fill=\"none\" points=\"1284.5,-604.5 1340.5,-604.5 \" stroke=\"#000000\"/>\n",
       "<text fill=\"#000000\" font-family=\"Times,serif\" font-size=\"14.00\" text-anchor=\"middle\" x=\"1312.5\" y=\"-589.3\">output:</text>\n",
       "<polyline fill=\"none\" points=\"1340.5,-581.5 1340.5,-627.5 \" stroke=\"#000000\"/>\n",
       "<text fill=\"#000000\" font-family=\"Times,serif\" font-size=\"14.00\" text-anchor=\"middle\" x=\"1382.5\" y=\"-612.3\">(None, 4)</text>\n",
       "<polyline fill=\"none\" points=\"1340.5,-604.5 1424.5,-604.5 \" stroke=\"#000000\"/>\n",
       "<text fill=\"#000000\" font-family=\"Times,serif\" font-size=\"14.00\" text-anchor=\"middle\" x=\"1382.5\" y=\"-589.3\">(None, 4, 3)</text>\n",
       "</g>\n",
       "<!-- 112831408672&#45;&gt;112831625144 -->\n",
       "<g class=\"edge\" id=\"edge4\">\n",
       "<title>112831408672-&gt;112831625144</title>\n",
       "<path d=\"M1244,-664.3799C1244,-656.1745 1244,-646.7679 1244,-637.8786\" fill=\"none\" stroke=\"#000000\"/>\n",
       "<polygon fill=\"#000000\" points=\"1247.5001,-637.784 1244,-627.784 1240.5001,-637.784 1247.5001,-637.784\" stroke=\"#000000\"/>\n",
       "</g>\n",
       "<!-- 112831624080 -->\n",
       "<g class=\"node\" id=\"node9\">\n",
       "<title>112831624080</title>\n",
       "<polygon fill=\"none\" points=\"62,-498.5 62,-544.5 346,-544.5 346,-498.5 62,-498.5\" stroke=\"#000000\"/>\n",
       "<text fill=\"#000000\" font-family=\"Times,serif\" font-size=\"14.00\" text-anchor=\"middle\" x=\"134\" y=\"-517.8\">FlattenMovies: Flatten</text>\n",
       "<polyline fill=\"none\" points=\"206,-498.5 206,-544.5 \" stroke=\"#000000\"/>\n",
       "<text fill=\"#000000\" font-family=\"Times,serif\" font-size=\"14.00\" text-anchor=\"middle\" x=\"234\" y=\"-529.3\">input:</text>\n",
       "<polyline fill=\"none\" points=\"206,-521.5 262,-521.5 \" stroke=\"#000000\"/>\n",
       "<text fill=\"#000000\" font-family=\"Times,serif\" font-size=\"14.00\" text-anchor=\"middle\" x=\"234\" y=\"-506.3\">output:</text>\n",
       "<polyline fill=\"none\" points=\"262,-498.5 262,-544.5 \" stroke=\"#000000\"/>\n",
       "<text fill=\"#000000\" font-family=\"Times,serif\" font-size=\"14.00\" text-anchor=\"middle\" x=\"304\" y=\"-529.3\">(None, 1, 3)</text>\n",
       "<polyline fill=\"none\" points=\"262,-521.5 346,-521.5 \" stroke=\"#000000\"/>\n",
       "<text fill=\"#000000\" font-family=\"Times,serif\" font-size=\"14.00\" text-anchor=\"middle\" x=\"304\" y=\"-506.3\">(None, 3)</text>\n",
       "</g>\n",
       "<!-- 112831626992&#45;&gt;112831624080 -->\n",
       "<g class=\"edge\" id=\"edge5\">\n",
       "<title>112831626992-&gt;112831624080</title>\n",
       "<path d=\"M177.3066,-581.3799C181.0836,-572.907 185.4317,-563.1531 189.5073,-554.0107\" fill=\"none\" stroke=\"#000000\"/>\n",
       "<polygon fill=\"#000000\" points=\"192.7455,-555.3427 193.6204,-544.784 186.352,-552.4925 192.7455,-555.3427\" stroke=\"#000000\"/>\n",
       "</g>\n",
       "<!-- 112830560408 -->\n",
       "<g class=\"node\" id=\"node10\">\n",
       "<title>112830560408</title>\n",
       "<polygon fill=\"none\" points=\"389,-498.5 389,-544.5 663,-544.5 663,-498.5 389,-498.5\" stroke=\"#000000\"/>\n",
       "<text fill=\"#000000\" font-family=\"Times,serif\" font-size=\"14.00\" text-anchor=\"middle\" x=\"456\" y=\"-517.8\">FlattenUsers: Flatten</text>\n",
       "<polyline fill=\"none\" points=\"523,-498.5 523,-544.5 \" stroke=\"#000000\"/>\n",
       "<text fill=\"#000000\" font-family=\"Times,serif\" font-size=\"14.00\" text-anchor=\"middle\" x=\"551\" y=\"-529.3\">input:</text>\n",
       "<polyline fill=\"none\" points=\"523,-521.5 579,-521.5 \" stroke=\"#000000\"/>\n",
       "<text fill=\"#000000\" font-family=\"Times,serif\" font-size=\"14.00\" text-anchor=\"middle\" x=\"551\" y=\"-506.3\">output:</text>\n",
       "<polyline fill=\"none\" points=\"579,-498.5 579,-544.5 \" stroke=\"#000000\"/>\n",
       "<text fill=\"#000000\" font-family=\"Times,serif\" font-size=\"14.00\" text-anchor=\"middle\" x=\"621\" y=\"-529.3\">(None, 1, 3)</text>\n",
       "<polyline fill=\"none\" points=\"579,-521.5 663,-521.5 \" stroke=\"#000000\"/>\n",
       "<text fill=\"#000000\" font-family=\"Times,serif\" font-size=\"14.00\" text-anchor=\"middle\" x=\"621\" y=\"-506.3\">(None, 3)</text>\n",
       "</g>\n",
       "<!-- 112831407384&#45;&gt;112830560408 -->\n",
       "<g class=\"edge\" id=\"edge6\">\n",
       "<title>112831407384-&gt;112830560408</title>\n",
       "<path d=\"M517.3427,-581.3799C518.529,-573.1745 519.889,-563.7679 521.1742,-554.8786\" fill=\"none\" stroke=\"#000000\"/>\n",
       "<polygon fill=\"#000000\" points=\"524.6666,-555.1819 522.6336,-544.784 517.7387,-554.1803 524.6666,-555.1819\" stroke=\"#000000\"/>\n",
       "</g>\n",
       "<!-- 112830897792 -->\n",
       "<g class=\"node\" id=\"node11\">\n",
       "<title>112830897792</title>\n",
       "<polygon fill=\"none\" points=\"706.5,-498.5 706.5,-544.5 1007.5,-544.5 1007.5,-498.5 706.5,-498.5\" stroke=\"#000000\"/>\n",
       "<text fill=\"#000000\" font-family=\"Times,serif\" font-size=\"14.00\" text-anchor=\"middle\" x=\"787\" y=\"-517.8\">FlattenUsers_hist: Flatten</text>\n",
       "<polyline fill=\"none\" points=\"867.5,-498.5 867.5,-544.5 \" stroke=\"#000000\"/>\n",
       "<text fill=\"#000000\" font-family=\"Times,serif\" font-size=\"14.00\" text-anchor=\"middle\" x=\"895.5\" y=\"-529.3\">input:</text>\n",
       "<polyline fill=\"none\" points=\"867.5,-521.5 923.5,-521.5 \" stroke=\"#000000\"/>\n",
       "<text fill=\"#000000\" font-family=\"Times,serif\" font-size=\"14.00\" text-anchor=\"middle\" x=\"895.5\" y=\"-506.3\">output:</text>\n",
       "<polyline fill=\"none\" points=\"923.5,-498.5 923.5,-544.5 \" stroke=\"#000000\"/>\n",
       "<text fill=\"#000000\" font-family=\"Times,serif\" font-size=\"14.00\" text-anchor=\"middle\" x=\"965.5\" y=\"-529.3\">(None, 2, 3)</text>\n",
       "<polyline fill=\"none\" points=\"923.5,-521.5 1007.5,-521.5 \" stroke=\"#000000\"/>\n",
       "<text fill=\"#000000\" font-family=\"Times,serif\" font-size=\"14.00\" text-anchor=\"middle\" x=\"965.5\" y=\"-506.3\">(None, 6)</text>\n",
       "</g>\n",
       "<!-- 112830894320&#45;&gt;112830897792 -->\n",
       "<g class=\"edge\" id=\"edge7\">\n",
       "<title>112830894320-&gt;112830897792</title>\n",
       "<path d=\"M866.3788,-581.3799C865.0936,-573.1745 863.6203,-563.7679 862.228,-554.8786\" fill=\"none\" stroke=\"#000000\"/>\n",
       "<polygon fill=\"#000000\" points=\"865.6522,-554.1219 860.6469,-544.784 858.7365,-555.2052 865.6522,-554.1219\" stroke=\"#000000\"/>\n",
       "</g>\n",
       "<!-- 112831406264 -->\n",
       "<g class=\"node\" id=\"node12\">\n",
       "<title>112831406264</title>\n",
       "<polygon fill=\"none\" points=\"1062.5,-498.5 1062.5,-544.5 1373.5,-544.5 1373.5,-498.5 1062.5,-498.5\" stroke=\"#000000\"/>\n",
       "<text fill=\"#000000\" font-family=\"Times,serif\" font-size=\"14.00\" text-anchor=\"middle\" x=\"1148\" y=\"-517.8\">FlattenMovies_hist: Flatten</text>\n",
       "<polyline fill=\"none\" points=\"1233.5,-498.5 1233.5,-544.5 \" stroke=\"#000000\"/>\n",
       "<text fill=\"#000000\" font-family=\"Times,serif\" font-size=\"14.00\" text-anchor=\"middle\" x=\"1261.5\" y=\"-529.3\">input:</text>\n",
       "<polyline fill=\"none\" points=\"1233.5,-521.5 1289.5,-521.5 \" stroke=\"#000000\"/>\n",
       "<text fill=\"#000000\" font-family=\"Times,serif\" font-size=\"14.00\" text-anchor=\"middle\" x=\"1261.5\" y=\"-506.3\">output:</text>\n",
       "<polyline fill=\"none\" points=\"1289.5,-498.5 1289.5,-544.5 \" stroke=\"#000000\"/>\n",
       "<text fill=\"#000000\" font-family=\"Times,serif\" font-size=\"14.00\" text-anchor=\"middle\" x=\"1331.5\" y=\"-529.3\">(None, 4, 3)</text>\n",
       "<polyline fill=\"none\" points=\"1289.5,-521.5 1373.5,-521.5 \" stroke=\"#000000\"/>\n",
       "<text fill=\"#000000\" font-family=\"Times,serif\" font-size=\"14.00\" text-anchor=\"middle\" x=\"1331.5\" y=\"-506.3\">(None, 12)</text>\n",
       "</g>\n",
       "<!-- 112831625144&#45;&gt;112831406264 -->\n",
       "<g class=\"edge\" id=\"edge8\">\n",
       "<title>112831625144-&gt;112831406264</title>\n",
       "<path d=\"M1236.7576,-581.3799C1234.1593,-573.0854 1231.1764,-563.5633 1228.3652,-554.5889\" fill=\"none\" stroke=\"#000000\"/>\n",
       "<polygon fill=\"#000000\" points=\"1231.6231,-553.2805 1225.2938,-544.784 1224.9432,-555.373 1231.6231,-553.2805\" stroke=\"#000000\"/>\n",
       "</g>\n",
       "<!-- 112831626880 -->\n",
       "<g class=\"node\" id=\"node13\">\n",
       "<title>112831626880</title>\n",
       "<polygon fill=\"none\" points=\"117,-415.5 117,-461.5 371,-461.5 371,-415.5 117,-415.5\" stroke=\"#000000\"/>\n",
       "<text fill=\"#000000\" font-family=\"Times,serif\" font-size=\"14.00\" text-anchor=\"middle\" x=\"181\" y=\"-434.8\">dropout_1: Dropout</text>\n",
       "<polyline fill=\"none\" points=\"245,-415.5 245,-461.5 \" stroke=\"#000000\"/>\n",
       "<text fill=\"#000000\" font-family=\"Times,serif\" font-size=\"14.00\" text-anchor=\"middle\" x=\"273\" y=\"-446.3\">input:</text>\n",
       "<polyline fill=\"none\" points=\"245,-438.5 301,-438.5 \" stroke=\"#000000\"/>\n",
       "<text fill=\"#000000\" font-family=\"Times,serif\" font-size=\"14.00\" text-anchor=\"middle\" x=\"273\" y=\"-423.3\">output:</text>\n",
       "<polyline fill=\"none\" points=\"301,-415.5 301,-461.5 \" stroke=\"#000000\"/>\n",
       "<text fill=\"#000000\" font-family=\"Times,serif\" font-size=\"14.00\" text-anchor=\"middle\" x=\"336\" y=\"-446.3\">(None, 3)</text>\n",
       "<polyline fill=\"none\" points=\"301,-438.5 371,-438.5 \" stroke=\"#000000\"/>\n",
       "<text fill=\"#000000\" font-family=\"Times,serif\" font-size=\"14.00\" text-anchor=\"middle\" x=\"336\" y=\"-423.3\">(None, 3)</text>\n",
       "</g>\n",
       "<!-- 112831624080&#45;&gt;112831626880 -->\n",
       "<g class=\"edge\" id=\"edge9\">\n",
       "<title>112831624080-&gt;112831626880</title>\n",
       "<path d=\"M215.1422,-498.3799C219.2256,-489.907 223.9262,-480.1531 228.3322,-471.0107\" fill=\"none\" stroke=\"#000000\"/>\n",
       "<polygon fill=\"#000000\" points=\"231.5903,-472.312 232.7788,-461.784 225.2844,-469.2729 231.5903,-472.312\" stroke=\"#000000\"/>\n",
       "</g>\n",
       "<!-- 112830763640 -->\n",
       "<g class=\"node\" id=\"node14\">\n",
       "<title>112830763640</title>\n",
       "<polygon fill=\"none\" points=\"414,-415.5 414,-461.5 668,-461.5 668,-415.5 414,-415.5\" stroke=\"#000000\"/>\n",
       "<text fill=\"#000000\" font-family=\"Times,serif\" font-size=\"14.00\" text-anchor=\"middle\" x=\"478\" y=\"-434.8\">dropout_3: Dropout</text>\n",
       "<polyline fill=\"none\" points=\"542,-415.5 542,-461.5 \" stroke=\"#000000\"/>\n",
       "<text fill=\"#000000\" font-family=\"Times,serif\" font-size=\"14.00\" text-anchor=\"middle\" x=\"570\" y=\"-446.3\">input:</text>\n",
       "<polyline fill=\"none\" points=\"542,-438.5 598,-438.5 \" stroke=\"#000000\"/>\n",
       "<text fill=\"#000000\" font-family=\"Times,serif\" font-size=\"14.00\" text-anchor=\"middle\" x=\"570\" y=\"-423.3\">output:</text>\n",
       "<polyline fill=\"none\" points=\"598,-415.5 598,-461.5 \" stroke=\"#000000\"/>\n",
       "<text fill=\"#000000\" font-family=\"Times,serif\" font-size=\"14.00\" text-anchor=\"middle\" x=\"633\" y=\"-446.3\">(None, 3)</text>\n",
       "<polyline fill=\"none\" points=\"598,-438.5 668,-438.5 \" stroke=\"#000000\"/>\n",
       "<text fill=\"#000000\" font-family=\"Times,serif\" font-size=\"14.00\" text-anchor=\"middle\" x=\"633\" y=\"-423.3\">(None, 3)</text>\n",
       "</g>\n",
       "<!-- 112830560408&#45;&gt;112830763640 -->\n",
       "<g class=\"edge\" id=\"edge10\">\n",
       "<title>112830560408-&gt;112830763640</title>\n",
       "<path d=\"M530.1783,-498.3799C531.6612,-490.1745 533.3612,-480.7679 534.9677,-471.8786\" fill=\"none\" stroke=\"#000000\"/>\n",
       "<polygon fill=\"#000000\" points=\"538.4578,-472.2471 536.792,-461.784 531.5693,-471.0021 538.4578,-472.2471\" stroke=\"#000000\"/>\n",
       "</g>\n",
       "<!-- 112830763304 -->\n",
       "<g class=\"node\" id=\"node15\">\n",
       "<title>112830763304</title>\n",
       "<polygon fill=\"none\" points=\"715,-415.5 715,-461.5 969,-461.5 969,-415.5 715,-415.5\" stroke=\"#000000\"/>\n",
       "<text fill=\"#000000\" font-family=\"Times,serif\" font-size=\"14.00\" text-anchor=\"middle\" x=\"779\" y=\"-434.8\">dropout_4: Dropout</text>\n",
       "<polyline fill=\"none\" points=\"843,-415.5 843,-461.5 \" stroke=\"#000000\"/>\n",
       "<text fill=\"#000000\" font-family=\"Times,serif\" font-size=\"14.00\" text-anchor=\"middle\" x=\"871\" y=\"-446.3\">input:</text>\n",
       "<polyline fill=\"none\" points=\"843,-438.5 899,-438.5 \" stroke=\"#000000\"/>\n",
       "<text fill=\"#000000\" font-family=\"Times,serif\" font-size=\"14.00\" text-anchor=\"middle\" x=\"871\" y=\"-423.3\">output:</text>\n",
       "<polyline fill=\"none\" points=\"899,-415.5 899,-461.5 \" stroke=\"#000000\"/>\n",
       "<text fill=\"#000000\" font-family=\"Times,serif\" font-size=\"14.00\" text-anchor=\"middle\" x=\"934\" y=\"-446.3\">(None, 6)</text>\n",
       "<polyline fill=\"none\" points=\"899,-438.5 969,-438.5 \" stroke=\"#000000\"/>\n",
       "<text fill=\"#000000\" font-family=\"Times,serif\" font-size=\"14.00\" text-anchor=\"middle\" x=\"934\" y=\"-423.3\">(None, 6)</text>\n",
       "</g>\n",
       "<!-- 112830897792&#45;&gt;112830763304 -->\n",
       "<g class=\"edge\" id=\"edge11\">\n",
       "<title>112830897792-&gt;112830763304</title>\n",
       "<path d=\"M852.8217,-498.3799C851.3388,-490.1745 849.6388,-480.7679 848.0323,-471.8786\" fill=\"none\" stroke=\"#000000\"/>\n",
       "<polygon fill=\"#000000\" points=\"851.4307,-471.0021 846.208,-461.784 844.5422,-472.2471 851.4307,-471.0021\" stroke=\"#000000\"/>\n",
       "</g>\n",
       "<!-- 112831407608 -->\n",
       "<g class=\"node\" id=\"node16\">\n",
       "<title>112831407608</title>\n",
       "<polygon fill=\"none\" points=\"1044.5,-415.5 1044.5,-461.5 1305.5,-461.5 1305.5,-415.5 1044.5,-415.5\" stroke=\"#000000\"/>\n",
       "<text fill=\"#000000\" font-family=\"Times,serif\" font-size=\"14.00\" text-anchor=\"middle\" x=\"1108.5\" y=\"-434.8\">dropout_2: Dropout</text>\n",
       "<polyline fill=\"none\" points=\"1172.5,-415.5 1172.5,-461.5 \" stroke=\"#000000\"/>\n",
       "<text fill=\"#000000\" font-family=\"Times,serif\" font-size=\"14.00\" text-anchor=\"middle\" x=\"1200.5\" y=\"-446.3\">input:</text>\n",
       "<polyline fill=\"none\" points=\"1172.5,-438.5 1228.5,-438.5 \" stroke=\"#000000\"/>\n",
       "<text fill=\"#000000\" font-family=\"Times,serif\" font-size=\"14.00\" text-anchor=\"middle\" x=\"1200.5\" y=\"-423.3\">output:</text>\n",
       "<polyline fill=\"none\" points=\"1228.5,-415.5 1228.5,-461.5 \" stroke=\"#000000\"/>\n",
       "<text fill=\"#000000\" font-family=\"Times,serif\" font-size=\"14.00\" text-anchor=\"middle\" x=\"1267\" y=\"-446.3\">(None, 12)</text>\n",
       "<polyline fill=\"none\" points=\"1228.5,-438.5 1305.5,-438.5 \" stroke=\"#000000\"/>\n",
       "<text fill=\"#000000\" font-family=\"Times,serif\" font-size=\"14.00\" text-anchor=\"middle\" x=\"1267\" y=\"-423.3\">(None, 12)</text>\n",
       "</g>\n",
       "<!-- 112831406264&#45;&gt;112831407608 -->\n",
       "<g class=\"edge\" id=\"edge12\">\n",
       "<title>112831406264-&gt;112831407608</title>\n",
       "<path d=\"M1206.0221,-498.3799C1201.5863,-489.8178 1196.4729,-479.9477 1191.6934,-470.7222\" fill=\"none\" stroke=\"#000000\"/>\n",
       "<polygon fill=\"#000000\" points=\"1194.7706,-469.0531 1187.0628,-461.784 1188.5552,-472.2732 1194.7706,-469.0531\" stroke=\"#000000\"/>\n",
       "</g>\n",
       "<!-- 112830532968 -->\n",
       "<g class=\"node\" id=\"node17\">\n",
       "<title>112830532968</title>\n",
       "<polygon fill=\"none\" points=\"462.5,-332.5 462.5,-378.5 919.5,-378.5 919.5,-332.5 462.5,-332.5\" stroke=\"#000000\"/>\n",
       "<text fill=\"#000000\" font-family=\"Times,serif\" font-size=\"14.00\" text-anchor=\"middle\" x=\"529\" y=\"-351.8\">Concat: Concatenate</text>\n",
       "<polyline fill=\"none\" points=\"595.5,-332.5 595.5,-378.5 \" stroke=\"#000000\"/>\n",
       "<text fill=\"#000000\" font-family=\"Times,serif\" font-size=\"14.00\" text-anchor=\"middle\" x=\"623.5\" y=\"-363.3\">input:</text>\n",
       "<polyline fill=\"none\" points=\"595.5,-355.5 651.5,-355.5 \" stroke=\"#000000\"/>\n",
       "<text fill=\"#000000\" font-family=\"Times,serif\" font-size=\"14.00\" text-anchor=\"middle\" x=\"623.5\" y=\"-340.3\">output:</text>\n",
       "<polyline fill=\"none\" points=\"651.5,-332.5 651.5,-378.5 \" stroke=\"#000000\"/>\n",
       "<text fill=\"#000000\" font-family=\"Times,serif\" font-size=\"14.00\" text-anchor=\"middle\" x=\"785.5\" y=\"-363.3\">[(None, 3), (None, 3), (None, 6), (None, 12)]</text>\n",
       "<polyline fill=\"none\" points=\"651.5,-355.5 919.5,-355.5 \" stroke=\"#000000\"/>\n",
       "<text fill=\"#000000\" font-family=\"Times,serif\" font-size=\"14.00\" text-anchor=\"middle\" x=\"785.5\" y=\"-340.3\">(None, 24)</text>\n",
       "</g>\n",
       "<!-- 112831626880&#45;&gt;112830532968 -->\n",
       "<g class=\"edge\" id=\"edge13\">\n",
       "<title>112831626880-&gt;112830532968</title>\n",
       "<path d=\"M367.9208,-415.4901C426.6605,-404.5832 496.935,-391.5344 556.9195,-380.3964\" fill=\"none\" stroke=\"#000000\"/>\n",
       "<polygon fill=\"#000000\" points=\"557.6452,-383.8215 566.8381,-378.5547 556.3672,-376.9392 557.6452,-383.8215\" stroke=\"#000000\"/>\n",
       "</g>\n",
       "<!-- 112830763640&#45;&gt;112830532968 -->\n",
       "<g class=\"edge\" id=\"edge14\">\n",
       "<title>112830763640-&gt;112830532968</title>\n",
       "<path d=\"M582.7834,-415.3799C600.5881,-405.5279 621.5226,-393.9442 640.2107,-383.6034\" fill=\"none\" stroke=\"#000000\"/>\n",
       "<polygon fill=\"#000000\" points=\"642.1256,-386.544 649.1808,-378.6399 638.7364,-380.4191 642.1256,-386.544\" stroke=\"#000000\"/>\n",
       "</g>\n",
       "<!-- 112830763304&#45;&gt;112830532968 -->\n",
       "<g class=\"edge\" id=\"edge15\">\n",
       "<title>112830763304-&gt;112830532968</title>\n",
       "<path d=\"M799.9381,-415.3799C781.9332,-405.4832 760.7489,-393.8388 741.8715,-383.4625\" fill=\"none\" stroke=\"#000000\"/>\n",
       "<polygon fill=\"#000000\" points=\"743.5473,-380.3898 733.098,-378.6399 740.1754,-386.5241 743.5473,-380.3898\" stroke=\"#000000\"/>\n",
       "</g>\n",
       "<!-- 112831407608&#45;&gt;112830532968 -->\n",
       "<g class=\"edge\" id=\"edge16\">\n",
       "<title>112831407608-&gt;112830532968</title>\n",
       "<path d=\"M1044.3415,-416.0937C979.7631,-405.0193 901.6579,-391.6252 835.3203,-380.2491\" fill=\"none\" stroke=\"#000000\"/>\n",
       "<polygon fill=\"#000000\" points=\"835.6482,-376.7544 825.2005,-378.5137 834.465,-383.6537 835.6482,-376.7544\" stroke=\"#000000\"/>\n",
       "</g>\n",
       "<!-- 112832180744 -->\n",
       "<g class=\"node\" id=\"node18\">\n",
       "<title>112832180744</title>\n",
       "<polygon fill=\"none\" points=\"541,-249.5 541,-295.5 841,-295.5 841,-249.5 541,-249.5\" stroke=\"#000000\"/>\n",
       "<text fill=\"#000000\" font-family=\"Times,serif\" font-size=\"14.00\" text-anchor=\"middle\" x=\"621\" y=\"-268.8\">FullyConnected-1: Dense</text>\n",
       "<polyline fill=\"none\" points=\"701,-249.5 701,-295.5 \" stroke=\"#000000\"/>\n",
       "<text fill=\"#000000\" font-family=\"Times,serif\" font-size=\"14.00\" text-anchor=\"middle\" x=\"729\" y=\"-280.3\">input:</text>\n",
       "<polyline fill=\"none\" points=\"701,-272.5 757,-272.5 \" stroke=\"#000000\"/>\n",
       "<text fill=\"#000000\" font-family=\"Times,serif\" font-size=\"14.00\" text-anchor=\"middle\" x=\"729\" y=\"-257.3\">output:</text>\n",
       "<polyline fill=\"none\" points=\"757,-249.5 757,-295.5 \" stroke=\"#000000\"/>\n",
       "<text fill=\"#000000\" font-family=\"Times,serif\" font-size=\"14.00\" text-anchor=\"middle\" x=\"799\" y=\"-280.3\">(None, 24)</text>\n",
       "<polyline fill=\"none\" points=\"757,-272.5 841,-272.5 \" stroke=\"#000000\"/>\n",
       "<text fill=\"#000000\" font-family=\"Times,serif\" font-size=\"14.00\" text-anchor=\"middle\" x=\"799\" y=\"-257.3\">(None, 100)</text>\n",
       "</g>\n",
       "<!-- 112830532968&#45;&gt;112832180744 -->\n",
       "<g class=\"edge\" id=\"edge17\">\n",
       "<title>112830532968-&gt;112832180744</title>\n",
       "<path d=\"M691,-332.3799C691,-324.1745 691,-314.7679 691,-305.8786\" fill=\"none\" stroke=\"#000000\"/>\n",
       "<polygon fill=\"#000000\" points=\"694.5001,-305.784 691,-295.784 687.5001,-305.784 694.5001,-305.784\" stroke=\"#000000\"/>\n",
       "</g>\n",
       "<!-- 112832738864 -->\n",
       "<g class=\"node\" id=\"node19\">\n",
       "<title>112832738864</title>\n",
       "<polygon fill=\"none\" points=\"541,-166.5 541,-212.5 841,-212.5 841,-166.5 541,-166.5\" stroke=\"#000000\"/>\n",
       "<text fill=\"#000000\" font-family=\"Times,serif\" font-size=\"14.00\" text-anchor=\"middle\" x=\"621\" y=\"-185.8\">FullyConnected-2: Dense</text>\n",
       "<polyline fill=\"none\" points=\"701,-166.5 701,-212.5 \" stroke=\"#000000\"/>\n",
       "<text fill=\"#000000\" font-family=\"Times,serif\" font-size=\"14.00\" text-anchor=\"middle\" x=\"729\" y=\"-197.3\">input:</text>\n",
       "<polyline fill=\"none\" points=\"701,-189.5 757,-189.5 \" stroke=\"#000000\"/>\n",
       "<text fill=\"#000000\" font-family=\"Times,serif\" font-size=\"14.00\" text-anchor=\"middle\" x=\"729\" y=\"-174.3\">output:</text>\n",
       "<polyline fill=\"none\" points=\"757,-166.5 757,-212.5 \" stroke=\"#000000\"/>\n",
       "<text fill=\"#000000\" font-family=\"Times,serif\" font-size=\"14.00\" text-anchor=\"middle\" x=\"799\" y=\"-197.3\">(None, 100)</text>\n",
       "<polyline fill=\"none\" points=\"757,-189.5 841,-189.5 \" stroke=\"#000000\"/>\n",
       "<text fill=\"#000000\" font-family=\"Times,serif\" font-size=\"14.00\" text-anchor=\"middle\" x=\"799\" y=\"-174.3\">(None, 50)</text>\n",
       "</g>\n",
       "<!-- 112832180744&#45;&gt;112832738864 -->\n",
       "<g class=\"edge\" id=\"edge18\">\n",
       "<title>112832180744-&gt;112832738864</title>\n",
       "<path d=\"M691,-249.3799C691,-241.1745 691,-231.7679 691,-222.8786\" fill=\"none\" stroke=\"#000000\"/>\n",
       "<polygon fill=\"#000000\" points=\"694.5001,-222.784 691,-212.784 687.5001,-222.784 694.5001,-222.784\" stroke=\"#000000\"/>\n",
       "</g>\n",
       "<!-- 112832638088 -->\n",
       "<g class=\"node\" id=\"node20\">\n",
       "<title>112832638088</title>\n",
       "<polygon fill=\"none\" points=\"544.5,-83.5 544.5,-129.5 837.5,-129.5 837.5,-83.5 544.5,-83.5\" stroke=\"#000000\"/>\n",
       "<text fill=\"#000000\" font-family=\"Times,serif\" font-size=\"14.00\" text-anchor=\"middle\" x=\"624.5\" y=\"-102.8\">FullyConnected-3: Dense</text>\n",
       "<polyline fill=\"none\" points=\"704.5,-83.5 704.5,-129.5 \" stroke=\"#000000\"/>\n",
       "<text fill=\"#000000\" font-family=\"Times,serif\" font-size=\"14.00\" text-anchor=\"middle\" x=\"732.5\" y=\"-114.3\">input:</text>\n",
       "<polyline fill=\"none\" points=\"704.5,-106.5 760.5,-106.5 \" stroke=\"#000000\"/>\n",
       "<text fill=\"#000000\" font-family=\"Times,serif\" font-size=\"14.00\" text-anchor=\"middle\" x=\"732.5\" y=\"-91.3\">output:</text>\n",
       "<polyline fill=\"none\" points=\"760.5,-83.5 760.5,-129.5 \" stroke=\"#000000\"/>\n",
       "<text fill=\"#000000\" font-family=\"Times,serif\" font-size=\"14.00\" text-anchor=\"middle\" x=\"799\" y=\"-114.3\">(None, 50)</text>\n",
       "<polyline fill=\"none\" points=\"760.5,-106.5 837.5,-106.5 \" stroke=\"#000000\"/>\n",
       "<text fill=\"#000000\" font-family=\"Times,serif\" font-size=\"14.00\" text-anchor=\"middle\" x=\"799\" y=\"-91.3\">(None, 20)</text>\n",
       "</g>\n",
       "<!-- 112832738864&#45;&gt;112832638088 -->\n",
       "<g class=\"edge\" id=\"edge19\">\n",
       "<title>112832738864-&gt;112832638088</title>\n",
       "<path d=\"M691,-166.3799C691,-158.1745 691,-148.7679 691,-139.8786\" fill=\"none\" stroke=\"#000000\"/>\n",
       "<polygon fill=\"#000000\" points=\"694.5001,-139.784 691,-129.784 687.5001,-139.784 694.5001,-139.784\" stroke=\"#000000\"/>\n",
       "</g>\n",
       "<!-- 112832638592 -->\n",
       "<g class=\"node\" id=\"node21\">\n",
       "<title>112832638592</title>\n",
       "<polygon fill=\"none\" points=\"565.5,-.5 565.5,-46.5 816.5,-46.5 816.5,-.5 565.5,-.5\" stroke=\"#000000\"/>\n",
       "<text fill=\"#000000\" font-family=\"Times,serif\" font-size=\"14.00\" text-anchor=\"middle\" x=\"624.5\" y=\"-19.8\">Activation: Dense</text>\n",
       "<polyline fill=\"none\" points=\"683.5,-.5 683.5,-46.5 \" stroke=\"#000000\"/>\n",
       "<text fill=\"#000000\" font-family=\"Times,serif\" font-size=\"14.00\" text-anchor=\"middle\" x=\"711.5\" y=\"-31.3\">input:</text>\n",
       "<polyline fill=\"none\" points=\"683.5,-23.5 739.5,-23.5 \" stroke=\"#000000\"/>\n",
       "<text fill=\"#000000\" font-family=\"Times,serif\" font-size=\"14.00\" text-anchor=\"middle\" x=\"711.5\" y=\"-8.3\">output:</text>\n",
       "<polyline fill=\"none\" points=\"739.5,-.5 739.5,-46.5 \" stroke=\"#000000\"/>\n",
       "<text fill=\"#000000\" font-family=\"Times,serif\" font-size=\"14.00\" text-anchor=\"middle\" x=\"778\" y=\"-31.3\">(None, 20)</text>\n",
       "<polyline fill=\"none\" points=\"739.5,-23.5 816.5,-23.5 \" stroke=\"#000000\"/>\n",
       "<text fill=\"#000000\" font-family=\"Times,serif\" font-size=\"14.00\" text-anchor=\"middle\" x=\"778\" y=\"-8.3\">(None, 1)</text>\n",
       "</g>\n",
       "<!-- 112832638088&#45;&gt;112832638592 -->\n",
       "<g class=\"edge\" id=\"edge20\">\n",
       "<title>112832638088-&gt;112832638592</title>\n",
       "<path d=\"M691,-83.3799C691,-75.1745 691,-65.7679 691,-56.8786\" fill=\"none\" stroke=\"#000000\"/>\n",
       "<polygon fill=\"#000000\" points=\"694.5001,-56.784 691,-46.784 687.5001,-56.784 694.5001,-56.784\" stroke=\"#000000\"/>\n",
       "</g>\n",
       "</g>\n",
       "</svg>"
      ],
      "text/plain": [
       "<IPython.core.display.SVG object>"
      ]
     },
     "execution_count": 38,
     "metadata": {},
     "output_type": "execute_result"
    }
   ],
   "source": [
    "SVG(model_to_dot(model,  show_shapes=True, show_layer_names=True, rankdir='HB').create(prog='dot', format='svg'))"
   ]
  },
  {
   "cell_type": "code",
   "execution_count": 39,
   "metadata": {},
   "outputs": [
    {
     "name": "stdout",
     "output_type": "stream",
     "text": [
      "__________________________________________________________________________________________________\n",
      "Layer (type)                    Output Shape         Param #     Connected to                     \n",
      "==================================================================================================\n",
      "Item (InputLayer)               (None, 1)            0                                            \n",
      "__________________________________________________________________________________________________\n",
      "User (InputLayer)               (None, 1)            0                                            \n",
      "__________________________________________________________________________________________________\n",
      "User_hist (InputLayer)          (None, 2)            0                                            \n",
      "__________________________________________________________________________________________________\n",
      "Item_hist (InputLayer)          (None, 4)            0                                            \n",
      "__________________________________________________________________________________________________\n",
      "Movie-Embedding (Embedding)     (None, 1, 3)         6429        Item[0][0]                       \n",
      "__________________________________________________________________________________________________\n",
      "User-Embedding (Embedding)      (None, 1, 3)         169497      User[0][0]                       \n",
      "__________________________________________________________________________________________________\n",
      "User-Embedding_hist (Embedding) (None, 2, 3)         169497      User_hist[0][0]                  \n",
      "__________________________________________________________________________________________________\n",
      "Movie-Embedding_hist (Embedding (None, 4, 3)         6429        Item_hist[0][0]                  \n",
      "__________________________________________________________________________________________________\n",
      "FlattenMovies (Flatten)         (None, 3)            0           Movie-Embedding[0][0]            \n",
      "__________________________________________________________________________________________________\n",
      "FlattenUsers (Flatten)          (None, 3)            0           User-Embedding[0][0]             \n",
      "__________________________________________________________________________________________________\n",
      "FlattenUsers_hist (Flatten)     (None, 6)            0           User-Embedding_hist[0][0]        \n",
      "__________________________________________________________________________________________________\n",
      "FlattenMovies_hist (Flatten)    (None, 12)           0           Movie-Embedding_hist[0][0]       \n",
      "__________________________________________________________________________________________________\n",
      "dropout_1 (Dropout)             (None, 3)            0           FlattenMovies[0][0]              \n",
      "__________________________________________________________________________________________________\n",
      "dropout_3 (Dropout)             (None, 3)            0           FlattenUsers[0][0]               \n",
      "__________________________________________________________________________________________________\n",
      "dropout_4 (Dropout)             (None, 6)            0           FlattenUsers_hist[0][0]          \n",
      "__________________________________________________________________________________________________\n",
      "dropout_2 (Dropout)             (None, 12)           0           FlattenMovies_hist[0][0]         \n",
      "__________________________________________________________________________________________________\n",
      "Concat (Concatenate)            (None, 24)           0           dropout_1[0][0]                  \n",
      "                                                                 dropout_3[0][0]                  \n",
      "                                                                 dropout_4[0][0]                  \n",
      "                                                                 dropout_2[0][0]                  \n",
      "__________________________________________________________________________________________________\n",
      "FullyConnected-1 (Dense)        (None, 100)          2500        Concat[0][0]                     \n",
      "__________________________________________________________________________________________________\n",
      "FullyConnected-2 (Dense)        (None, 50)           5050        FullyConnected-1[0][0]           \n",
      "__________________________________________________________________________________________________\n",
      "FullyConnected-3 (Dense)        (None, 20)           1020        FullyConnected-2[0][0]           \n",
      "__________________________________________________________________________________________________\n",
      "Activation (Dense)              (None, 1)            21          FullyConnected-3[0][0]           \n",
      "==================================================================================================\n",
      "Total params: 360,443\n",
      "Trainable params: 360,443\n",
      "Non-trainable params: 0\n",
      "__________________________________________________________________________________________________\n"
     ]
    }
   ],
   "source": [
    "model.summary()"
   ]
  },
  {
   "cell_type": "code",
   "execution_count": 40,
   "metadata": {},
   "outputs": [
    {
     "data": {
      "text/html": [
       "<div>\n",
       "<style>\n",
       "    .dataframe thead tr:only-child th {\n",
       "        text-align: right;\n",
       "    }\n",
       "\n",
       "    .dataframe thead th {\n",
       "        text-align: left;\n",
       "    }\n",
       "\n",
       "    .dataframe tbody tr th {\n",
       "        vertical-align: top;\n",
       "    }\n",
       "</style>\n",
       "<table border=\"1\" class=\"dataframe\">\n",
       "  <thead>\n",
       "    <tr style=\"text-align: right;\">\n",
       "      <th></th>\n",
       "      <th>user_id</th>\n",
       "      <th>anime_id</th>\n",
       "      <th>anime_id_len</th>\n",
       "      <th>genre</th>\n",
       "      <th>genre_len</th>\n",
       "      <th>rating</th>\n",
       "      <th>members</th>\n",
       "      <th>candidate_movie_id</th>\n",
       "      <th>rating_x</th>\n",
       "    </tr>\n",
       "  </thead>\n",
       "  <tbody>\n",
       "    <tr>\n",
       "      <th>0</th>\n",
       "      <td>292</td>\n",
       "      <td>[49, 39, 258, 2, 47, 0, 0, 0, 0, 0, 0, 0, 0, 0...</td>\n",
       "      <td>5</td>\n",
       "      <td>[5, 6, 11, 18, 4, 12, 0, 0, 0]</td>\n",
       "      <td>6</td>\n",
       "      <td>7.17</td>\n",
       "      <td>0.118912</td>\n",
       "      <td>0</td>\n",
       "      <td>10</td>\n",
       "    </tr>\n",
       "    <tr>\n",
       "      <th>1</th>\n",
       "      <td>33722</td>\n",
       "      <td>[126, 26, 28, 205, 112, 182, 68, 69, 213, 158,...</td>\n",
       "      <td>17</td>\n",
       "      <td>[50, 12, 0, 0, 0, 0, 0, 0, 0]</td>\n",
       "      <td>2</td>\n",
       "      <td>7.74</td>\n",
       "      <td>0.023015</td>\n",
       "      <td>128</td>\n",
       "      <td>8</td>\n",
       "    </tr>\n",
       "    <tr>\n",
       "      <th>2</th>\n",
       "      <td>27492</td>\n",
       "      <td>[119, 115, 152, 126, 153, 60, 11, 63, 207, 51,...</td>\n",
       "      <td>25</td>\n",
       "      <td>[1, 15, 6, 11, 3, 8, 0, 0, 0]</td>\n",
       "      <td>6</td>\n",
       "      <td>7.66</td>\n",
       "      <td>0.098711</td>\n",
       "      <td>28</td>\n",
       "      <td>6</td>\n",
       "    </tr>\n",
       "    <tr>\n",
       "      <th>3</th>\n",
       "      <td>8232</td>\n",
       "      <td>[63, 97, 26, 22, 83, 58, 94, 140, 79, 24, 81, ...</td>\n",
       "      <td>24</td>\n",
       "      <td>[5, 6, 3, 2, 4, 0, 0, 0, 0]</td>\n",
       "      <td>5</td>\n",
       "      <td>6.93</td>\n",
       "      <td>0.056827</td>\n",
       "      <td>195</td>\n",
       "      <td>7</td>\n",
       "    </tr>\n",
       "    <tr>\n",
       "      <th>4</th>\n",
       "      <td>14332</td>\n",
       "      <td>[100, 96, 81, 26, 0, 0, 0, 0, 0, 0, 0, 0, 0, 0...</td>\n",
       "      <td>4</td>\n",
       "      <td>[5, 11, 12, 0, 0, 0, 0, 0, 0]</td>\n",
       "      <td>3</td>\n",
       "      <td>8.93</td>\n",
       "      <td>0.459852</td>\n",
       "      <td>5</td>\n",
       "      <td>8</td>\n",
       "    </tr>\n",
       "  </tbody>\n",
       "</table>\n",
       "</div>"
      ],
      "text/plain": [
       "   user_id                                           anime_id  anime_id_len  \\\n",
       "0      292  [49, 39, 258, 2, 47, 0, 0, 0, 0, 0, 0, 0, 0, 0...             5   \n",
       "1    33722  [126, 26, 28, 205, 112, 182, 68, 69, 213, 158,...            17   \n",
       "2    27492  [119, 115, 152, 126, 153, 60, 11, 63, 207, 51,...            25   \n",
       "3     8232  [63, 97, 26, 22, 83, 58, 94, 140, 79, 24, 81, ...            24   \n",
       "4    14332  [100, 96, 81, 26, 0, 0, 0, 0, 0, 0, 0, 0, 0, 0...             4   \n",
       "\n",
       "                            genre  genre_len  rating   members  \\\n",
       "0  [5, 6, 11, 18, 4, 12, 0, 0, 0]          6    7.17  0.118912   \n",
       "1   [50, 12, 0, 0, 0, 0, 0, 0, 0]          2    7.74  0.023015   \n",
       "2   [1, 15, 6, 11, 3, 8, 0, 0, 0]          6    7.66  0.098711   \n",
       "3     [5, 6, 3, 2, 4, 0, 0, 0, 0]          5    6.93  0.056827   \n",
       "4   [5, 11, 12, 0, 0, 0, 0, 0, 0]          3    8.93  0.459852   \n",
       "\n",
       "   candidate_movie_id  rating_x  \n",
       "0                   0        10  \n",
       "1                 128         8  \n",
       "2                  28         6  \n",
       "3                 195         7  \n",
       "4                   5         8  "
      ]
     },
     "execution_count": 40,
     "metadata": {},
     "output_type": "execute_result"
    }
   ],
   "source": [
    "trProcessed.head()"
   ]
  },
  {
   "cell_type": "code",
   "execution_count": 41,
   "metadata": {
    "collapsed": true
   },
   "outputs": [],
   "source": [
    "trProcessed2=trProcessed"
   ]
  },
  {
   "cell_type": "code",
   "execution_count": 44,
   "metadata": {
    "collapsed": true
   },
   "outputs": [],
   "source": [
    "#有問題的資料\n",
    "trProcessed2 = trProcessed2.drop(trProcessed2.index[420000:430000])"
   ]
  },
  {
   "cell_type": "code",
   "execution_count": 45,
   "metadata": {
    "collapsed": true
   },
   "outputs": [],
   "source": [
    "#train\n",
    "u_id = trProcessed2['user_id'].values\n",
    "m_id = trProcessed2['candidate_movie_id'].values\n",
    "u_hist = trProcessed2[['user_id','anime_id_len']]\n",
    "#u_hist = trProcessed2[['user_id','anime_id','anime_id_len']].values\n",
    "m_hist = trProcessed2[['candidate_movie_id','genre_len','rating','members']]\n",
    "#m_hist = trProcessed2[['candidate_movie_id','genre','genre_len','rating','members']].values\n",
    "t_y = trProcessed2['rating_x'].values\n",
    "#test\n",
    "u_id2 = teProcessed['user_id'].values\n",
    "m_id2 = teProcessed['candidate_movie_id'].values\n",
    "u_hist2 = teProcessed[['user_id','anime_id_len']]\n",
    "#u_hist2 = teProcessed[['user_id','anime_id','anime_id_len']].values\n",
    "m_hist2 = teProcessed[['candidate_movie_id','genre_len','rating','members']]\n",
    "#m_hist2 = teProcessed[['candidate_movie_id','genre','genre_len','rating','members']].values\n",
    "e_y = teProcessed['rating_x'].values"
   ]
  },
  {
   "cell_type": "code",
   "execution_count": 48,
   "metadata": {},
   "outputs": [
    {
     "name": "stdout",
     "output_type": "stream",
     "text": [
      "Train on 579243 samples, validate on 252910 samples\n",
      "Epoch 1/100\n",
      "188672/579243 [========>.....................] - ETA: 17s - loss: 0.9026"
     ]
    },
    {
     "ename": "InvalidArgumentError",
     "evalue": "indices[73,2] = -2147483648 is not in [0, 2143)\n\t [[{{node Movie-Embedding_hist/embedding_lookup}} = GatherV2[Taxis=DT_INT32, Tindices=DT_INT32, Tparams=DT_FLOAT, _class=[\"loc:@training/Adam/Assign_11\"], _device=\"/job:localhost/replica:0/task:0/device:CPU:0\"](Movie-Embedding_hist/embeddings/read, Movie-Embedding_hist/Cast, Movie-Embedding_hist/embedding_lookup/axis)]]",
     "output_type": "error",
     "traceback": [
      "\u001b[0;31m---------------------------------------------------------------------------\u001b[0m",
      "\u001b[0;31mInvalidArgumentError\u001b[0m                      Traceback (most recent call last)",
      "\u001b[0;32m<ipython-input-48-858478e786ba>\u001b[0m in \u001b[0;36m<module>\u001b[0;34m()\u001b[0m\n\u001b[1;32m      3\u001b[0m \u001b[0;34m\u001b[0m\u001b[0m\n\u001b[1;32m      4\u001b[0m history_2 = model.fit([u_id,m_id,u_hist,m_hist], t_y, epochs=100,batch_size=128,\n\u001b[0;32m----> 5\u001b[0;31m                       validation_data = ([u_id2,m_id2,u_hist2,m_hist2],e_y), callbacks=[early_stopping])\n\u001b[0m",
      "\u001b[0;32m~/anaconda3/lib/python3.6/site-packages/keras/engine/training.py\u001b[0m in \u001b[0;36mfit\u001b[0;34m(self, x, y, batch_size, epochs, verbose, callbacks, validation_split, validation_data, shuffle, class_weight, sample_weight, initial_epoch, steps_per_epoch, validation_steps, **kwargs)\u001b[0m\n\u001b[1;32m   1037\u001b[0m                                         \u001b[0minitial_epoch\u001b[0m\u001b[0;34m=\u001b[0m\u001b[0minitial_epoch\u001b[0m\u001b[0;34m,\u001b[0m\u001b[0;34m\u001b[0m\u001b[0;34m\u001b[0m\u001b[0m\n\u001b[1;32m   1038\u001b[0m                                         \u001b[0msteps_per_epoch\u001b[0m\u001b[0;34m=\u001b[0m\u001b[0msteps_per_epoch\u001b[0m\u001b[0;34m,\u001b[0m\u001b[0;34m\u001b[0m\u001b[0;34m\u001b[0m\u001b[0m\n\u001b[0;32m-> 1039\u001b[0;31m                                         validation_steps=validation_steps)\n\u001b[0m\u001b[1;32m   1040\u001b[0m \u001b[0;34m\u001b[0m\u001b[0m\n\u001b[1;32m   1041\u001b[0m     def evaluate(self, x=None, y=None,\n",
      "\u001b[0;32m~/anaconda3/lib/python3.6/site-packages/keras/engine/training_arrays.py\u001b[0m in \u001b[0;36mfit_loop\u001b[0;34m(model, f, ins, out_labels, batch_size, epochs, verbose, callbacks, val_f, val_ins, shuffle, callback_metrics, initial_epoch, steps_per_epoch, validation_steps)\u001b[0m\n\u001b[1;32m    197\u001b[0m                     \u001b[0mins_batch\u001b[0m\u001b[0;34m[\u001b[0m\u001b[0mi\u001b[0m\u001b[0;34m]\u001b[0m \u001b[0;34m=\u001b[0m \u001b[0mins_batch\u001b[0m\u001b[0;34m[\u001b[0m\u001b[0mi\u001b[0m\u001b[0;34m]\u001b[0m\u001b[0;34m.\u001b[0m\u001b[0mtoarray\u001b[0m\u001b[0;34m(\u001b[0m\u001b[0;34m)\u001b[0m\u001b[0;34m\u001b[0m\u001b[0;34m\u001b[0m\u001b[0m\n\u001b[1;32m    198\u001b[0m \u001b[0;34m\u001b[0m\u001b[0m\n\u001b[0;32m--> 199\u001b[0;31m                 \u001b[0mouts\u001b[0m \u001b[0;34m=\u001b[0m \u001b[0mf\u001b[0m\u001b[0;34m(\u001b[0m\u001b[0mins_batch\u001b[0m\u001b[0;34m)\u001b[0m\u001b[0;34m\u001b[0m\u001b[0;34m\u001b[0m\u001b[0m\n\u001b[0m\u001b[1;32m    200\u001b[0m                 \u001b[0mouts\u001b[0m \u001b[0;34m=\u001b[0m \u001b[0mto_list\u001b[0m\u001b[0;34m(\u001b[0m\u001b[0mouts\u001b[0m\u001b[0;34m)\u001b[0m\u001b[0;34m\u001b[0m\u001b[0;34m\u001b[0m\u001b[0m\n\u001b[1;32m    201\u001b[0m                 \u001b[0;32mfor\u001b[0m \u001b[0ml\u001b[0m\u001b[0;34m,\u001b[0m \u001b[0mo\u001b[0m \u001b[0;32min\u001b[0m \u001b[0mzip\u001b[0m\u001b[0;34m(\u001b[0m\u001b[0mout_labels\u001b[0m\u001b[0;34m,\u001b[0m \u001b[0mouts\u001b[0m\u001b[0;34m)\u001b[0m\u001b[0;34m:\u001b[0m\u001b[0;34m\u001b[0m\u001b[0;34m\u001b[0m\u001b[0m\n",
      "\u001b[0;32m~/anaconda3/lib/python3.6/site-packages/keras/backend/tensorflow_backend.py\u001b[0m in \u001b[0;36m__call__\u001b[0;34m(self, inputs)\u001b[0m\n\u001b[1;32m   2713\u001b[0m                 \u001b[0;32mreturn\u001b[0m \u001b[0mself\u001b[0m\u001b[0;34m.\u001b[0m\u001b[0m_legacy_call\u001b[0m\u001b[0;34m(\u001b[0m\u001b[0minputs\u001b[0m\u001b[0;34m)\u001b[0m\u001b[0;34m\u001b[0m\u001b[0;34m\u001b[0m\u001b[0m\n\u001b[1;32m   2714\u001b[0m \u001b[0;34m\u001b[0m\u001b[0m\n\u001b[0;32m-> 2715\u001b[0;31m             \u001b[0;32mreturn\u001b[0m \u001b[0mself\u001b[0m\u001b[0;34m.\u001b[0m\u001b[0m_call\u001b[0m\u001b[0;34m(\u001b[0m\u001b[0minputs\u001b[0m\u001b[0;34m)\u001b[0m\u001b[0;34m\u001b[0m\u001b[0;34m\u001b[0m\u001b[0m\n\u001b[0m\u001b[1;32m   2716\u001b[0m         \u001b[0;32melse\u001b[0m\u001b[0;34m:\u001b[0m\u001b[0;34m\u001b[0m\u001b[0;34m\u001b[0m\u001b[0m\n\u001b[1;32m   2717\u001b[0m             \u001b[0;32mif\u001b[0m \u001b[0mpy_any\u001b[0m\u001b[0;34m(\u001b[0m\u001b[0mis_tensor\u001b[0m\u001b[0;34m(\u001b[0m\u001b[0mx\u001b[0m\u001b[0;34m)\u001b[0m \u001b[0;32mfor\u001b[0m \u001b[0mx\u001b[0m \u001b[0;32min\u001b[0m \u001b[0minputs\u001b[0m\u001b[0;34m)\u001b[0m\u001b[0;34m:\u001b[0m\u001b[0;34m\u001b[0m\u001b[0;34m\u001b[0m\u001b[0m\n",
      "\u001b[0;32m~/anaconda3/lib/python3.6/site-packages/keras/backend/tensorflow_backend.py\u001b[0m in \u001b[0;36m_call\u001b[0;34m(self, inputs)\u001b[0m\n\u001b[1;32m   2673\u001b[0m             \u001b[0mfetched\u001b[0m \u001b[0;34m=\u001b[0m \u001b[0mself\u001b[0m\u001b[0;34m.\u001b[0m\u001b[0m_callable_fn\u001b[0m\u001b[0;34m(\u001b[0m\u001b[0;34m*\u001b[0m\u001b[0marray_vals\u001b[0m\u001b[0;34m,\u001b[0m \u001b[0mrun_metadata\u001b[0m\u001b[0;34m=\u001b[0m\u001b[0mself\u001b[0m\u001b[0;34m.\u001b[0m\u001b[0mrun_metadata\u001b[0m\u001b[0;34m)\u001b[0m\u001b[0;34m\u001b[0m\u001b[0;34m\u001b[0m\u001b[0m\n\u001b[1;32m   2674\u001b[0m         \u001b[0;32melse\u001b[0m\u001b[0;34m:\u001b[0m\u001b[0;34m\u001b[0m\u001b[0;34m\u001b[0m\u001b[0m\n\u001b[0;32m-> 2675\u001b[0;31m             \u001b[0mfetched\u001b[0m \u001b[0;34m=\u001b[0m \u001b[0mself\u001b[0m\u001b[0;34m.\u001b[0m\u001b[0m_callable_fn\u001b[0m\u001b[0;34m(\u001b[0m\u001b[0;34m*\u001b[0m\u001b[0marray_vals\u001b[0m\u001b[0;34m)\u001b[0m\u001b[0;34m\u001b[0m\u001b[0;34m\u001b[0m\u001b[0m\n\u001b[0m\u001b[1;32m   2676\u001b[0m         \u001b[0;32mreturn\u001b[0m \u001b[0mfetched\u001b[0m\u001b[0;34m[\u001b[0m\u001b[0;34m:\u001b[0m\u001b[0mlen\u001b[0m\u001b[0;34m(\u001b[0m\u001b[0mself\u001b[0m\u001b[0;34m.\u001b[0m\u001b[0moutputs\u001b[0m\u001b[0;34m)\u001b[0m\u001b[0;34m]\u001b[0m\u001b[0;34m\u001b[0m\u001b[0;34m\u001b[0m\u001b[0m\n\u001b[1;32m   2677\u001b[0m \u001b[0;34m\u001b[0m\u001b[0m\n",
      "\u001b[0;32m~/anaconda3/lib/python3.6/site-packages/tensorflow/python/client/session.py\u001b[0m in \u001b[0;36m__call__\u001b[0;34m(self, *args, **kwargs)\u001b[0m\n\u001b[1;32m   1437\u001b[0m           ret = tf_session.TF_SessionRunCallable(\n\u001b[1;32m   1438\u001b[0m               \u001b[0mself\u001b[0m\u001b[0;34m.\u001b[0m\u001b[0m_session\u001b[0m\u001b[0;34m.\u001b[0m\u001b[0m_session\u001b[0m\u001b[0;34m,\u001b[0m \u001b[0mself\u001b[0m\u001b[0;34m.\u001b[0m\u001b[0m_handle\u001b[0m\u001b[0;34m,\u001b[0m \u001b[0margs\u001b[0m\u001b[0;34m,\u001b[0m \u001b[0mstatus\u001b[0m\u001b[0;34m,\u001b[0m\u001b[0;34m\u001b[0m\u001b[0;34m\u001b[0m\u001b[0m\n\u001b[0;32m-> 1439\u001b[0;31m               run_metadata_ptr)\n\u001b[0m\u001b[1;32m   1440\u001b[0m         \u001b[0;32mif\u001b[0m \u001b[0mrun_metadata\u001b[0m\u001b[0;34m:\u001b[0m\u001b[0;34m\u001b[0m\u001b[0;34m\u001b[0m\u001b[0m\n\u001b[1;32m   1441\u001b[0m           \u001b[0mproto_data\u001b[0m \u001b[0;34m=\u001b[0m \u001b[0mtf_session\u001b[0m\u001b[0;34m.\u001b[0m\u001b[0mTF_GetBuffer\u001b[0m\u001b[0;34m(\u001b[0m\u001b[0mrun_metadata_ptr\u001b[0m\u001b[0;34m)\u001b[0m\u001b[0;34m\u001b[0m\u001b[0;34m\u001b[0m\u001b[0m\n",
      "\u001b[0;32m~/anaconda3/lib/python3.6/site-packages/tensorflow/python/framework/errors_impl.py\u001b[0m in \u001b[0;36m__exit__\u001b[0;34m(self, type_arg, value_arg, traceback_arg)\u001b[0m\n\u001b[1;32m    526\u001b[0m             \u001b[0;32mNone\u001b[0m\u001b[0;34m,\u001b[0m \u001b[0;32mNone\u001b[0m\u001b[0;34m,\u001b[0m\u001b[0;34m\u001b[0m\u001b[0;34m\u001b[0m\u001b[0m\n\u001b[1;32m    527\u001b[0m             \u001b[0mcompat\u001b[0m\u001b[0;34m.\u001b[0m\u001b[0mas_text\u001b[0m\u001b[0;34m(\u001b[0m\u001b[0mc_api\u001b[0m\u001b[0;34m.\u001b[0m\u001b[0mTF_Message\u001b[0m\u001b[0;34m(\u001b[0m\u001b[0mself\u001b[0m\u001b[0;34m.\u001b[0m\u001b[0mstatus\u001b[0m\u001b[0;34m.\u001b[0m\u001b[0mstatus\u001b[0m\u001b[0;34m)\u001b[0m\u001b[0;34m)\u001b[0m\u001b[0;34m,\u001b[0m\u001b[0;34m\u001b[0m\u001b[0;34m\u001b[0m\u001b[0m\n\u001b[0;32m--> 528\u001b[0;31m             c_api.TF_GetCode(self.status.status))\n\u001b[0m\u001b[1;32m    529\u001b[0m     \u001b[0;31m# Delete the underlying status object from memory otherwise it stays alive\u001b[0m\u001b[0;34m\u001b[0m\u001b[0;34m\u001b[0m\u001b[0;34m\u001b[0m\u001b[0m\n\u001b[1;32m    530\u001b[0m     \u001b[0;31m# as there is a reference to status from this from the traceback due to\u001b[0m\u001b[0;34m\u001b[0m\u001b[0;34m\u001b[0m\u001b[0;34m\u001b[0m\u001b[0m\n",
      "\u001b[0;31mInvalidArgumentError\u001b[0m: indices[73,2] = -2147483648 is not in [0, 2143)\n\t [[{{node Movie-Embedding_hist/embedding_lookup}} = GatherV2[Taxis=DT_INT32, Tindices=DT_INT32, Tparams=DT_FLOAT, _class=[\"loc:@training/Adam/Assign_11\"], _device=\"/job:localhost/replica:0/task:0/device:CPU:0\"](Movie-Embedding_hist/embeddings/read, Movie-Embedding_hist/Cast, Movie-Embedding_hist/embedding_lookup/axis)]]"
     ]
    }
   ],
   "source": [
    "from keras.callbacks import EarlyStopping\n",
    "early_stopping = EarlyStopping(monitor='val_loss', patience=20)\n",
    "\n",
    "history_2 = model.fit([u_id,m_id,u_hist,m_hist], t_y, epochs=100,batch_size=128,\n",
    "                      validation_data = ([u_id2,m_id2,u_hist2,m_hist2],e_y), callbacks=[early_stopping])"
   ]
  },
  {
   "cell_type": "code",
   "execution_count": 123,
   "metadata": {},
   "outputs": [
    {
     "data": {
      "text/plain": [
       "pandas.core.frame.DataFrame"
      ]
     },
     "execution_count": 123,
     "metadata": {},
     "output_type": "execute_result"
    }
   ],
   "source": [
    "type(teProcessed)"
   ]
  },
  {
   "cell_type": "code",
   "execution_count": 55,
   "metadata": {
    "collapsed": true
   },
   "outputs": [],
   "source": [
    "from keras.models import load_model\n",
    "model = load_model('history_2.h5')"
   ]
  },
  {
   "cell_type": "code",
   "execution_count": 50,
   "metadata": {
    "collapsed": true
   },
   "outputs": [],
   "source": [
    "alldata=pd.concat([trProcessed2,teProcessed])"
   ]
  },
  {
   "cell_type": "code",
   "execution_count": 51,
   "metadata": {
    "collapsed": true
   },
   "outputs": [],
   "source": [
    "v1 = alldata['user_id'].values\n",
    "v2 = alldata['candidate_movie_id'].values\n",
    "v3 = alldata[['user_id','anime_id_len']]\n",
    "v4 = alldata[['candidate_movie_id','genre_len','rating','members']]\n",
    "\n"
   ]
  },
  {
   "cell_type": "code",
   "execution_count": 52,
   "metadata": {
    "collapsed": true
   },
   "outputs": [],
   "source": [
    "y_true = alldata['rating_x']"
   ]
  },
  {
   "cell_type": "code",
   "execution_count": 56,
   "metadata": {},
   "outputs": [
    {
     "ename": "InvalidArgumentError",
     "evalue": "indices[23,2] = -2147483648 is not in [0, 2143)\n\t [[{{node Movie-Embedding_hist_2/embedding_lookup}} = GatherV2[Taxis=DT_INT32, Tindices=DT_INT32, Tparams=DT_FLOAT, _device=\"/job:localhost/replica:0/task:0/device:CPU:0\"](Movie-Embedding_hist_2/embeddings/read, Movie-Embedding_hist_2/Cast, Movie-Embedding_hist_2/embedding_lookup/axis)]]",
     "output_type": "error",
     "traceback": [
      "\u001b[0;31m---------------------------------------------------------------------------\u001b[0m",
      "\u001b[0;31mInvalidArgumentError\u001b[0m                      Traceback (most recent call last)",
      "\u001b[0;32m<ipython-input-56-1d8b13233182>\u001b[0m in \u001b[0;36m<module>\u001b[0;34m()\u001b[0m\n\u001b[0;32m----> 1\u001b[0;31m \u001b[0my_hat\u001b[0m\u001b[0;34m=\u001b[0m \u001b[0mnp\u001b[0m\u001b[0;34m.\u001b[0m\u001b[0mround\u001b[0m\u001b[0;34m(\u001b[0m\u001b[0mmodel\u001b[0m\u001b[0;34m.\u001b[0m\u001b[0mpredict\u001b[0m\u001b[0;34m(\u001b[0m\u001b[0;34m[\u001b[0m\u001b[0mv1\u001b[0m\u001b[0;34m,\u001b[0m\u001b[0mv2\u001b[0m\u001b[0;34m,\u001b[0m\u001b[0mv3\u001b[0m\u001b[0;34m,\u001b[0m\u001b[0mv4\u001b[0m\u001b[0;34m]\u001b[0m\u001b[0;34m)\u001b[0m\u001b[0;34m,\u001b[0m\u001b[0;36m0\u001b[0m\u001b[0;34m)\u001b[0m\u001b[0;34m\u001b[0m\u001b[0;34m\u001b[0m\u001b[0m\n\u001b[0m",
      "\u001b[0;32m~/anaconda3/lib/python3.6/site-packages/keras/engine/training.py\u001b[0m in \u001b[0;36mpredict\u001b[0;34m(self, x, batch_size, verbose, steps)\u001b[0m\n\u001b[1;32m   1167\u001b[0m                                             \u001b[0mbatch_size\u001b[0m\u001b[0;34m=\u001b[0m\u001b[0mbatch_size\u001b[0m\u001b[0;34m,\u001b[0m\u001b[0;34m\u001b[0m\u001b[0;34m\u001b[0m\u001b[0m\n\u001b[1;32m   1168\u001b[0m                                             \u001b[0mverbose\u001b[0m\u001b[0;34m=\u001b[0m\u001b[0mverbose\u001b[0m\u001b[0;34m,\u001b[0m\u001b[0;34m\u001b[0m\u001b[0;34m\u001b[0m\u001b[0m\n\u001b[0;32m-> 1169\u001b[0;31m                                             steps=steps)\n\u001b[0m\u001b[1;32m   1170\u001b[0m \u001b[0;34m\u001b[0m\u001b[0m\n\u001b[1;32m   1171\u001b[0m     def train_on_batch(self, x, y,\n",
      "\u001b[0;32m~/anaconda3/lib/python3.6/site-packages/keras/engine/training_arrays.py\u001b[0m in \u001b[0;36mpredict_loop\u001b[0;34m(model, f, ins, batch_size, verbose, steps)\u001b[0m\n\u001b[1;32m    292\u001b[0m                 \u001b[0mins_batch\u001b[0m\u001b[0;34m[\u001b[0m\u001b[0mi\u001b[0m\u001b[0;34m]\u001b[0m \u001b[0;34m=\u001b[0m \u001b[0mins_batch\u001b[0m\u001b[0;34m[\u001b[0m\u001b[0mi\u001b[0m\u001b[0;34m]\u001b[0m\u001b[0;34m.\u001b[0m\u001b[0mtoarray\u001b[0m\u001b[0;34m(\u001b[0m\u001b[0;34m)\u001b[0m\u001b[0;34m\u001b[0m\u001b[0;34m\u001b[0m\u001b[0m\n\u001b[1;32m    293\u001b[0m \u001b[0;34m\u001b[0m\u001b[0m\n\u001b[0;32m--> 294\u001b[0;31m             \u001b[0mbatch_outs\u001b[0m \u001b[0;34m=\u001b[0m \u001b[0mf\u001b[0m\u001b[0;34m(\u001b[0m\u001b[0mins_batch\u001b[0m\u001b[0;34m)\u001b[0m\u001b[0;34m\u001b[0m\u001b[0;34m\u001b[0m\u001b[0m\n\u001b[0m\u001b[1;32m    295\u001b[0m             \u001b[0mbatch_outs\u001b[0m \u001b[0;34m=\u001b[0m \u001b[0mto_list\u001b[0m\u001b[0;34m(\u001b[0m\u001b[0mbatch_outs\u001b[0m\u001b[0;34m)\u001b[0m\u001b[0;34m\u001b[0m\u001b[0;34m\u001b[0m\u001b[0m\n\u001b[1;32m    296\u001b[0m             \u001b[0;32mif\u001b[0m \u001b[0mbatch_index\u001b[0m \u001b[0;34m==\u001b[0m \u001b[0;36m0\u001b[0m\u001b[0;34m:\u001b[0m\u001b[0;34m\u001b[0m\u001b[0;34m\u001b[0m\u001b[0m\n",
      "\u001b[0;32m~/anaconda3/lib/python3.6/site-packages/keras/backend/tensorflow_backend.py\u001b[0m in \u001b[0;36m__call__\u001b[0;34m(self, inputs)\u001b[0m\n\u001b[1;32m   2713\u001b[0m                 \u001b[0;32mreturn\u001b[0m \u001b[0mself\u001b[0m\u001b[0;34m.\u001b[0m\u001b[0m_legacy_call\u001b[0m\u001b[0;34m(\u001b[0m\u001b[0minputs\u001b[0m\u001b[0;34m)\u001b[0m\u001b[0;34m\u001b[0m\u001b[0;34m\u001b[0m\u001b[0m\n\u001b[1;32m   2714\u001b[0m \u001b[0;34m\u001b[0m\u001b[0m\n\u001b[0;32m-> 2715\u001b[0;31m             \u001b[0;32mreturn\u001b[0m \u001b[0mself\u001b[0m\u001b[0;34m.\u001b[0m\u001b[0m_call\u001b[0m\u001b[0;34m(\u001b[0m\u001b[0minputs\u001b[0m\u001b[0;34m)\u001b[0m\u001b[0;34m\u001b[0m\u001b[0;34m\u001b[0m\u001b[0m\n\u001b[0m\u001b[1;32m   2716\u001b[0m         \u001b[0;32melse\u001b[0m\u001b[0;34m:\u001b[0m\u001b[0;34m\u001b[0m\u001b[0;34m\u001b[0m\u001b[0m\n\u001b[1;32m   2717\u001b[0m             \u001b[0;32mif\u001b[0m \u001b[0mpy_any\u001b[0m\u001b[0;34m(\u001b[0m\u001b[0mis_tensor\u001b[0m\u001b[0;34m(\u001b[0m\u001b[0mx\u001b[0m\u001b[0;34m)\u001b[0m \u001b[0;32mfor\u001b[0m \u001b[0mx\u001b[0m \u001b[0;32min\u001b[0m \u001b[0minputs\u001b[0m\u001b[0;34m)\u001b[0m\u001b[0;34m:\u001b[0m\u001b[0;34m\u001b[0m\u001b[0;34m\u001b[0m\u001b[0m\n",
      "\u001b[0;32m~/anaconda3/lib/python3.6/site-packages/keras/backend/tensorflow_backend.py\u001b[0m in \u001b[0;36m_call\u001b[0;34m(self, inputs)\u001b[0m\n\u001b[1;32m   2673\u001b[0m             \u001b[0mfetched\u001b[0m \u001b[0;34m=\u001b[0m \u001b[0mself\u001b[0m\u001b[0;34m.\u001b[0m\u001b[0m_callable_fn\u001b[0m\u001b[0;34m(\u001b[0m\u001b[0;34m*\u001b[0m\u001b[0marray_vals\u001b[0m\u001b[0;34m,\u001b[0m \u001b[0mrun_metadata\u001b[0m\u001b[0;34m=\u001b[0m\u001b[0mself\u001b[0m\u001b[0;34m.\u001b[0m\u001b[0mrun_metadata\u001b[0m\u001b[0;34m)\u001b[0m\u001b[0;34m\u001b[0m\u001b[0;34m\u001b[0m\u001b[0m\n\u001b[1;32m   2674\u001b[0m         \u001b[0;32melse\u001b[0m\u001b[0;34m:\u001b[0m\u001b[0;34m\u001b[0m\u001b[0;34m\u001b[0m\u001b[0m\n\u001b[0;32m-> 2675\u001b[0;31m             \u001b[0mfetched\u001b[0m \u001b[0;34m=\u001b[0m \u001b[0mself\u001b[0m\u001b[0;34m.\u001b[0m\u001b[0m_callable_fn\u001b[0m\u001b[0;34m(\u001b[0m\u001b[0;34m*\u001b[0m\u001b[0marray_vals\u001b[0m\u001b[0;34m)\u001b[0m\u001b[0;34m\u001b[0m\u001b[0;34m\u001b[0m\u001b[0m\n\u001b[0m\u001b[1;32m   2676\u001b[0m         \u001b[0;32mreturn\u001b[0m \u001b[0mfetched\u001b[0m\u001b[0;34m[\u001b[0m\u001b[0;34m:\u001b[0m\u001b[0mlen\u001b[0m\u001b[0;34m(\u001b[0m\u001b[0mself\u001b[0m\u001b[0;34m.\u001b[0m\u001b[0moutputs\u001b[0m\u001b[0;34m)\u001b[0m\u001b[0;34m]\u001b[0m\u001b[0;34m\u001b[0m\u001b[0;34m\u001b[0m\u001b[0m\n\u001b[1;32m   2677\u001b[0m \u001b[0;34m\u001b[0m\u001b[0m\n",
      "\u001b[0;32m~/anaconda3/lib/python3.6/site-packages/tensorflow/python/client/session.py\u001b[0m in \u001b[0;36m__call__\u001b[0;34m(self, *args, **kwargs)\u001b[0m\n\u001b[1;32m   1437\u001b[0m           ret = tf_session.TF_SessionRunCallable(\n\u001b[1;32m   1438\u001b[0m               \u001b[0mself\u001b[0m\u001b[0;34m.\u001b[0m\u001b[0m_session\u001b[0m\u001b[0;34m.\u001b[0m\u001b[0m_session\u001b[0m\u001b[0;34m,\u001b[0m \u001b[0mself\u001b[0m\u001b[0;34m.\u001b[0m\u001b[0m_handle\u001b[0m\u001b[0;34m,\u001b[0m \u001b[0margs\u001b[0m\u001b[0;34m,\u001b[0m \u001b[0mstatus\u001b[0m\u001b[0;34m,\u001b[0m\u001b[0;34m\u001b[0m\u001b[0;34m\u001b[0m\u001b[0m\n\u001b[0;32m-> 1439\u001b[0;31m               run_metadata_ptr)\n\u001b[0m\u001b[1;32m   1440\u001b[0m         \u001b[0;32mif\u001b[0m \u001b[0mrun_metadata\u001b[0m\u001b[0;34m:\u001b[0m\u001b[0;34m\u001b[0m\u001b[0;34m\u001b[0m\u001b[0m\n\u001b[1;32m   1441\u001b[0m           \u001b[0mproto_data\u001b[0m \u001b[0;34m=\u001b[0m \u001b[0mtf_session\u001b[0m\u001b[0;34m.\u001b[0m\u001b[0mTF_GetBuffer\u001b[0m\u001b[0;34m(\u001b[0m\u001b[0mrun_metadata_ptr\u001b[0m\u001b[0;34m)\u001b[0m\u001b[0;34m\u001b[0m\u001b[0;34m\u001b[0m\u001b[0m\n",
      "\u001b[0;32m~/anaconda3/lib/python3.6/site-packages/tensorflow/python/framework/errors_impl.py\u001b[0m in \u001b[0;36m__exit__\u001b[0;34m(self, type_arg, value_arg, traceback_arg)\u001b[0m\n\u001b[1;32m    526\u001b[0m             \u001b[0;32mNone\u001b[0m\u001b[0;34m,\u001b[0m \u001b[0;32mNone\u001b[0m\u001b[0;34m,\u001b[0m\u001b[0;34m\u001b[0m\u001b[0;34m\u001b[0m\u001b[0m\n\u001b[1;32m    527\u001b[0m             \u001b[0mcompat\u001b[0m\u001b[0;34m.\u001b[0m\u001b[0mas_text\u001b[0m\u001b[0;34m(\u001b[0m\u001b[0mc_api\u001b[0m\u001b[0;34m.\u001b[0m\u001b[0mTF_Message\u001b[0m\u001b[0;34m(\u001b[0m\u001b[0mself\u001b[0m\u001b[0;34m.\u001b[0m\u001b[0mstatus\u001b[0m\u001b[0;34m.\u001b[0m\u001b[0mstatus\u001b[0m\u001b[0;34m)\u001b[0m\u001b[0;34m)\u001b[0m\u001b[0;34m,\u001b[0m\u001b[0;34m\u001b[0m\u001b[0;34m\u001b[0m\u001b[0m\n\u001b[0;32m--> 528\u001b[0;31m             c_api.TF_GetCode(self.status.status))\n\u001b[0m\u001b[1;32m    529\u001b[0m     \u001b[0;31m# Delete the underlying status object from memory otherwise it stays alive\u001b[0m\u001b[0;34m\u001b[0m\u001b[0;34m\u001b[0m\u001b[0;34m\u001b[0m\u001b[0m\n\u001b[1;32m    530\u001b[0m     \u001b[0;31m# as there is a reference to status from this from the traceback due to\u001b[0m\u001b[0;34m\u001b[0m\u001b[0;34m\u001b[0m\u001b[0;34m\u001b[0m\u001b[0m\n",
      "\u001b[0;31mInvalidArgumentError\u001b[0m: indices[23,2] = -2147483648 is not in [0, 2143)\n\t [[{{node Movie-Embedding_hist_2/embedding_lookup}} = GatherV2[Taxis=DT_INT32, Tindices=DT_INT32, Tparams=DT_FLOAT, _device=\"/job:localhost/replica:0/task:0/device:CPU:0\"](Movie-Embedding_hist_2/embeddings/read, Movie-Embedding_hist_2/Cast, Movie-Embedding_hist_2/embedding_lookup/axis)]]"
     ]
    }
   ],
   "source": [
    "y_hat= np.round(model.predict([v1,v2,v3,v4]),0)\n"
   ]
  },
  {
   "cell_type": "code",
   "execution_count": null,
   "metadata": {
    "collapsed": true
   },
   "outputs": [],
   "source": [
    "#print(sum((y_true - y_hat)**2))"
   ]
  },
  {
   "cell_type": "code",
   "execution_count": null,
   "metadata": {
    "collapsed": true
   },
   "outputs": [],
   "source": [
    "alldata['y_hat'] = y_hat"
   ]
  },
  {
   "cell_type": "code",
   "execution_count": null,
   "metadata": {
    "collapsed": true
   },
   "outputs": [],
   "source": []
  },
  {
   "cell_type": "code",
   "execution_count": null,
   "metadata": {
    "collapsed": true
   },
   "outputs": [],
   "source": []
  },
  {
   "cell_type": "code",
   "execution_count": null,
   "metadata": {
    "collapsed": true
   },
   "outputs": [],
   "source": []
  },
  {
   "cell_type": "code",
   "execution_count": null,
   "metadata": {
    "collapsed": true
   },
   "outputs": [],
   "source": []
  },
  {
   "cell_type": "code",
   "execution_count": null,
   "metadata": {
    "collapsed": true
   },
   "outputs": [],
   "source": []
  },
  {
   "cell_type": "code",
   "execution_count": null,
   "metadata": {
    "collapsed": true
   },
   "outputs": [],
   "source": []
  },
  {
   "cell_type": "code",
   "execution_count": null,
   "metadata": {
    "collapsed": true
   },
   "outputs": [],
   "source": []
  },
  {
   "cell_type": "code",
   "execution_count": null,
   "metadata": {
    "collapsed": true
   },
   "outputs": [],
   "source": []
  }
 ],
 "metadata": {
  "kernelspec": {
   "display_name": "Python 3",
   "language": "python",
   "name": "python3"
  },
  "language_info": {
   "codemirror_mode": {
    "name": "ipython",
    "version": 3
   },
   "file_extension": ".py",
   "mimetype": "text/x-python",
   "name": "python",
   "nbconvert_exporter": "python",
   "pygments_lexer": "ipython3",
   "version": "3.6.8"
  }
 },
 "nbformat": 4,
 "nbformat_minor": 2
}
